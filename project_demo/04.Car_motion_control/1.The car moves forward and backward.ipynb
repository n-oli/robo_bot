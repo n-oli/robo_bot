{
 "cells": [
  {
   "cell_type": "raw",
   "metadata": {},
   "source": [
    "@Copyright (C): 2015-2024, Shenzhen Yahboom Tech  \n",
    "@Author: clhchan\n",
    "@Date: 2024-07-16 10:10:02  "
   ]
  },
  {
   "cell_type": "code",
   "execution_count": null,
   "metadata": {},
   "outputs": [],
   "source": [
    "import sys\n",
    "sys.path.append('/home/pi/project_demo/lib')\n",
    "#导入麦克纳姆小车驱动库 Import Mecanum Car Driver Library\n",
    "from McLumk_Wheel_Sports import *"
   ]
  },
  {
   "cell_type": "code",
   "execution_count": null,
   "metadata": {},
   "outputs": [],
   "source": [
    "def main():\n",
    "    # 定义移动速度和持续时间 Define movement speed and duration\n",
    "    duration = 1\n",
    "    speed = 100\n",
    "    try:\n",
    "        move_forward(speed)\n",
    "        time.sleep(duration)\n",
    "        stop_robot()\n",
    "        time.sleep(0.5)\n",
    "        move_backward(speed)\n",
    "        time.sleep(duration)\n",
    "        stop_robot()\n",
    "        time.sleep(0.5)\n",
    "    except KeyboardInterrupt:\n",
    "        # 当用户按下停止时，停止小车运动功能 When the user presses the stop button, the car stops moving.\n",
    "            stop_robot()\n",
    "            print(\"off.\")\n",
    "\n",
    "\n",
    "if __name__ == \"__main__\":\n",
    "    main()"
   ]
  },
  {
   "cell_type": "code",
   "execution_count": null,
   "metadata": {},
   "outputs": [],
   "source": [
    "#使用完成对象记住释放掉对象，不然下一个程序使用这个对象模块会被占用，导致无法使用\n",
    "#Release Object\n",
    "del bot     "
   ]
  }
 ],
 "metadata": {
  "kernelspec": {
   "display_name": "Python 3 (ipykernel)",
   "language": "python",
   "name": "python3"
  },
  "language_info": {
   "codemirror_mode": {
    "name": "ipython",
    "version": 3
   },
   "file_extension": ".py",
   "mimetype": "text/x-python",
   "name": "python",
   "nbconvert_exporter": "python",
   "pygments_lexer": "ipython3",
   "version": "3.11.2"
  }
 },
 "nbformat": 4,
 "nbformat_minor": 4
}
