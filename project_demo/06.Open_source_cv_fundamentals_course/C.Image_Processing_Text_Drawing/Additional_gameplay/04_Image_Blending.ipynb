{
 "cells": [
  {
   "cell_type": "markdown",
   "metadata": {},
   "source": [
    "@Copyright (C): 2015-2024, Shenzhen Yahboom Tech  \n",
    "@Author: clhchan\n",
    "@Date: 2024-07-24 "
   ]
  },
  {
   "cell_type": "code",
   "execution_count": null,
   "metadata": {},
   "outputs": [],
   "source": [
    "# dst  = src1*a+src2*(1-a)\n",
    "import cv2\n",
    "import numpy as np\n",
    "import matplotlib.pyplot as plt\n",
    "\n",
    "img0 = cv2.imread('image0.jpg', 1)\n",
    "img1 = cv2.imread('image1.jpg', 1)\n",
    "imgInfo = img0.shape\n",
    "height = imgInfo[0]\n",
    "width = imgInfo[1]\n",
    "# ROI\n",
    "roiH = int(height/2)\n",
    "roiW = int(width/2)\n",
    "img0ROI = img0[0:roiH, 0:roiW]\n",
    "img1ROI = img1[0:roiH, 0:roiW]\n",
    "# dst\n",
    "dst = np.zeros((roiH, roiW, 3), np.uint8)\n",
    "dst = cv2.addWeighted(img0ROI, 0.5, img1ROI, 0.5, 0) #add src1*a+src2*(1-a)\n",
    "# 1 src1 2 a 3 src2 4 1-a\n",
    "# cv2.imshow('dst',dst)\n",
    "# cv2.waitKey(0)"
   ]
  },
  {
   "cell_type": "markdown",
   "metadata": {},
   "source": [
    "# 原始图像0"
   ]
  },
  {
   "cell_type": "code",
   "execution_count": null,
   "metadata": {},
   "outputs": [],
   "source": [
    "img_bgr2rgb1 = cv2.cvtColor(img0, cv2.COLOR_BGR2RGB)\n",
    "plt.imshow(img_bgr2rgb1)\n",
    "plt.show()"
   ]
  },
  {
   "cell_type": "markdown",
   "metadata": {},
   "source": [
    "# 原始图像1"
   ]
  },
  {
   "cell_type": "code",
   "execution_count": null,
   "metadata": {},
   "outputs": [],
   "source": [
    "img_bgr2rgb1 = cv2.cvtColor(img1, cv2.COLOR_BGR2RGB)\n",
    "plt.imshow(img_bgr2rgb1)\n",
    "plt.show()"
   ]
  },
  {
   "cell_type": "markdown",
   "metadata": {},
   "source": [
    "# 融合后图像"
   ]
  },
  {
   "cell_type": "code",
   "execution_count": null,
   "metadata": {},
   "outputs": [],
   "source": [
    "img_bgr2rgb0 = cv2.cvtColor(dst, cv2.COLOR_BGR2RGB)\n",
    "plt.imshow(img_bgr2rgb0)\n",
    "plt.show()"
   ]
  }
 ],
 "metadata": {
  "kernelspec": {
   "display_name": "Python 3",
   "language": "python",
   "name": "python3"
  },
  "language_info": {
   "codemirror_mode": {
    "name": "ipython",
    "version": 3
   },
   "file_extension": ".py",
   "mimetype": "text/x-python",
   "name": "python",
   "nbconvert_exporter": "python",
   "pygments_lexer": "ipython3",
   "version": "3.11.2"
  }
 },
 "nbformat": 4,
 "nbformat_minor": 4
}
