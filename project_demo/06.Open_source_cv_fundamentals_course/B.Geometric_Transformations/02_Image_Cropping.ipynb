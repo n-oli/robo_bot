{
 "cells": [
  {
   "cell_type": "raw",
   "metadata": {},
   "source": [
    "@Copyright (C): 2015-2024, Shenzhen Yahboom Tech  \n",
    "@Author: clhchan\n",
    "@Date: 2024-07-24 "
   ]
  },
  {
   "cell_type": "code",
   "execution_count": null,
   "metadata": {},
   "outputs": [],
   "source": [
    "\n",
    "import cv2\n",
    "img = cv2.imread('yahboom.jpg', 1)\n",
    "\n",
    "dst = img[500:700,300:500]  #这里选取矩形区域X：300-500  Y：500-700 Here we select a rectangular area X: 300-500 Y: 500-700\n",
    "\n",
    "#cv2.imshow('image',dst)\n",
    "#cv2.waitKey(0)"
   ]
  },
  {
   "cell_type": "markdown",
   "metadata": {},
   "source": [
    "# 以下会在jupyterLab控件中显示效果 The following will show the effect in the jupyterLab control\n"
   ]
  },
  {
   "cell_type": "code",
   "execution_count": null,
   "metadata": {},
   "outputs": [],
   "source": [
    "#bgr8转jpeg格式 bgr8 to jpeg format\n",
    "import enum\n",
    "import cv2\n",
    "\n",
    "def bgr8_to_jpeg(value, quality=75):\n",
    "    return bytes(cv2.imencode('.jpg', value)[1])"
   ]
  },
  {
   "cell_type": "code",
   "execution_count": null,
   "metadata": {},
   "outputs": [],
   "source": [
    "import ipywidgets.widgets as widgets\n",
    "\n",
    "image_widget1 = widgets.Image(format='jpg', )\n",
    "image_widget2 = widgets.Image(format='jpg', )\n",
    "\n",
    "# display the container in this cell's output\n",
    "display(image_widget1)\n",
    "display(image_widget2)\n",
    "\n",
    "img1 = cv2.imread('yahboom.jpg',1)\n",
    "\n",
    "image_widget1.value = bgr8_to_jpeg(img1)  #原始图像 The original image\n",
    "image_widget2.value = bgr8_to_jpeg(dst)   #剪切的图像 cropped image"
   ]
  },
  {
   "cell_type": "code",
   "execution_count": null,
   "metadata": {},
   "outputs": [],
   "source": []
  }
 ],
 "metadata": {
  "kernelspec": {
   "display_name": "Python 3 (ipykernel)",
   "language": "python",
   "name": "python3"
  },
  "language_info": {
   "codemirror_mode": {
    "name": "ipython",
    "version": 3
   },
   "file_extension": ".py",
   "mimetype": "text/x-python",
   "name": "python",
   "nbconvert_exporter": "python",
   "pygments_lexer": "ipython3",
   "version": "3.11.2"
  }
 },
 "nbformat": 4,
 "nbformat_minor": 4
}
