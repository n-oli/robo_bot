{
 "cells": [
  {
   "cell_type": "raw",
   "metadata": {},
   "source": [
    "@Copyright (C): 2015-2024, Shenzhen Yahboom Tech  \n",
    "@Author: clhchan\n",
    "@Date: 2024-07-24 "
   ]
  },
  {
   "cell_type": "code",
   "execution_count": 1,
   "metadata": {},
   "outputs": [],
   "source": [
    "#!/usr/bin/env python3\n",
    "# -*- coding: utf-8 -*-\n",
    "\n",
    "import numpy as np\n",
    "import operator\n",
    "import os"
   ]
  },
  {
   "cell_type": "code",
   "execution_count": 2,
   "metadata": {},
   "outputs": [],
   "source": [
    "# 将图像数据转换为（1，1024）向量 Convert the image data to a (1, 1024) vector\n",
    "def img2vector(filename): \n",
    "    returnVect = np.zeros((1, 1024))\n",
    "    file = open(filename)\n",
    "    for i in range(32):\n",
    "        lineStr = file.readline()\n",
    "        for j in range(32):\n",
    "            returnVect[0, 32 * i + j] = int(lineStr[j])\n",
    "    return returnVect"
   ]
  },
  {
   "cell_type": "code",
   "execution_count": 3,
   "metadata": {},
   "outputs": [],
   "source": [
    "# KNN分类器 KNN Classifier\n",
    "def classifier(inX, dataSet, labels, k):\n",
    "    \n",
    "    #numpy中shape[0]返回数组的行数，shape[1]返回列数 In numpy, shape[0] returns the number of rows in the array, and shape[1] returns the number of columns\n",
    "    #MDS降维操作 MDS Dimensionality Reduction Operation\n",
    "    dataSetSize = dataSet.shape[0]\n",
    "    #去逆矩阵 De-invert matrix\n",
    "    diffMat = np.tile(inX, (dataSetSize, 1)) - dataSet\n",
    "    #二维特征相减后乘方 Subtract two-dimensional features and then square them\n",
    "    sqDiffMat = diffMat ** 2\n",
    "    #计算距离 Calculating distance\n",
    "    sqDistances = sqDiffMat.sum(axis=1)\n",
    "    distances = sqDistances ** 0.5\n",
    "    print (\"distances:\",distances)\n",
    "    #返回distance中元素从小到大排序后的索引 Returns the index of the elements in distance sorted from small to large\n",
    "    sortedDistIndicies = distances.argsort()\n",
    "    print (\"sortDistance:\",sortedDistIndicies)\n",
    "    classCount = {}\n",
    "    for i in range(k):\n",
    "        #取出前k个元素的类别 Take out the categories of the first k elements\n",
    "        voteIlabel = labels[sortedDistIndicies[i]]\n",
    "        classCount[voteIlabel] = classCount.get(voteIlabel, 0) + 1\n",
    "    #reverse降序排序字典 reverse sort dictionary in descending order\n",
    "    sortedClassCount = sorted(classCount.items(), key=operator.itemgetter(1), reverse=True)\n",
    "    return sortedClassCount[0][0]"
   ]
  },
  {
   "cell_type": "markdown",
   "metadata": {},
   "source": [
    "# 下面单独测试一张图片，看下识别结果是怎么样的 Let's test a picture separately to see what the recognition result is."
   ]
  },
  {
   "cell_type": "code",
   "execution_count": 4,
   "metadata": {},
   "outputs": [],
   "source": [
    "#图像数据转换为txt文件 Convert image data to txt file\n",
    "\n",
    "from PIL import Image\n",
    "\"\"\"\n",
    "    将图像数据转换为txt文件 Convert image data to txt file\n",
    "    :param img_path: 图像文件路径 param img_path: image file path\n",
    "    :type txt_name: 输出txt文件路径 type txt_name: output txt file path\n",
    "\"\"\"\n",
    "def img2txt(img_path, txt_name):\n",
    "    \n",
    "    im = Image.open(img_path).convert('1').resize((32, 32))  # type:Image.Image\n",
    "    data = np.asarray(im)\n",
    "    np.savetxt(txt_name, data, fmt='%d', delimiter='')"
   ]
  },
  {
   "cell_type": "code",
   "execution_count": 5,
   "metadata": {},
   "outputs": [],
   "source": [
    "#转换图片转化成32*32数组 Convert the image into a 32*32 array\n",
    "\n",
    "img2txt(\"8.png\", \"8.txt\")"
   ]
  },
  {
   "cell_type": "code",
   "execution_count": 6,
   "metadata": {},
   "outputs": [],
   "source": [
    "#训练部分 Training\n",
    "\n",
    "hwLabels = []\n",
    "trainingFileList = os.listdir('knn-digits/trainingDigits')\n",
    "m = len(trainingFileList)\n",
    "trainingMat = np.zeros((m, 1024))\n",
    "for i in range(m):\n",
    "    fileNameStr = trainingFileList[i]\n",
    "    fileStr = fileNameStr.split('.')[0]  \n",
    "    try:\n",
    "#         if(fileStr.split('_')[0] == ''):\n",
    "#             continue\n",
    "#         else:\n",
    "        classNumStr = int(fileStr.split('_')[0])\n",
    "    except Exception as e:\n",
    "        print('Error:', e)\n",
    "\n",
    "    hwLabels.append(classNumStr)\n",
    "    trainingMat[i, :] = img2vector(\"knn-digits/trainingDigits/%s\" % fileNameStr)"
   ]
  },
  {
   "cell_type": "code",
   "execution_count": 7,
   "metadata": {},
   "outputs": [
    {
     "name": "stdout",
     "output_type": "stream",
     "text": [
      "distances: [18.94729532 17.66352173 16.1245155  ... 16.79285562 17.23368794\n",
      " 17.4642492 ]\n",
      "sortDistance: [ 103  861 1182 ... 1291  658 1687]\n",
      "The classification result is: 8, the true result is: 8\n"
     ]
    }
   ],
   "source": [
    "#测试数据分类结果 Test data classification results\n",
    "\n",
    "fileStr = \"8.txt\"\n",
    "classNumStr = int(fileStr.split('.')[0])\n",
    "vectorTest = img2vector(\"./8.txt\")\n",
    "\n",
    "#print(vectorTest[0][])\n",
    "\n",
    "result = classifier(vectorTest, trainingMat, hwLabels, 3)  # k=3\n",
    "print(\"The classification result is: %d, the true result is: %d\" % (result, classNumStr))\n",
    "\n"
   ]
  }
 ],
 "metadata": {
  "kernelspec": {
   "display_name": "Python 3 (ipykernel)",
   "language": "python",
   "name": "python3"
  },
  "language_info": {
   "codemirror_mode": {
    "name": "ipython",
    "version": 3
   },
   "file_extension": ".py",
   "mimetype": "text/x-python",
   "name": "python",
   "nbconvert_exporter": "python",
   "pygments_lexer": "ipython3",
   "version": "3.11.2"
  }
 },
 "nbformat": 4,
 "nbformat_minor": 4
}
