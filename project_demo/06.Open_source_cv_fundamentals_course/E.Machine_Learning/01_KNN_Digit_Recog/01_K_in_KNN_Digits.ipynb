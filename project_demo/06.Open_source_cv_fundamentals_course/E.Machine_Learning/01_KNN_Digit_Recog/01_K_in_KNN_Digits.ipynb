{
 "cells": [
  {
   "cell_type": "raw",
   "metadata": {},
   "source": [
    "@Copyright (C): 2015-2024, Shenzhen Yahboom Tech  \n",
    "@Author: clhchan\n",
    "@Date: 2024-07-24 "
   ]
  },
  {
   "cell_type": "code",
   "execution_count": null,
   "metadata": {},
   "outputs": [],
   "source": [
    "#!/usr/bin/env python3\n",
    "# -*- coding: utf-8 -*-\n",
    "\n",
    "import numpy\n",
    "import operator\n",
    "import os\n",
    "import matplotlib.pyplot as plt\n"
   ]
  },
  {
   "cell_type": "code",
   "execution_count": null,
   "metadata": {},
   "outputs": [],
   "source": [
    "# 将图像数据转换为（1，1024）向量 Convert the image data to a (1, 1024) vector\n",
    "def img2vector(filename):\n",
    "    returnVect = numpy.zeros((1, 1024))\n",
    "    file = open(filename)\n",
    "    for i in range(32):\n",
    "        lineStr = file.readline()\n",
    "        for j in range(32):\n",
    "            returnVect[0, 32 * i + j] = int(lineStr[j])\n",
    "    return returnVect"
   ]
  },
  {
   "cell_type": "code",
   "execution_count": null,
   "metadata": {},
   "outputs": [],
   "source": [
    "# kNN分类器 kNN Classifier\n",
    "def classifier(inX, dataSet, labels, k):\n",
    "    #numpy中shape[0]返回数组的行数，shape[1]返回列数 In numpy, shape[0] returns the number of rows in the array, and shape[1] returns the number of columns\n",
    "    #MDS降维操作 MDS Dimensionality Reduction Operation\n",
    "    dataSetSize = dataSet.shape[0]\n",
    "    #去逆矩阵 De-invert matrix\n",
    "    diffMat = numpy.tile(inX, (dataSetSize, 1)) - dataSet\n",
    "    #二维特征相减后乘方 Subtract two-dimensional features and then square them\n",
    "    sqDiffMat = diffMat ** 2\n",
    "    #计算距离 Calculating distance\n",
    "    sqDistances = sqDiffMat.sum(axis=1)\n",
    "    distances = sqDistances ** 0.5\n",
    "    print (\"distances:\",distances)\n",
    "    #返回distance中元素从小到大排序后的索引 Returns the index of the elements in distance sorted from small to large\n",
    "    sortedDistIndicies = distances.argsort()\n",
    "    print (\"sortDistance:\",sortedDistIndicies)\n",
    "    classCount = {}\n",
    "    for i in range(k):\n",
    "        #取出前k个元素的类别 Take out the categories of the first k elements\n",
    "        voteIlabel = labels[sortedDistIndicies[i]]\n",
    "        classCount[voteIlabel] = classCount.get(voteIlabel, 0) + 1\n",
    "    #reverse降序排序字典 reverse sort dictionary in descending order\n",
    "    sortedClassCount = sorted(classCount.items(), key=operator.itemgetter(1), reverse=True)\n",
    "    return sortedClassCount[0][0]"
   ]
  },
  {
   "cell_type": "code",
   "execution_count": null,
   "metadata": {},
   "outputs": [],
   "source": [
    "# 测试手写数字识别代码 Test the handwritten digit recognition code\n",
    "def handWritingClassTest(k):\n",
    "    #训练部分 Training\n",
    "    hwLabels = []\n",
    "    trainingFileList = os.listdir('knn-digits/trainingDigits')\n",
    "    m = len(trainingFileList)\n",
    "    trainingMat = numpy.zeros((m, 1024))\n",
    "    for i in range(m):\n",
    "        fileNameStr = trainingFileList[i]\n",
    "        fileStr = fileNameStr.split('.')[0]  \n",
    "        try:\n",
    "            classNumStr = int(fileStr.split('_')[0])\n",
    "        except Exception as e:\n",
    "            print('Error:', e)\n",
    " \n",
    "        hwLabels.append(classNumStr)\n",
    "        trainingMat[i, :] = img2vector(\"knn-digits/trainingDigits/%s\" % fileNameStr)\n",
    "    \n",
    "    #测试数据分类结果 Test data classification results\n",
    "    testFileList = os.listdir('knn-digits/testDigits')\n",
    "    errorCount = 0.0\n",
    "    mTest = len(testFileList)\n",
    "    for i in range(mTest):\n",
    "        fileNameStr = testFileList[i]\n",
    "        fileStr = fileNameStr.split('.')[0]\n",
    "        try:\n",
    "            classNumStr = int(fileStr.split('_')[0])\n",
    "        except:\n",
    "            print(fileStr.split('_')[0])\n",
    "            continue\n",
    "        vectorTest = img2vector(\"knn-digits/testDigits/%s\" % fileNameStr)\n",
    "        result = classifier(vectorTest, trainingMat, hwLabels, k)\n",
    "        print(\"The classification result is: %d, the true result is: %d\" % (result, classNumStr))\n",
    "        if result != classNumStr:\n",
    "            errorCount += 1.0\n",
    "    print(\"Total Errors:%d\" % errorCount)\n",
    "    print(\"Error rate:%f\" % (errorCount / mTest))\n",
    "    return errorCount"
   ]
  },
  {
   "cell_type": "code",
   "execution_count": 2,
   "metadata": {},
   "outputs": [],
   "source": [
    "# 这里是为了测试取不同的k值，识别的效果如何 Here we want to test the recognition effect with different k values.\n",
    "def selectK():\n",
    "    x = list()\n",
    "    y = list()\n",
    "    for i in range(1, 5):\n",
    "        x.append(int(i))\n",
    "        y.append(int(handWritingClassTest(i)))\n",
    "    plt.plot(x, y)\n",
    "\n",
    "    plt.show()"
   ]
  },
  {
   "cell_type": "code",
   "execution_count": 1,
   "metadata": {},
   "outputs": [
    {
     "ename": "NameError",
     "evalue": "name 'selectK' is not defined",
     "output_type": "error",
     "traceback": [
      "\u001b[0;31m---------------------------------------------------------------------------\u001b[0m",
      "\u001b[0;31mNameError\u001b[0m                                 Traceback (most recent call last)",
      "Cell \u001b[0;32mIn [1], line 2\u001b[0m\n\u001b[1;32m      1\u001b[0m \u001b[38;5;66;03m# 开始测试，会生成折线图 Start the test and a line chart will be generated\u001b[39;00m\n\u001b[0;32m----> 2\u001b[0m \u001b[43mselectK\u001b[49m()\n",
      "\u001b[0;31mNameError\u001b[0m: name 'selectK' is not defined"
     ]
    }
   ],
   "source": [
    "# 开始测试，会生成折线图 Start the test and a line chart will be generated\n",
    "selectK()"
   ]
  },
  {
   "cell_type": "markdown",
   "metadata": {},
   "source": [
    "# 测试证明，k选3效果比较好，直接用 Tests have shown that k-select-3 works better."
   ]
  },
  {
   "cell_type": "code",
   "execution_count": null,
   "metadata": {},
   "outputs": [],
   "source": [
    "handWritingClassTest(3)"
   ]
  },
  {
   "cell_type": "code",
   "execution_count": null,
   "metadata": {},
   "outputs": [],
   "source": []
  }
 ],
 "metadata": {
  "kernelspec": {
   "display_name": "Python 3 (ipykernel)",
   "language": "python",
   "name": "python3"
  },
  "language_info": {
   "codemirror_mode": {
    "name": "ipython",
    "version": 3
   },
   "file_extension": ".py",
   "mimetype": "text/x-python",
   "name": "python",
   "nbconvert_exporter": "python",
   "pygments_lexer": "ipython3",
   "version": "3.11.2"
  }
 },
 "nbformat": 4,
 "nbformat_minor": 4
}
