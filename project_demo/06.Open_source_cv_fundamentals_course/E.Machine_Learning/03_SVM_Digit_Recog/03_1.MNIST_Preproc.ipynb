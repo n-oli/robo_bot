{
 "cells": [
  {
   "cell_type": "raw",
   "metadata": {},
   "source": [
    "@Copyright (C): 2015-2024, Shenzhen Yahboom Tech  \n",
    "@Author: clhchan\n",
    "@Date: 2024-07-24 "
   ]
  },
  {
   "cell_type": "markdown",
   "metadata": {},
   "source": [
    "# 压缩文件转成图片文件，便于后面处理 Convert compressed files into image files for later processing\n",
    "# 注意：这里我们提供的镜像已经执行过了，可以不用再执行此段代码，仅供学习 Note: The image we provide here has been executed, so you don’t need to execute this code again. It is only for learning."
   ]
  },
  {
   "cell_type": "code",
   "execution_count": 1,
   "metadata": {},
   "outputs": [
    {
     "name": "stdout",
     "output_type": "stream",
     "text": [
      "end write train image\n",
      "end write test image\n"
     ]
    }
   ],
   "source": [
    "import struct\n",
    "from array import array\n",
    "import os\n",
    "import png\n",
    " \n",
    "trainimg = './MNIST_data/train-images.idx3-ubyte'\n",
    "trainlabel = './MNIST_data/train-labels.idx1-ubyte'\n",
    "testimg = './MNIST_data/t10k-images.idx3-ubyte'\n",
    "testlabel = './MNIST_data/t10k-labels.idx1-ubyte'\n",
    "trainfolder = './MNIST_data/train'\n",
    "testfolder = './MNIST_data/test'\n",
    "if not os.path.exists(trainfolder): os.makedirs(trainfolder)\n",
    "if not os.path.exists(testfolder): os.makedirs(testfolder)\n",
    " \n",
    "# open(文件路径，读写格式)，用于打开一个文件，返回一个文件对象 open(file path, read-write format), used to open a file and return a file object\n",
    "# rb表示以二进制读模式打开文件 rb means opening the file in binary read mode\n",
    "trimg = open(trainimg, 'rb')\n",
    "teimg = open(testimg, 'rb')\n",
    "trlab = open(trainlabel, 'rb')\n",
    "telab = open(testlabel, 'rb')\n",
    "# struct的用法这里不详述 The usage of struct is not described in detail here\n",
    "struct.unpack(\">IIII\", trimg.read(16))\n",
    "struct.unpack(\">IIII\", teimg.read(16))\n",
    "struct.unpack(\">II\", trlab.read(8))\n",
    "struct.unpack(\">II\", telab.read(8))\n",
    "# array模块是Python中实现的一种高效的数组存储类型\n",
    "# 所有数组成员都必须是同一种类型，在创建数组时就已经规定\n",
    "# B表示无符号字节型，b表示有符号字节型\n",
    "# The array module is an efficient array storage type implemented in Python\n",
    "# All array members must be of the same type, which is specified when the array is created\n",
    "# B represents unsigned byte type, b represents signed byte type\n",
    "trimage = array(\"B\", trimg.read())\n",
    "teimage = array(\"B\", teimg.read())\n",
    "trlabel = array(\"b\", trlab.read())\n",
    "telabel = array(\"b\", telab.read())\n",
    "# close方法用于关闭一个已打开的文件，关闭后文件不能再进行读写操作 The close method is used to close an open file. After closing, the file can no longer be read or written.\n",
    "trimg.close()\n",
    "teimg.close()\n",
    "trlab.close()\n",
    "telab.close()\n",
    "# 为训练集和测试集各定义10个子文件夹，用于存放从0到9的所有数字，文件夹名分别为0-9 # Define 10 subfolders for each training set and test set to store all numbers from 0 to 9, with the folder names 0-9\n",
    "trainfolders = [os.path.join(trainfolder, str(i)) for i in range(10)]\n",
    "testfolders = [os.path.join(testfolder, str(i)) for i in range(10)]\n",
    "for dir in trainfolders:\n",
    "    if not os.path.exists(dir):\n",
    "        os.makedirs(dir)\n",
    "for dir in testfolders:\n",
    "    if not os.path.exists(dir):\n",
    "        os.makedirs(dir)\n",
    "# 开始保存训练图像数据 Start saving training image data\n",
    "for (i, label) in enumerate(trlabel):\n",
    "    filename = os.path.join(trainfolders[label], str(i) + \".png\")\n",
    "    #print(\"writing \" + filename)\n",
    "    with open(filename, \"wb\") as img:\n",
    "        image = png.Writer(28, 28, greyscale=True)\n",
    "        data = [trimage[(i*28*28 + j*28) : (i*28*28 + (j+1)*28)] for j in range(28)]\n",
    "        image.write(img, data)\n",
    "print(\"end write train image\")\n",
    "\n",
    "# 开始保存测试图像数据 Start saving test image data\n",
    "for (i, label) in enumerate(telabel):\n",
    "    filename = os.path.join(testfolders[label], str(i) + \".png\")\n",
    "    #print(\"writing \" + filename)\n",
    "    with open(filename, \"wb\") as img:\n",
    "        image = png.Writer(28, 28, greyscale=True)\n",
    "        data = [teimage[(i*28*28 + j*28) : (i*28*28 + (j+1)*28)] for j in range(28)]\n",
    "        image.write(img, data)\n",
    "print(\"end write test image\")"
   ]
  },
  {
   "cell_type": "code",
   "execution_count": 2,
   "metadata": {},
   "outputs": [],
   "source": [
    "import sys\n",
    "path = sys.path[1]\n",
    "model_path=os.path.join(path,'model\\\\svm.model')"
   ]
  },
  {
   "cell_type": "code",
   "execution_count": 3,
   "metadata": {},
   "outputs": [
    {
     "name": "stdout",
     "output_type": "stream",
     "text": [
      "/usr/lib/python311.zip/model\\svm.model\n"
     ]
    }
   ],
   "source": [
    "print(model_path)"
   ]
  }
 ],
 "metadata": {
  "kernelspec": {
   "display_name": "Python 3 (ipykernel)",
   "language": "python",
   "name": "python3"
  },
  "language_info": {
   "codemirror_mode": {
    "name": "ipython",
    "version": 3
   },
   "file_extension": ".py",
   "mimetype": "text/x-python",
   "name": "python",
   "nbconvert_exporter": "python",
   "pygments_lexer": "ipython3",
   "version": "3.11.2"
  }
 },
 "nbformat": 4,
 "nbformat_minor": 4
}
