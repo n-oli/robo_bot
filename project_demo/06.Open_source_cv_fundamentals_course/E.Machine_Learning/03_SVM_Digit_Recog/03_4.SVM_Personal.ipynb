{
 "cells": [
  {
   "cell_type": "raw",
   "metadata": {},
   "source": [
    "@Copyright (C): 2015-2024, Shenzhen Yahboom Tech  \n",
    "@Author: clhchan\n",
    "@Date: 2024-07-24 "
   ]
  },
  {
   "cell_type": "markdown",
   "metadata": {},
   "source": [
    "# 识别自己手写数字 Recognize your own handwritten numbers"
   ]
  },
  {
   "cell_type": "code",
   "execution_count": 1,
   "metadata": {
    "editable": true,
    "slideshow": {
     "slide_type": ""
    },
    "tags": []
   },
   "outputs": [
    {
     "name": "stdout",
     "output_type": "stream",
     "text": [
      "test dataMat shape: (1, 784), test dataLabel len: 1 \n",
      "Recognition  1 spent 0.0157s.\n",
      "predict result: 1\n"
     ]
    }
   ],
   "source": [
    "from PIL import Image\n",
    "import sys\n",
    "import time\n",
    "import os\n",
    "import joblib\n",
    "import numpy as np\n",
    "import matplotlib.pyplot as plt\n",
    "\n",
    "# 获取指定路径下的所有 .png 文件 Get all .png files in the specified path\n",
    "def get_file_list(path):\n",
    "    return [os.path.join(path, f) for f in os.listdir(path) if f.endswith(\".png\")]\n",
    " \n",
    "# 解析出 .png 图片文件的名称 Parse the name of the .png image file\n",
    "def get_img_name_str(imgPath):\n",
    "    return imgPath.split(os.path.sep)[-1]\n",
    " \n",
    " \n",
    "# 将 28px * 28px 的图像数据转换成 1*784 的 numpy 向量 Convert 28px * 28px image data into 1*784 numpy vector\n",
    "# 参数：imgFile--图像名  如：0_1.png Parameter: imgFile--image name, such as: 0_1.png\n",
    "# 返回：1*784 的 numpy 向量 Returns: 1*784 numpy vector\n",
    "def img2vector(imgFile):\n",
    "    # print(\"in img2vector func--para:{}\".format(imgFile))\n",
    "    img = Image.open(imgFile).convert('L')\n",
    "    img_arr = np.array(img, 'i')  # 28px * 28px 灰度图像 28px * 28px grayscale image\n",
    "    img_normalization = np.round(img_arr / 255)  # 对灰度值进行归一化 Normalize the grayscale value\n",
    "    img_arr2 = np.reshape(img_normalization, (1, -1))  # 1 * 400 矩阵 1 * 400 matrix\n",
    "    return img_arr2\n",
    " \n",
    " \n",
    "# 读取一个类别的所有数据并转换成矩阵 Read all the data of a category and convert it into a matrix\n",
    "# 参数： parameter:\n",
    "#    basePath: 图像数据所在的基本路径 basePath: The base path where the image data is located\n",
    "#       MNIST-data/train/\n",
    "#       MNIST-data/test/\n",
    "#    cla：类别名称 cla: Category name\n",
    "#       0,1,2,...,9\n",
    "# 返回：某一类别的所有数据----[样本数量*(图像宽x图像高)] 矩阵 Returns: All data of a certain category----[sample number*(image width x image height)] matrix\n",
    "def read_and_convert(imgFileList):\n",
    "    dataLabel = []  # 存放类标签 Storage label\n",
    "    dataNum = len(imgFileList)\n",
    "    dataMat = np.zeros((dataNum, 784))  # dataNum * 784 的矩阵 Matrix of dataNum * 784\n",
    "    for i in range(dataNum):\n",
    "        imgNameStr = imgFileList[i]\n",
    "        imgName = get_img_name_str(imgNameStr)  # 得到 当前数字的数字编号.png Get the digital number of the current number.png\n",
    "        # print(\"imgName: {}\".format(imgName))\n",
    "        classTag = imgNameStr.split(os.path.sep)[-2]\n",
    "        # classTag = imgName.split(\".\")[0].split(\"_\")[0]  # 得到 类标签(数字) Get class label (number)\n",
    "        #print(classTag)\n",
    "        #print(imgNameStr)\n",
    "        dataLabel.append(classTag)\n",
    "        dataMat[i, :] = img2vector(imgNameStr)\n",
    "    return dataMat, dataLabel\n",
    " \n",
    "def svmtest(model_path):\n",
    "    \n",
    "    #图片路径 Image Path\n",
    "    tbasePath = \"image/\"\n",
    "\n",
    "    #加载模型 Loading the model\n",
    "    clf = joblib.load(model_path)\n",
    "    #获取文件列表 Get a list of files\n",
    "    tflist = get_file_list(tbasePath)\n",
    "    # tflist\n",
    "    tdataMat, tdataLabel = read_and_convert(tflist)\n",
    "    print(\"test dataMat shape: {0}, test dataLabel len: {1} \".format(tdataMat.shape, len(tdataLabel)))\n",
    "    pre_st = time.perf_counter()\n",
    "    #预测结果 forecast result\n",
    "    preResult = clf.predict(tdataMat) \n",
    "    pre_et = time.perf_counter()\n",
    "    print(\"Recognition  1 spent {:.4f}s.\".format((pre_et - pre_st)))\n",
    "    print(\"predict result: {}\".format(len(preResult)))\n",
    "    score = clf.score(tdataMat, tdataLabel)\n",
    "\n",
    " \n",
    "if __name__ == '__main__':\n",
    "    model_path='model/svm.model'\n",
    "    svmtest(model_path)\n",
    "\n",
    "\n"
   ]
  },
  {
   "cell_type": "code",
   "execution_count": null,
   "metadata": {},
   "outputs": [],
   "source": []
  }
 ],
 "metadata": {
  "kernelspec": {
   "display_name": "Python 3 (ipykernel)",
   "language": "python",
   "name": "python3"
  },
  "language_info": {
   "codemirror_mode": {
    "name": "ipython",
    "version": 3
   },
   "file_extension": ".py",
   "mimetype": "text/x-python",
   "name": "python",
   "nbconvert_exporter": "python",
   "pygments_lexer": "ipython3",
   "version": "3.11.2"
  }
 },
 "nbformat": 4,
 "nbformat_minor": 4
}
