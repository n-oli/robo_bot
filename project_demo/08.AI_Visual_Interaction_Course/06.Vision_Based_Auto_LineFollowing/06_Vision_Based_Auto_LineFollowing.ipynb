{
 "cells": [
  {
   "cell_type": "raw",
   "metadata": {},
   "source": [
    "@Copyright (C): 2015-2024, Shenzhen Yahboom Tech\n",
    "@Date: 2024/08/01 \n",
    "@Author: clhchan \n",
    "@Contact: https://www.yahboom.com/about"
   ]
  },
  {
   "cell_type": "markdown",
   "metadata": {},
   "source": [
    "# 定义模块和窗口 Defining modules and windows"
   ]
  },
  {
   "cell_type": "code",
   "execution_count": null,
   "metadata": {},
   "outputs": [],
   "source": [
    "from IPython.display import display\n",
    "import ipywidgets.widgets as widgets\n",
    "import cv2\n",
    "import time,sys\n",
    "\n",
    "# 线程功能操作库 Thread function operation library\n",
    "import threading\n",
    "import inspect\n",
    "import ctypes\n",
    "import matplotlib.pyplot as plt\n",
    "\n",
    "sys.path.append('/home/pi/project_demo/lib')\n",
    "#导入麦克纳姆小车驱动库 Import Mecanum Car Driver Library\n",
    "from McLumk_Wheel_Sports import *\n"
   ]
  },
  {
   "cell_type": "code",
   "execution_count": null,
   "metadata": {},
   "outputs": [],
   "source": [
    "def _async_raise(tid, exctype):\n",
    "    \"\"\"raises the exception, performs cleanup if needed\"\"\"\n",
    "    tid = ctypes.c_long(tid)\n",
    "    if not inspect.isclass(exctype):\n",
    "        exctype = type(exctype)\n",
    "    res = ctypes.pythonapi.PyThreadState_SetAsyncExc(tid, ctypes.py_object(exctype))\n",
    "    if res == 0:\n",
    "        raise ValueError(\"invalid thread id\")\n",
    "    elif res != 1:\n",
    "        # \"\"\"if it returns a number greater than one, you're in trouble,\n",
    "        # and you should call it again with exc=NULL to revert the effect\"\"\"\n",
    "        ctypes.pythonapi.PyThreadState_SetAsyncExc(tid, None)\n",
    "        \n",
    "def stop_thread(thread):\n",
    "    _async_raise(thread.ident, SystemExit)"
   ]
  },
  {
   "cell_type": "code",
   "execution_count": null,
   "metadata": {},
   "outputs": [],
   "source": [
    "def servo_reset():\n",
    "    bot.Ctrl_Servo(1,90)\n",
    "    bot.Ctrl_Servo(2,0)\n",
    "servo_reset()"
   ]
  },
  {
   "cell_type": "markdown",
   "metadata": {},
   "source": [
    "# 车体状态显示部分进程 Vehicle status display part of the process"
   ]
  },
  {
   "cell_type": "markdown",
   "metadata": {},
   "source": [
    "##### 自动驾驶 Autopilot"
   ]
  },
  {
   "cell_type": "code",
   "execution_count": null,
   "metadata": {},
   "outputs": [],
   "source": [
    "#转向PID输出值 Steering PID output value\n",
    "TurnZ_PID_slider = widgets.FloatSlider(description='TurnZ_PID', min=-100, max=100.0, step=0.01, orientation='Vertical')\n",
    "# create a horizontal box container to place the sliders next to eachother\n",
    "slider_container = widgets.HBox([TurnZ_PID_slider])\n",
    "# display the container in this cell's output\n",
    "display(slider_container)"
   ]
  },
  {
   "cell_type": "code",
   "execution_count": null,
   "metadata": {},
   "outputs": [],
   "source": [
    "#bgr8转jpeg格式 bgr8 to jpeg format\n",
    "import enum\n",
    "import cv2\n",
    "\n",
    "def bgr8_to_jpeg(value, quality=75):\n",
    "    return bytes(cv2.imencode('.jpg', value)[1])"
   ]
  },
  {
   "cell_type": "code",
   "execution_count": null,
   "metadata": {},
   "outputs": [],
   "source": [
    "#摄像头组件显示 Camera component display\n",
    "import cv2\n",
    "import ipywidgets.widgets as widgets\n",
    "import threading\n",
    "import time\n",
    "import numpy as np\n",
    "import matplotlib.pyplot as plt\n",
    "import PID\n",
    "\n",
    "\n",
    "image_widget = widgets.Image(format='jpg', width=640, height=480)\n",
    "display(image_widget)"
   ]
  },
  {
   "cell_type": "code",
   "execution_count": null,
   "metadata": {},
   "outputs": [],
   "source": [
    "#俯视图 Top view\n",
    "image_widget_1 = widgets.Image(format='jpg', width=640, height=480)\n",
    "display(image_widget_1)"
   ]
  },
  {
   "cell_type": "code",
   "execution_count": null,
   "metadata": {},
   "outputs": [],
   "source": [
    "#归一化图+左线（淡绿色） 图像中线（紫色）实际中线（蓝色） 右线（绿色）\n",
    "#Normalized image + left line (light green) image center line (purple) actual center line (blue) right line (green)\n",
    "image_widget_2 = widgets.Image(format='jpg', width=640, height=480)\n",
    "display(image_widget_2)"
   ]
  },
  {
   "cell_type": "code",
   "execution_count": null,
   "metadata": {
    "scrolled": true
   },
   "outputs": [],
   "source": [
    "image = cv2.VideoCapture(0)\n",
    "image.set(3,640)\n",
    "image.set(4,480)\n",
    "image.set(5, 30)  #设置帧率 Setting the frame rate\n",
    "# fourcc = cv2.VideoWriter_fourcc(*\"MPEG\")\n",
    "# image.set(cv2.CAP_PROP_FOURCC, cv2.VideoWriter.fourcc('M', 'J', 'P', 'G'))\n",
    "# image.set(cv2.CAP_PROP_BRIGHTNESS, 60) #设置亮度 -64 - 64  0.0  40 Set Brightness -64 - 64 0.0 40\n",
    "#image.set(cv2.CAP_PROP_CONTRAST, 50) #设置对比度 -64 - 64  2.0  50 Set Contrast -64 - 64 2.0 50\n",
    "#image.set(cv2.CAP_PROP_EXPOSURE, 156) #设置曝光值 1.0 - 5000  156.0 156 Set exposure value 1.0 - 5000 156.0 156\n",
    "#ret, frame = image.read()\n",
    "\n",
    "\n",
    "# from picamera2 import Picamera2, Preview\n",
    "# import libcamera\n",
    "# picam2 = Picamera2()  \n",
    "# camera_config = picam2.create_preview_configuration(main={\"format\":'RGB888',\"size\":(640,480)})\n",
    "# camera_config[\"transform\"] = libcamera.Transform(hflip=1, vflip=1)\n",
    "# picam2.configure(camera_config) \n",
    "# picam2.start() \n",
    "\n",
    "#image_widget.value = bgr8_to_jpeg(frame)"
   ]
  },
  {
   "cell_type": "markdown",
   "metadata": {},
   "source": [
    "# 以下正式开始自动驾驶的进程 The following is the official start of the autonomous driving process"
   ]
  },
  {
   "cell_type": "code",
   "execution_count": null,
   "metadata": {},
   "outputs": [],
   "source": [
    "global Z_axis_pid\n",
    "Z_axis_pid = PID.PositionalPID(0.5, 0, 1) \n",
    "global prev_left\n",
    "prev_left = 0\n",
    "global prev_right\n",
    "prev_right = 0\n",
    "global flag\n",
    "flag=1"
   ]
  },
  {
   "cell_type": "code",
   "execution_count": null,
   "metadata": {
    "scrolled": true
   },
   "outputs": [],
   "source": [
    "def Camera_display():\n",
    "    global peaks_count\n",
    "    global prev_left, prev_right,flag\n",
    "    t_start = time.time()\n",
    "    fps = 0\n",
    "    global Z_axis_pid\n",
    "    # 打开超声波测距功能 Turn on the ultrasonic ranging function\n",
    "    bot.Ctrl_Ulatist_Switch(1)\n",
    "    while 1:\n",
    "        #1、获取图像 Get the image\n",
    "        #frame = picam2.capture_array()\n",
    "        ret, frame = image.read()\n",
    "        \n",
    "        #帧率显示 Frame rate display\n",
    "        fps = fps + 1\n",
    "        mfps = fps / (time.time() - t_start)\n",
    "        cv2.putText(frame, \"FPS: \" + str(int(mfps)), (80,80), cv2.FONT_HERSHEY_SIMPLEX, 3.0, (0,255,255), 8)\n",
    "        \n",
    "        #图像resize Image resize\n",
    "        frame = cv2.resize(frame,(320,240))\n",
    "        \n",
    "        \n",
    "        #2、透视变换 (查看俯视图) Perspective Transformation (See Top View)\n",
    "        matSrc = np.float32([[0, 149],  [320, 149], [281, 72], [43, 72]])\n",
    "        matDst = np.float32([[0,240], [320,240], [320,0], [0,0]])\n",
    "        matAffine = cv2.getPerspectiveTransform(matSrc,matDst)# mat 1 src 2 dst\n",
    "        dst = cv2.warpPerspective(frame,matAffine,(320,240))\n",
    "        \n",
    "        #画蓝色的矩形框，采集数据的时候采集的就是当前蓝色矩形框中的数据\n",
    "        #Draw a blue rectangle. When collecting data, the data collected is the data in the current blue rectangle.\n",
    "        #src 4->dst 4 (左下角 右下角 右上角 左上角 )\n",
    "        #src 4->dst 4 (lower left corner, lower right corner, upper right corner, upper left corner)\n",
    "        pts = np.array([[0, 149],  [320, 149], [281, 72], [43, 72]], np.int32)\n",
    "        # 顶点个数：4，矩阵变成4*1*2维 \n",
    "        # OpenCV中需要将多边形的顶点坐标变成顶点数×1×2维的矩阵\n",
    "        # 这里 reshape 的第一个参数为-1, 表示“任意”，意思是这一维的值是根据后面的维度的计算出来的  \n",
    "        # Number of vertices: 4, the matrix becomes 4*1*2\n",
    "        # In OpenCV, the vertex coordinates of the polygon need to be converted into a matrix of the number of vertices × 1 × 2 dimensions\n",
    "        # Here, the first parameter of reshape is -1, which means \"arbitrary\", \n",
    "        #meaning that the value of this dimension is calculated based on the following dimensions\n",
    "        pts = pts.reshape((-1, 1, 2))\n",
    "        cv2.polylines(frame, [pts],True, (255, 0, 0), 3) #True表示闭合，（255,0,0）是蓝色，3是线宽 True means closed, (255,0,0) is blue, and 3 is the line width\n",
    "        \n",
    "        #3、转化图像二值化(看二值化之后的黑白图像） Convert the image to binary (see the black and white image after binarization)\n",
    "        dst_gray = cv2.cvtColor(dst, cv2.COLOR_RGB2GRAY)   #转灰度 Convert to Grayscale\n",
    "        dst_retval, dst_binaryzation = cv2.threshold(dst_gray, 120, 255, cv2.THRESH_BINARY)   #二值化 Binarization\n",
    "        dst_binaryzation = cv2.erode(dst_binaryzation, None, iterations=1)                    #腐蚀化操作 Corrosion Operation\n",
    "        \n",
    " \n",
    "        # 当axis为0时,是压缩行,即将每一列的元素相加,将矩阵压缩为一行\n",
    "        # 当axis为1时,是压缩列,即将每一行的元素相加,将矩阵压缩为一列(这里的一列是为了方便理解说的，实际上，在控制台的输出中，仍然是以一行的形式输出的)\n",
    "        # When axis is 0, the row is compressed, that is, the elements of each column are added and the matrix is compressed into one row\n",
    "        # When axis is 1, it is a compressed column, that is, the elements of each row are added and the matrix is compressed into one column\n",
    "        histogram = np.sum(dst_binaryzation[dst_binaryzation.shape[0]//2:, :], axis=0)  #我们这里是一维数组\n",
    "        midpoint = np.int_(histogram.shape[0]/2) #直方图垂直尺寸 Histogram vertical size\n",
    "        \n",
    "        left_sum = np.sum(histogram[:20], axis=0)  #计算左边像素点之和 Calculate the sum of the pixels on the left\n",
    "        right_sum = np.sum(histogram[300:], axis=0)  #计算右边像素点之和 Calculate the sum of the pixels on the right\n",
    "        \n",
    "        #print(\"left_sum =%d \"%left_sum)\n",
    "        #print(\"right_sum = %d\"%right_sum)\n",
    "        \n",
    "        \n",
    "        rightpoint = 320\n",
    "        center_r = 159\n",
    "        #print (histogram)\n",
    "        #print(histogram[::-1])\n",
    "        #plt.plot(histogram)\n",
    "        #plt.plot(histogram[::-1])\n",
    "        #plt.show()\n",
    "        \n",
    "        #4、获取黑线左右边线并绘制线条 Get the left and right edges of the black line and draw the line\n",
    "        #获取左右线的位置 Get the positions of the left and right lines\n",
    "        leftx_base = np.argmin(histogram[:rightpoint], axis = 0)\n",
    "        rightx_base = np.argmin(histogram[::-1][:rightpoint], axis = 0) #反转直方图取最右侧的值 Invert the histogram to take the rightmost value\n",
    "        rightx_base = 319 - rightx_base\n",
    "\n",
    "        dst_binaryzation = cv2.cvtColor(dst_binaryzation,cv2.COLOR_GRAY2RGB)\n",
    "        cv2.line(dst_binaryzation,(159,0),(159,240),(255,0,255),2)  #图像中线 紫色  Image center line Purple\n",
    "        lane_center = int((leftx_base + rightx_base)/2)  #左右线中间位置 The middle position between left and right lines\n",
    "        #print(\"lane_center\")\n",
    "        #print(lane_center)\n",
    "        cv2.line(dst_binaryzation,(leftx_base,0),(leftx_base,240),(0,255,0),2)   # 左侧位置 Left position\n",
    "        cv2.line(dst_binaryzation,(rightx_base,0),(rightx_base,240),(0,255,0),2) # 右侧位置 Right position\n",
    "        cv2.line(dst_binaryzation,(lane_center,0),(lane_center,240),(255,0,0),2) # 实际中线位置 Actual midline position\n",
    "        \n",
    "        left_sum_value = int(np.sum(histogram[:center_r], axis = 0))/159\n",
    "        right_sum_value = int(np.sum(histogram[center_r:], axis = 0))/159\n",
    "        #print(\"left_sum_value = %d\", left_sum_value)\n",
    "        #print(\"right_sum_value = %d\", right_sum_value)\n",
    "        #5、计算偏差值 Calculate the deviation value\n",
    "        Bias = 159 - lane_center\n",
    "        cv2.putText(dst_binaryzation, \"FPS:  \" + str(int(mfps)), (10,15), cv2.FONT_HERSHEY_SIMPLEX, 0.5, (0,255,255), 1)\n",
    "        cv2.putText(dst_binaryzation, \"Bias: \" + str(int(Bias)), (10,35), cv2.FONT_HERSHEY_SIMPLEX, 0.5, (0,255,255), 1)\n",
    "        #print(Bias)\n",
    "        \n",
    "        #转向角PID调节 Steering angle PID adjustment\n",
    "        Z_axis_pid.SystemOutput = Bias\n",
    "        Z_axis_pid.SetStepSignal(20)\n",
    "        Z_axis_pid.SetInertiaTime(0.5, 0.2)\n",
    "        \n",
    "        \n",
    "        if Z_axis_pid.SystemOutput > 20: # 20\n",
    "            Z_axis_pid.SystemOutput = 20\n",
    "        elif Z_axis_pid.SystemOutput < -20:\n",
    "            Z_axis_pid.SystemOutput = -20\n",
    "            \n",
    "        TurnZ_PID_slider.value = int(Z_axis_pid.SystemOutput)\n",
    "        \n",
    "        speed=15 #不宜过快 should not be too fast\n",
    "        #cv2.putText(dst_binaryzation, \"leftx_base: \" + str(int(leftx_base)), (10,55), cv2.FONT_HERSHEY_SIMPLEX, 0.5, (0,255,255), 1)\n",
    "        #cv2.putText(dst_binaryzation, \"rightx_base: \" + str(int(rightx_base)), (10,75), cv2.FONT_HERSHEY_SIMPLEX, 0.5, (0,255,255), 1)\n",
    "        # 读取超声波传感器的距离 Reading distance from ultrasonic sensor\n",
    "        diss_H =bot.read_data_array(0x1b,1)[0]\n",
    "        diss_L =bot.read_data_array(0x1a,1)[0]\n",
    "        dis = diss_H << 8 | diss_L\n",
    "        if(dis <200):\n",
    "            stop_robot()\n",
    "            bot.Ctrl_BEEP_Switch(1)  #蜂鸣器开 Buzzer on\n",
    "            time.sleep(0.05)\n",
    "            bot.Ctrl_BEEP_Switch(0)  \n",
    "        else:\n",
    "            if leftx_base == 0 and rightx_base == 319:\n",
    "                if prev_left > prev_right:\n",
    "                    #None\n",
    "                    rotate_left(speed)\n",
    "                elif prev_left < prev_right:\n",
    "                    #None\n",
    "                    rotate_right(speed)\n",
    "                    \n",
    "                prev_left = 0\n",
    "                prev_right = 0\n",
    "                \n",
    "            else: #根据线粗调节Bias值 Adjust the Bias value according to the line thickness\n",
    "                if Bias > 35:   #黑线在中线的左边，小车左转（左边速度减小，右边速度增大） The black line is to the left of the center line, and the car turns left (the speed on the left decreases, and the speed on the right increases)\n",
    "                    #prev_left = 1\n",
    "                    #prev_right = 0\n",
    "                    if Bias > 140: \n",
    "                        rotate_left(int((speed-Z_axis_pid.SystemOutput)/5))\n",
    "                        prev_left = 0\n",
    "                        prev_right = 0\n",
    "                    elif(Bias < 50):\n",
    "                        move_left(int((speed/15)))\n",
    "                    else:move_forward(speed)\n",
    "                        #rotate_left(int((speed/15)))\n",
    "                    time.sleep(0.001) \n",
    "                elif Bias < -35:    #黑线在中线的右边，小车右转   （左边速度增大，右边速度减小）The black line is to the right of the center line, and the car turns right (the speed increases on the left and decreases on the right)\n",
    "                    #prev_right = 1\n",
    "                    #prev_left = 0\n",
    "                    if(Bias < -140):\n",
    "                        rotate_right(int((speed+Z_axis_pid.SystemOutput)/5))\n",
    "                        prev_left = 0\n",
    "                        prev_right = 0\n",
    "                    elif(Bias > -45):\n",
    "                        move_right(int((speed/15)))\n",
    "                    else:move_forward(speed)\n",
    "                        #rotate_right(int((speed/15)))\n",
    "                    time.sleep(0.001)\n",
    "    \n",
    "                else:\n",
    "                    #None\n",
    "                    move_forward(speed)\n",
    "     \n",
    "        if left_sum != right_sum:\n",
    "            if left_sum < right_sum:\n",
    "                prev_left = prev_left + 1\n",
    "            elif right_sum < left_sum:\n",
    "                prev_right = prev_right + 1\n",
    "\n",
    "        \n",
    "\n",
    "        image_widget.value = bgr8_to_jpeg(frame)\n",
    "        image_widget_1.value = bgr8_to_jpeg(dst)\n",
    "        image_widget_2.value = bgr8_to_jpeg(dst_binaryzation)\n"
   ]
  },
  {
   "cell_type": "code",
   "execution_count": null,
   "metadata": {
    "scrolled": true
   },
   "outputs": [],
   "source": [
    "#自动驾驶进程启动 Autonomous driving process starts\n",
    "thread3 = threading.Thread(target=Camera_display)\n",
    "thread3.setdaemon=True\n",
    "thread3.start()"
   ]
  },
  {
   "cell_type": "code",
   "execution_count": null,
   "metadata": {},
   "outputs": [],
   "source": [
    "#结束自动驾驶进程 Ending the Autopilot Process\n",
    "stop_thread(thread3)\n",
    "#停止小车运动 Stop the car movement\n",
    "bot.Ctrl_Ulatist_Switch(0)\n",
    "bot.Ctrl_BEEP_Switch(0)\n",
    "stop()"
   ]
  },
  {
   "cell_type": "code",
   "execution_count": null,
   "metadata": {},
   "outputs": [],
   "source": [
    "image.release()\n",
    "# picam2.stop()\n",
    "# picam2.close()"
   ]
  },
  {
   "cell_type": "code",
   "execution_count": null,
   "metadata": {},
   "outputs": [],
   "source": []
  }
 ],
 "metadata": {
  "kernelspec": {
   "display_name": "Python 3 (ipykernel)",
   "language": "python",
   "name": "python3"
  },
  "language_info": {
   "codemirror_mode": {
    "name": "ipython",
    "version": 3
   },
   "file_extension": ".py",
   "mimetype": "text/x-python",
   "name": "python",
   "nbconvert_exporter": "python",
   "pygments_lexer": "ipython3",
   "version": "3.11.2"
  }
 },
 "nbformat": 4,
 "nbformat_minor": 4
}
