{
 "cells": [
  {
   "cell_type": "raw",
   "metadata": {},
   "source": [
    "@Copyright (C): 2015-2024, Shenzhen Yahboom Tech\n",
    "@Date: 2024/08/23 \n",
    "@Author: clhchan \n",
    "@Contact: https://www.yahboom.com/about"
   ]
  },
  {
   "cell_type": "code",
   "execution_count": null,
   "metadata": {},
   "outputs": [],
   "source": [
    "import cv2,time\n",
    "import torch\n",
    "from numpy import random\n",
    "import queue\n",
    "\n",
    "from models.experimental import attempt_load\n",
    "from utils.datasets import LoadStreams\n",
    "from utils.general import check_img_size, non_max_suppression, scale_coords, set_logging, clean_str\n",
    "from utils.plots import plot_one_box\n",
    "from utils.torch_utils import select_device, time_synchronized"
   ]
  },
  {
   "cell_type": "code",
   "execution_count": null,
   "metadata": {},
   "outputs": [],
   "source": [
    "#bgr8转jpeg格式 bgr8 to jpeg format\n",
    "import enum\n",
    "\n",
    "\n",
    "def bgr8_to_jpeg(value, quality=75):\n",
    "    return bytes(cv2.imencode('.jpg', value)[1])"
   ]
  },
  {
   "cell_type": "code",
   "execution_count": null,
   "metadata": {},
   "outputs": [],
   "source": [
    "#显示摄像头组件 Display camera components\n",
    "import traitlets\n",
    "import ipywidgets.widgets as widgets\n",
    "from IPython.display import display\n",
    "from Raspbot_Lib import Raspbot\n",
    "import sys\n",
    "sys.path.append('/home/pi/software/oled_yahboom/')\n",
    "from yahboom_oled import *\n",
    "oled = Yahboom_OLED(debug=False)\n",
    "import time\n",
    "# 线程功能操作库 Thread function operation library\n",
    "import threading\n",
    "import inspect\n",
    "import ctypes\n",
    "\n",
    "image_widget = widgets.Image(format='jpeg', width=640, height=480)"
   ]
  },
  {
   "cell_type": "code",
   "execution_count": null,
   "metadata": {},
   "outputs": [],
   "source": [
    "#初始化oled进程 Initialize oled process\n",
    "oled.init_oled_process() \n",
    "oled.clear()\n",
    "oled.add_line(\"garbage_type:\", 1)\n",
    "oled.add_line(\"None\", 3)\n",
    "oled.refresh()\n",
    "#复位舵机 reset servo\n",
    "bot = Raspbot()\n",
    "def servo_reset():\n",
    "    bot.Ctrl_Servo(1,90)\n",
    "    bot.Ctrl_Servo(2,25)\n",
    "servo_reset()"
   ]
  },
  {
   "cell_type": "markdown",
   "metadata": {},
   "source": [
    "##  线程关闭函数 Thread shutdown function"
   ]
  },
  {
   "cell_type": "code",
   "execution_count": null,
   "metadata": {},
   "outputs": [],
   "source": [
    "def _async_raise(tid, exctype):\n",
    "    \"\"\"raises the exception, performs cleanup if needed\"\"\"\n",
    "    tid = ctypes.c_long(tid)\n",
    "    if not inspect.isclass(exctype):\n",
    "        exctype = type(exctype)\n",
    "    res = ctypes.pythonapi.PyThreadState_SetAsyncExc(tid, ctypes.py_object(exctype))\n",
    "    if res == 0:\n",
    "        raise ValueError(\"invalid thread id\")\n",
    "    elif res != 1:\n",
    "        # \"\"\"if it returns a number greater than one, you're in trouble,\n",
    "        # and you should call it again with exc=NULL to revert the effect\"\"\"\n",
    "        ctypes.pythonapi.PyThreadState_SetAsyncExc(tid, None)\n",
    "        \n",
    "def stop_thread(thread):\n",
    "    _async_raise(thread.ident, SystemExit)\n"
   ]
  },
  {
   "cell_type": "markdown",
   "metadata": {},
   "source": [
    "# 定义图像识别线程"
   ]
  },
  {
   "cell_type": "code",
   "execution_count": null,
   "metadata": {},
   "outputs": [],
   "source": [
    "def detect(weights='weights/gabarge.pt', source='0', img_size=320, conf_thres=0.7, iou_thres=0.75, device=''):\n",
    "    global classes\n",
    "    label=None\n",
    "    # Initialize\n",
    "    set_logging()\n",
    "    device = select_device(device)\n",
    "    half = device.type != 'cpu'  # half precision only supported on CUDA\n",
    "\n",
    "    # Load model\n",
    "    model = attempt_load(weights, map_location=device)  # load FP32 model\n",
    "    stride = int(model.stride.max())  # model stride\n",
    "    imgsz = check_img_size(img_size, s=stride)  # check img_size\n",
    "    if half:\n",
    "        model.half()  # to FP16\n",
    "\n",
    "    # Set Dataloader\n",
    "    dataset = LoadStreams(source, img_size=imgsz, stride=stride)\n",
    "\n",
    "    # Get names and colors\n",
    "    names = model.module.names if hasattr(model, 'module') else model.names\n",
    "    colors = [[random.randint(0, 255) for _ in range(3)] for _ in names]\n",
    "\n",
    "    frame_count = 0\n",
    "    start_time = time.time()\n",
    "\n",
    "    # Run inference\n",
    "    if device.type != 'cpu':\n",
    "        model(torch.zeros(1, 3, imgsz, imgsz).to(device).type_as(next(model.parameters())))  # run once\n",
    "    for path, img, im0s, vid_cap in dataset:\n",
    "        img = torch.from_numpy(img).to(device)\n",
    "        img = img.half() if half else img.float()  # uint8 to fp16/32\n",
    "        img /= 255.0  # 0 - 255 to 0.0 - 1.0\n",
    "        if img.ndimension() == 3:\n",
    "            img = img.unsqueeze(0)\n",
    "\n",
    "        # Calculate FPS before processing the frame\n",
    "        frame_count += 1\n",
    "        elapsed_time = time.time() - start_time\n",
    "        fps = frame_count / elapsed_time\n",
    "\n",
    "        # Display FPS on the frame\n",
    "        cv2.putText(im0s[0], f\"FPS: {fps:.2f}\", (10, 30), cv2.FONT_HERSHEY_SIMPLEX, 0.9, (0, 255, 0), 2)\n",
    "\n",
    "        # Inference\n",
    "        pred = model(img, augment=False)[0]\n",
    "\n",
    "        # Apply NMS\n",
    "        pred = non_max_suppression(pred, conf_thres, iou_thres)\n",
    "\n",
    "        # Process detections\n",
    "        for i, det in enumerate(pred):  # detections per image\n",
    "            if det is not None and len(det):\n",
    "                # Rescale boxes from img_size to im0 size\n",
    "                det[:, :4] = scale_coords(img.shape[2:], det[:, :4], im0s[i].shape).round()\n",
    "\n",
    "                # Print results\n",
    "                for *xyxy, conf, cls in reversed(det):\n",
    "                    label = f'{names[int(cls)]} {conf:.2f}'\n",
    "                    classes = f'{names[int(cls)]}'\n",
    "                    #classes = f'{names[int(cls)]}'\n",
    "                    #print(classes)  # 打印识别的标签和置信度 Print the recognized labels and confidence\n",
    "                    plot_one_box(xyxy, im0s[i], label=label, color=colors[int(cls)], line_thickness=3)\n",
    "        oled.clear()\n",
    "        oled.add_line(\"garbage_type:\", 1)\n",
    "        if label!=None:\n",
    "            oled.add_line(label, 3)\n",
    "            label=None\n",
    "        else:\n",
    "            oled.add_line(\"None\", 3)\n",
    "        oled.refresh()\n",
    "        # Stream results\n",
    "        #cv2.imshow('Video0', im0s[0])\n",
    "        global image_widget\n",
    "        image_widget.value = bgr8_to_jpeg(im0s[0])\n",
    "\n",
    "        # if cv2.waitKey(1) == ord('q'):  # Press 'q' to quit\n",
    "        #     break\n",
    "\n",
    "    #cv2.destroyAllWindows()"
   ]
  },
  {
   "cell_type": "markdown",
   "metadata": {},
   "source": [
    "##  启动进程 Start the process"
   ]
  },
  {
   "cell_type": "code",
   "execution_count": null,
   "metadata": {},
   "outputs": [],
   "source": [
    "display(image_widget)\n",
    "\n",
    "thread1 = threading.Thread(target=detect)\n",
    "\n",
    "thread1.daemon=True\n",
    "thread1.start()\n"
   ]
  },
  {
   "cell_type": "markdown",
   "metadata": {},
   "source": [
    "关闭进程 Close Process"
   ]
  },
  {
   "cell_type": "code",
   "execution_count": null,
   "metadata": {},
   "outputs": [],
   "source": [
    "oled.init_oled_process() #初始化oled进程 Initialize oled process\n",
    "# 恢复屏幕基础数据显示 Restore basic data display on screen\n",
    "os.system(\"python3 /home/pi/software/oled_yahboom/yahboom_oled.py &\")\n",
    "stop_thread(thread1)"
   ]
  }
 ],
 "metadata": {
  "kernelspec": {
   "display_name": "yolo",
   "language": "python",
   "name": "yolo"
  },
  "language_info": {
   "codemirror_mode": {
    "name": "ipython",
    "version": 3
   },
   "file_extension": ".py",
   "mimetype": "text/x-python",
   "name": "python",
   "nbconvert_exporter": "python",
   "pygments_lexer": "ipython3",
   "version": "3.11.2"
  }
 },
 "nbformat": 4,
 "nbformat_minor": 4
}
