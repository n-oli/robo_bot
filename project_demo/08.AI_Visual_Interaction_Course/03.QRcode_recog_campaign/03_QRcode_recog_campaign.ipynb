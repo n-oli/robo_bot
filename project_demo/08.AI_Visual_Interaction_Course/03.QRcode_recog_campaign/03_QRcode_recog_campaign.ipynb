{
 "cells": [
  {
   "cell_type": "raw",
   "metadata": {},
   "source": [
    "@Copyright (C): 2015-2024, Shenzhen Yahboom Tech\n",
    "@Date: 2024/07/30 \n",
    "@Author: clhchan \n",
    "@Contact: https://www.yahboom.com/about"
   ]
  },
  {
   "cell_type": "code",
   "execution_count": null,
   "metadata": {},
   "outputs": [],
   "source": [
    "#bgr8转jpeg格式 bgr8 to jpeg format\n",
    "import enum\n",
    "import cv2\n",
    "\n",
    "def bgr8_to_jpeg(value, quality=75):\n",
    "    return bytes(cv2.imencode('.jpg', value)[1])"
   ]
  },
  {
   "cell_type": "markdown",
   "metadata": {},
   "source": [
    "# 导入库并显示摄像头显示组件 Import the library and display the camera display component"
   ]
  },
  {
   "cell_type": "code",
   "execution_count": null,
   "metadata": {},
   "outputs": [],
   "source": [
    "import sys\n",
    "sys.path.append('/home/pi/project_demo/lib')\n",
    "#导入麦克纳姆小车驱动库 Import Mecanum Car Driver Library\n",
    "from McLumk_Wheel_Sports import *\n",
    "sys.path.append('/home/pi/software/oled_yahboom/')\n",
    "from yahboom_oled import *\n",
    "# 创建oled对象 Create an oled object\n",
    "oled = Yahboom_OLED(debug=False)\n",
    "# import the necessary packages\n",
    "import numpy as np\n",
    "import pyzbar.pyzbar as pyzbar\n",
    "from PIL import Image\n",
    "import ipywidgets.widgets as widgets\n",
    "# from picamera2 import Picamera2, Preview\n",
    "# import libcamera\n",
    "\n",
    "\n",
    "image_widget = widgets.Image(format='jpeg', width=640, height=320)"
   ]
  },
  {
   "cell_type": "code",
   "execution_count": null,
   "metadata": {},
   "outputs": [],
   "source": [
    "def servo_reset():\n",
    "    bot.Ctrl_Servo(1,90)\n",
    "    bot.Ctrl_Servo(2,25)\n",
    "servo_reset()"
   ]
  },
  {
   "cell_type": "markdown",
   "metadata": {},
   "source": [
    "# 定义识别运动函数\n",
    "## 用户可以自行准备5个包含以下内容（forword, back, left, right, stop)的二维码，进行实验。\n",
    "# Define the motion recognition function\n",
    "## Users can prepare 5 QR codes containing the following content (forword, back, left, right, stop) for experiments."
   ]
  },
  {
   "cell_type": "code",
   "execution_count": null,
   "metadata": {},
   "outputs": [],
   "source": [
    "speed=60\n",
    "def detect_control(info):\n",
    "    if info == \"forward\":\n",
    "        move_forward(speed)        #前进 forward\n",
    "    elif info == \"back\":\n",
    "        move_backward(speed)        #后退 back\n",
    "    elif info == \"left\":\n",
    "        rotate_left(speed)   #左旋 Rotate Left\n",
    "    elif info == \"right\":\n",
    "        rotate_right(speed)   #右旋 Rotate right\n",
    "    elif info == \"stop\":         #停车 stop\n",
    "        stop_robot() "
   ]
  },
  {
   "cell_type": "markdown",
   "metadata": {},
   "source": [
    "# 定义解析二维码接口 Define the QR code parsing interface"
   ]
  },
  {
   "cell_type": "code",
   "execution_count": null,
   "metadata": {},
   "outputs": [],
   "source": [
    "display(image_widget)                                      #显示摄像头组件 Display camera components\n",
    "def decodeDisplay(image):\n",
    "    barcodes = pyzbar.decode(image)\n",
    "    for barcode in barcodes:\n",
    "        # 提取二维码的边界框的位置 Extract the position of the bounding box of the QR code\n",
    "        # 画出图像中条形码的边界框 Draw the bounding box of the barcode in the image\n",
    "        (x, y, w, h) = barcode.rect\n",
    "        cv2.rectangle(image, (x, y), (x + w, y + h), (0, 225, 225), 2)\n",
    "\n",
    "        # 提取二维码数据为字节对象，所以如果我们想在输出图像上 Extract the QR code data as a byte object and convert it into a string\n",
    "        # 画出来，就需要先将它转换成字符串\n",
    "        datatemp=0\n",
    "        barcodeData = barcode.data.decode(\"utf-8\")\n",
    "        barcodeType = barcode.type\n",
    "\n",
    "        # 绘出图像上条形码的数据和条形码类型 Draw the barcode data and barcode type on the image\n",
    "        text = \"{} ({})\".format(barcodeData, barcodeType)\n",
    "        cv2.putText(image, text, (x, y - 10), cv2.FONT_HERSHEY_SIMPLEX, 0.5, (0, 225, 225), 2)\n",
    "        \n",
    "        # 向终端打印条形码数据和条形码类型 Print barcode data and barcode type to the terminal\n",
    "        print(\"[INFO] Found {} barcode: {}\".format(barcodeType, barcodeData))\n",
    "        if(barcodeData!=datatemp):\n",
    "            oled.clear()\n",
    "            qrtype_str=f'[INFO] Found {barcodeType}'\n",
    "            qrcode_str=f'barcode: {barcodeData}'\n",
    "            oled.add_line(qrtype_str, 1)\n",
    "            oled.add_line(qrcode_str, 3)\n",
    "            oled.refresh()\n",
    "            datatemp=barcodeData\n",
    "        detect_control(barcodeData)\n",
    "    return image\n",
    "\n",
    "def detect():\n",
    "    oled.init_oled_process() #初始化oled进程 Initialize oled process\n",
    "    qrtype_str=f'[INFO] Found '\n",
    "    qrcode_str=f'barcode: None'\n",
    "    oled.add_line(qrtype_str, 1)\n",
    "    oled.add_line(qrcode_str, 3)\n",
    "    oled.refresh()\n",
    "    camera = cv2.VideoCapture(0)\n",
    "    camera.set(3, 320)\n",
    "    camera.set(4, 240)\n",
    "    camera.set(5, 30)  #设置帧率 Setting the frame rate\n",
    "    # fourcc = cv2.VideoWriter_fourcc(*\"MPEG\")\n",
    "    # camera.set(cv2.CAP_PROP_FOURCC, cv2.VideoWriter.fourcc('M', 'J', 'P', 'G'))\n",
    "    # camera.set(cv2.CAP_PROP_BRIGHTNESS, 40) #设置亮度 -64 - 64  0.0 Set Brightness -64 - 64 0.0\n",
    "    # camera.set(cv2.CAP_PROP_CONTRAST, 50) #设置对比度 -64 - 64  2.0 Set Contrast -64 - 64 2.0\n",
    "    # camera.set(cv2.CAP_PROP_EXPOSURE, 156) #设置曝光值 1.0 - 5000  156.0 Set the exposure value 1.0 - 5000 156.0\n",
    "    ret, frame = camera.read()\n",
    "    \n",
    "    # picam2 = Picamera2()  \n",
    "    # camera_config = picam2.create_preview_configuration(main={\"format\":'RGB888',\"size\":(320,240)})\n",
    "    # camera_config[\"transform\"] = libcamera.Transform(hflip=1, vflip=1)\n",
    "    # picam2.configure(camera_config) \n",
    "    # picam2.start() \n",
    "    # frame = picam2.capture_array()\n",
    "    image_widget.value = bgr8_to_jpeg(frame)\n",
    "    try:\n",
    "        while True:\n",
    "            # 读取当前帧 Read the current frame\n",
    "            ret, frame = camera.read()\n",
    "            #frame = picam2.capture_array()\n",
    "            # 转为灰度图像 Convert to grayscale image\n",
    "            gray = cv2.cvtColor(frame, cv2.COLOR_BGR2GRAY)\n",
    "            im = decodeDisplay(gray)\n",
    "            image_widget.value = bgr8_to_jpeg(im)\n",
    "            cv2.waitKey(5)\n",
    "    except:\n",
    "        #picam2.stop_preview()\n",
    "        camera.release()\n",
    "        # 恢复屏幕基础数据显示 Restore basic data display on screen\n",
    "        os.system(\"python3 /home/pi/software/oled_yahboom/yahboom_oled.py &\")\n"
   ]
  },
  {
   "cell_type": "code",
   "execution_count": null,
   "metadata": {
    "scrolled": true
   },
   "outputs": [],
   "source": [
    "detect()\n",
    "stop_robot()\n",
    "oled.init_oled_process() #初始化oled进程 Initialize oled process\n",
    "# 恢复屏幕基础数据显示 Restore basic data display on screen\n",
    "os.system(\"python3 /home/pi/software/oled_yahboom/yahboom_oled.py &\")\n",
    "print(\"Ending\")"
   ]
  },
  {
   "cell_type": "markdown",
   "metadata": {},
   "source": [
    "### 当你需要结束整个程序时，请点击上方菜单栏中的方块型按钮(Interrupt the kernel）.\n",
    "### 然后你可以看到Ending提示，表示已经成功地结束了这个程序\n",
    "### When you need to end the entire program, please click the square button (Interrupt the kernel) in the upper menu bar.\n",
    "### Then you can see the Ending prompt, indicating that the program has been successfully ended."
   ]
  }
 ],
 "metadata": {
  "kernelspec": {
   "display_name": "Python 3 (ipykernel)",
   "language": "python",
   "name": "python3"
  },
  "language_info": {
   "codemirror_mode": {
    "name": "ipython",
    "version": 3
   },
   "file_extension": ".py",
   "mimetype": "text/x-python",
   "name": "python",
   "nbconvert_exporter": "python",
   "pygments_lexer": "ipython3",
   "version": "3.11.2"
  }
 },
 "nbformat": 4,
 "nbformat_minor": 4
}
