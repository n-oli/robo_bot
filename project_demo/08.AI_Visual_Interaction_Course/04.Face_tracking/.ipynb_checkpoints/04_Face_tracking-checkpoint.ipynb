{
 "cells": [
  {
   "cell_type": "raw",
   "metadata": {},
   "source": [
    "@Copyright (C): 2015-2024, Shenzhen Yahboom Tech\n",
    "@Date: 2024/07/30 \n",
    "@Author: clhchan \n",
    "@Contact: https://www.yahboom.com/about"
   ]
  },
  {
   "cell_type": "code",
   "execution_count": null,
   "metadata": {},
   "outputs": [],
   "source": [
    "#bgr8转jpeg格式 bgr8 to jpeg format\n",
    "import enum\n",
    "import cv2\n",
    "\n",
    "def bgr8_to_jpeg(value, quality=75):\n",
    "    return bytes(cv2.imencode('.jpg', value)[1])"
   ]
  },
  {
   "cell_type": "markdown",
   "metadata": {},
   "source": [
    "## 导入相关包，创建相机实例 Import related packages and create a camera instance"
   ]
  },
  {
   "cell_type": "code",
   "execution_count": null,
   "metadata": {},
   "outputs": [],
   "source": [
    "import sys\n",
    "#导入Raspbot驱动库 Import the Raspbot library\n",
    "from Raspbot_Lib import Raspbot\n",
    "# 创建Rosmaster对象 bot Create the Rosmaster object bot\n",
    "bot = Raspbot()\n",
    "\n",
    "import cv2\n",
    "import mediapipe as mp\n",
    "import ipywidgets.widgets as widgets\n",
    "import threading\n",
    "import time\n",
    "import sys\n",
    "import math\n",
    "\n",
    "image_widget = widgets.Image(format='jpeg', width=640, height=480)"
   ]
  },
  {
   "cell_type": "markdown",
   "metadata": {},
   "source": [
    "## 创建相关控制变量 Create relevant control variables"
   ]
  },
  {
   "cell_type": "code",
   "execution_count": null,
   "metadata": {},
   "outputs": [],
   "source": [
    "global face_x, face_y, face_w, face_h\n",
    "face_x = face_y = face_w = face_h = 0\n",
    "global target_valuex\n",
    "target_valuex = 2048\n",
    "global target_valuey\n",
    "target_valuey = 2048"
   ]
  },
  {
   "cell_type": "markdown",
   "metadata": {},
   "source": [
    "## 创建PID控制实例 Create a PID control instance"
   ]
  },
  {
   "cell_type": "code",
   "execution_count": null,
   "metadata": {},
   "outputs": [],
   "source": [
    "import PID\n",
    "xservo_pid = PID.PositionalPID(0.6, 0.2, 0.01)#1.1 0.4 0.01\n",
    "yservo_pid = PID.PositionalPID(0.8, 0.2, 0.01)"
   ]
  },
  {
   "cell_type": "code",
   "execution_count": null,
   "metadata": {},
   "outputs": [],
   "source": [
    "# 定义 target_servox 和 target_servoy 在外部 Define target_servox and target_servoy externally\n",
    "target_servox = 90\n",
    "target_servoy = 25\n",
    "def servo_reset():\n",
    "    bot.Ctrl_Servo(1,90)\n",
    "    bot.Ctrl_Servo(2,40)\n",
    "servo_reset()"
   ]
  },
  {
   "cell_type": "markdown",
   "metadata": {},
   "source": [
    "## 创建结束进程函数 Create a process termination function"
   ]
  },
  {
   "cell_type": "code",
   "execution_count": null,
   "metadata": {},
   "outputs": [],
   "source": [
    "# 线程功能操作库 Thread function operation library\n",
    "import inspect\n",
    "import ctypes\n",
    "def _async_raise(tid, exctype):\n",
    "    \"\"\"raises the exception, performs cleanup if needed\"\"\"\n",
    "    tid = ctypes.c_long(tid)\n",
    "    if not inspect.isclass(exctype):\n",
    "        exctype = type(exctype)\n",
    "    res = ctypes.pythonapi.PyThreadState_SetAsyncExc(tid, ctypes.py_object(exctype))\n",
    "    if res == 0:\n",
    "        raise ValueError(\"invalid thread id\")\n",
    "    elif res != 1:\n",
    "        # \"\"\"if it returns a number greater than one, you're in trouble,\n",
    "        # and you should call it again with exc=NULL to revert the effect\"\"\"\n",
    "        ctypes.pythonapi.PyThreadState_SetAsyncExc(tid, None)\n",
    "        \n",
    "def stop_thread(thread):\n",
    "    _async_raise(thread.ident, SystemExit)"
   ]
  },
  {
   "cell_type": "markdown",
   "metadata": {},
   "source": [
    "## 人脸识别函数 Face recognition function"
   ]
  },
  {
   "cell_type": "code",
   "execution_count": null,
   "metadata": {},
   "outputs": [],
   "source": [
    "class FaceDetector:\n",
    "    def __init__(self, minDetectionCon=0.5):\n",
    "        self.mpFaceDetection = mp.solutions.face_detection\n",
    "        self.mpDraw = mp.solutions.drawing_utils\n",
    "        self.facedetection = self.mpFaceDetection.FaceDetection(min_detection_confidence=minDetectionCon)\n",
    "\n",
    "    def findFaces(self, frame):\n",
    "        img_RGB = cv2.cvtColor(frame, cv2.COLOR_BGR2RGB)\n",
    "        self.results = self.facedetection.process(img_RGB)\n",
    "        bboxs = []\n",
    "        bbox=0,0,0,0\n",
    "        if self.results.detections:\n",
    "            for id, detection in enumerate(self.results.detections):\n",
    "                bboxC = detection.location_data.relative_bounding_box\n",
    "                ih, iw, ic = frame.shape\n",
    "                bbox = int(bboxC.xmin * iw), int(bboxC.ymin * ih), \\\n",
    "                       int(bboxC.width * iw), int(bboxC.height * ih)\n",
    "                bboxs.append([id, bbox, detection.score])\n",
    "                frame= self.fancyDraw(frame, bbox)\n",
    "                # cv2.putText(frame, f'{int(detection.score[0] * 100)}%',\n",
    "                #            (bbox[0], bbox[1] - 20), cv2.FONT_HERSHEY_PLAIN,\n",
    "                #            3, (255, 0, 255), 2)\n",
    "        return frame, bboxs, self.results.detections, bbox\n",
    "\n",
    "    def fancyDraw(self, frame, bbox, l=30, t=5):\n",
    "        x, y, w, h = bbox\n",
    "        x1, y1 = x + w, y + h\n",
    "        cv2.rectangle(frame, (x, y),(x + w, y + h), (0,255,0), 2)\n",
    "        # Top left x,y\n",
    "        cv2.line(frame, (x, y), (x + l, y), (0,255,0), t)\n",
    "        cv2.line(frame, (x, y), (x, y + l), (0,255,0), t)\n",
    "        # Top right x1,y\n",
    "        cv2.line(frame, (x1, y), (x1 - l, y), (0,255,0), t)\n",
    "        cv2.line(frame, (x1, y), (x1, y + l), (0,255,0), t)\n",
    "        # Bottom left x1,y1\n",
    "        cv2.line(frame, (x, y1), (x + l, y1), (0,255,0), t)\n",
    "        cv2.line(frame, (x, y1), (x, y1 - l), (0,255,0), t)\n",
    "        # Bottom right x1,y1\n",
    "        cv2.line(frame, (x1, y1), (x1 - l, y1), (0,255,0), t)\n",
    "        cv2.line(frame, (x1, y1), (x1, y1 - l), (0,255,0), t)\n",
    "        return frame\n"
   ]
  },
  {
   "cell_type": "markdown",
   "metadata": {},
   "source": [
    "#  开启摄像头 Turn on the camera"
   ]
  },
  {
   "cell_type": "code",
   "execution_count": null,
   "metadata": {},
   "outputs": [],
   "source": [
    "image = cv2.VideoCapture(0)\n",
    "image_width = 640\n",
    "image_height = 480\n",
    "image.set(3, image_width)\n",
    "image.set(4, image_height)\n",
    "image_width = image.get(cv2.CAP_PROP_FRAME_WIDTH)\n",
    "image_height = image.get(cv2.CAP_PROP_FRAME_HEIGHT)\n",
    "# image.set(cv2.CAP_PROP_FOURCC, cv2.VideoWriter.fourcc('M', 'J', 'P', 'G'))\n",
    "# image.set(cv2.CAP_PROP_BRIGHTNESS, 62) #设置亮度 -64 - 64  0.0 Set Brightness -64 - 64 0.0\n",
    "# image.set(cv2.CAP_PROP_CONTRAST, 63) #设置对比度 -64 - 64  2.0 Set Contrast -64 - 64 2.0\n",
    "# image.set(cv2.CAP_PROP_EXPOSURE, 4800) #设置曝光值 1.0 - 5000  156.0 Set the exposure value 1.0 - 5000 156.0\n",
    "\n",
    "#csi\n",
    "# from picamera2 import Picamera2, Preview\n",
    "# import libcamera\n",
    "# picam2 = Picamera2()  \n",
    "# camera_config = picam2.create_preview_configuration(main={\"format\":'RGB888',\"size\":(320,240)})\n",
    "# camera_config[\"transform\"] = libcamera.Transform(hflip=1, vflip=1)\n",
    "# picam2.configure(camera_config) \n",
    "# picam2.start()  "
   ]
  },
  {
   "cell_type": "markdown",
   "metadata": {},
   "source": [
    "## 云台运动主进程 PTZ motion main process"
   ]
  },
  {
   "cell_type": "markdown",
   "metadata": {},
   "source": [
    "无死区控制，实时性高，舵机会一直工作，抖动频繁 No dead zone control, high real-time performance, the servo will always work, and the vibration is frequent"
   ]
  },
  {
   "cell_type": "code",
   "execution_count": null,
   "metadata": {},
   "outputs": [],
   "source": [
    "def Face_Recongnize():\n",
    "    global x,w,y,h\n",
    "    face_detector = FaceDetector(0.75)\n",
    "    while image.isOpened():\n",
    "        ret, frame = image.read()\n",
    "        #frame = picam2.capture_array()      \n",
    "        faces,_,descore,bbox= face_detector.findFaces(frame)\n",
    "        x,y,w,h = bbox\n",
    "        if descore:     \n",
    "            #Proportion-Integration-Differentiation算法  PID algorithm\n",
    "            # 输入X轴方向参数PID控制输入 Input X-axis direction parameter PID control input\n",
    "            xservo_pid.SystemOutput = x + w/2\n",
    "            xservo_pid.SetStepSignal(int(image_width/2))\n",
    "            xservo_pid.SetInertiaTime(0.01, 0.1)\n",
    "            #print(xservo_pid.SystemOutput)\n",
    "            target_valuex = int(1500+xservo_pid.SystemOutput)\n",
    "            target_servox = int((target_valuex-500)/10)\n",
    "            # 将云台转动至PID调校位置 Turn the gimbal to the PID adjustment position\n",
    "            if target_servox > 180:\n",
    "                target_servox = 180\n",
    "            if target_servox < 0:\n",
    "                target_servox = 0     \n",
    "            # 输入Y轴方向参数PID控制输入 Input Y-axis direction parameter PID control input\n",
    "            yservo_pid.SystemOutput = y + h/2\n",
    "            yservo_pid.SetStepSignal(int(image_height/2))\n",
    "            yservo_pid.SetInertiaTime(0.01, 0.1)\n",
    "            target_valuey = int(850+yservo_pid.SystemOutput)\n",
    "            target_servoy = int((target_valuey-500)/10)                   \n",
    "            #print(\"target_servoy %d\", target_servoy)  \n",
    "            if target_servoy > 110:\n",
    "                target_servoy = 110\n",
    "            if target_servoy < 0:\n",
    "                target_servoy = 0          \n",
    "            # 将云台转动至PID调校位置 Turn the gimbal to the PID adjustment position\n",
    "            #robot.Servo_control(target_valuex,target_valuey)\n",
    "                \n",
    "            bot.Ctrl_Servo(1, target_servox)\n",
    "            bot.Ctrl_Servo(2, target_servoy)\n",
    "\n",
    "        try:\n",
    "            image_widget.value = bgr8_to_jpeg(frame)\n",
    "        except:\n",
    "            continue"
   ]
  },
  {
   "cell_type": "markdown",
   "metadata": {},
   "source": [
    "带死区控制，跟随实时性差一些，舵机在死区范围内不运动，抖动较稳定 With dead zone control, the real-time following performance is poor, the servo does not move within the dead zone, and the jitter is relatively stable"
   ]
  },
  {
   "cell_type": "code",
   "execution_count": null,
   "metadata": {},
   "outputs": [],
   "source": [
    "def Face_Recongnize2():\n",
    "    global x,w,y,h\n",
    "    face_detector = FaceDetector(0.75)\n",
    "    while 1:\n",
    "        ret, frame = image.read()\n",
    "        #frame = picam2.capture_array()\n",
    "        faces,_,descore,bbox= face_detector.findFaces(frame)\n",
    "        x,y,w,h = bbox\n",
    "        if descore:           \n",
    "            #Proportion-Integration-Differentiation算法  pid algorithm\n",
    "            # 输入X轴方向参数PID控制输入 Input X-axis direction parameter PID control input\n",
    "            if math.fabs(int(image_width/2) - (x + w/2)) > 40:\n",
    "                xservo_pid.SystemOutput = x + w/2\n",
    "                xservo_pid.SetStepSignal(int(image_width/2))\n",
    "                xservo_pid.SetInertiaTime(0.01, 0.05)\n",
    "                #print(xservo_pid.SystemOutput)\n",
    "                target_valuex = int(1500+xservo_pid.SystemOutput)\n",
    "                target_servox = int((target_valuex-500)/10)\n",
    "                # 将云台转动至PID调校位置 Turn the gimbal to the PID adjustment position\n",
    "                if target_servox > 180:\n",
    "                    target_servox = 180\n",
    "                if target_servox < 0:\n",
    "                    target_servox = 0\n",
    "                bot.Ctrl_Servo(1, target_servox)    \n",
    "\n",
    "            # 输入Y轴方向参数PID控制输入 Input Y-axis direction parameter PID control input\n",
    "            if math.fabs(int(image_height/2) - (y + h/2)) > 40:\n",
    "                yservo_pid.SystemOutput = y + h/2\n",
    "                yservo_pid.SetStepSignal(int(image_height/2))\n",
    "                yservo_pid.SetInertiaTime(0.01, 0.05)\n",
    "                target_valuey = int(850+yservo_pid.SystemOutput)\n",
    "                target_servoy = int((target_valuey-500)/10)                   \n",
    "                #print(\"target_servoy %d\", target_servoy)  \n",
    "                if target_servoy > 100:\n",
    "                    target_servoy = 100\n",
    "                if target_servoy < 0:\n",
    "                    target_servoy = 0        \n",
    "                bot.Ctrl_Servo(2, target_servoy)\n",
    "        try:\n",
    "            image_widget.value = bgr8_to_jpeg(faces)\n",
    "        except:\n",
    "            continue"
   ]
  },
  {
   "cell_type": "code",
   "execution_count": null,
   "metadata": {},
   "outputs": [],
   "source": [
    "display(image_widget)\n",
    "thread1 = threading.Thread(target=Face_Recongnize2)\n",
    "thread1.daemon=True\n",
    "thread1.start()\n",
    "\n",
    "#picam2.stop()\n",
    "#picam2.close()"
   ]
  },
  {
   "cell_type": "markdown",
   "metadata": {},
   "source": [
    "最后需要运行一下程序结束视频流占用  Finally, you need to run the program to end the code block to end the video stream occupation"
   ]
  },
  {
   "cell_type": "code",
   "execution_count": null,
   "metadata": {},
   "outputs": [],
   "source": [
    "#结束进程，释放摄像头，需要结束时执行 End the process, release the camera, and execute when it is finished\n",
    "stop_thread(thread1)\n",
    "#释放摄像头资源 Release camera resources\n",
    "image.release()\n",
    "#复位舵机 Reset servo\n",
    "bot.Ctrl_Servo(1,90)\n",
    "bot.Ctrl_Servo(2,25)"
   ]
  },
  {
   "cell_type": "code",
   "execution_count": null,
   "metadata": {},
   "outputs": [],
   "source": []
  }
 ],
 "metadata": {
  "kernelspec": {
   "display_name": "Python 3 (ipykernel)",
   "language": "python",
   "name": "python3"
  },
  "language_info": {
   "codemirror_mode": {
    "name": "ipython",
    "version": 3
   },
   "file_extension": ".py",
   "mimetype": "text/x-python",
   "name": "python",
   "nbconvert_exporter": "python",
   "pygments_lexer": "ipython3",
   "version": "3.11.2"
  }
 },
 "nbformat": 4,
 "nbformat_minor": 4
}
