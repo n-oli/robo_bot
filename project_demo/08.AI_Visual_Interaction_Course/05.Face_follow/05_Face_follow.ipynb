{
 "cells": [
  {
   "cell_type": "raw",
   "metadata": {},
   "source": [
    "@Copyright (C): 2015-2024, Shenzhen Yahboom Tech\n",
    "@Date: 2024/08/22 \n",
    "@Author: clhchan \n",
    "@Contact: https://www.yahboom.com/about"
   ]
  },
  {
   "cell_type": "code",
   "execution_count": null,
   "metadata": {},
   "outputs": [],
   "source": [
    "#bgr8转jpeg格式 bgr8 to jpeg format\n",
    "import enum\n",
    "import cv2\n",
    "\n",
    "def bgr8_to_jpeg(value, quality=75):\n",
    "    return bytes(cv2.imencode('.jpg', value)[1])"
   ]
  },
  {
   "cell_type": "markdown",
   "metadata": {},
   "source": [
    "## 导入相关包，创建相机实例 Import related packages and create a camera instance"
   ]
  },
  {
   "cell_type": "code",
   "execution_count": null,
   "metadata": {},
   "outputs": [],
   "source": [
    "import sys\n",
    "sys.path.append('/home/pi/project_demo/lib')\n",
    "#导入麦克纳姆小车驱动库 Import Mecanum Car Driver Library\n",
    "from McLumk_Wheel_Sports import *\n",
    "\n",
    "import cv2\n",
    "import mediapipe as mp\n",
    "import ipywidgets.widgets as widgets\n",
    "import threading\n",
    "import time\n",
    "import sys\n",
    "import math\n",
    "\n",
    "image_widget = widgets.Image(format='jpeg', width=640, height=480)"
   ]
  },
  {
   "cell_type": "markdown",
   "metadata": {},
   "source": [
    "## 创建相关控制变量 Create relevant control variables"
   ]
  },
  {
   "cell_type": "code",
   "execution_count": null,
   "metadata": {},
   "outputs": [],
   "source": [
    "global face_x, face_y, face_w, face_h\n",
    "face_x = face_y = face_w = face_h = 0\n",
    "global target_valuex\n",
    "target_valuex = 2048\n",
    "global target_valuey\n",
    "target_valuey = 2048"
   ]
  },
  {
   "cell_type": "markdown",
   "metadata": {},
   "source": [
    "## 创建PID控制实例 Create a PID control instance"
   ]
  },
  {
   "cell_type": "code",
   "execution_count": null,
   "metadata": {},
   "outputs": [],
   "source": [
    "import PID\n",
    "#xservo_pid = PID.PositionalPID(1.1, 0.4, 0.01)#1.1 0.4 0.01\n",
    "direction_pid = PID.PositionalPID(0.8, 0, 0.2)\n",
    "yservo_pid = PID.PositionalPID(0.8, 0.2, 0.01)\n",
    "speed_pid = PID.PositionalPID(1.1, 0, 0.2)\n"
   ]
  },
  {
   "cell_type": "code",
   "execution_count": null,
   "metadata": {},
   "outputs": [],
   "source": [
    "# 定义 target_servox 和 target_servoy 在外部 Define target_servox and target_servoy externally\n",
    "target_servox = 90\n",
    "target_servoy = 25\n",
    "def servo_reset():\n",
    "    bot.Ctrl_Servo(1,90)\n",
    "    bot.Ctrl_Servo(2,80)\n",
    "servo_reset()"
   ]
  },
  {
   "cell_type": "markdown",
   "metadata": {},
   "source": [
    "## 创建结束进程函数 Create a process termination function"
   ]
  },
  {
   "cell_type": "code",
   "execution_count": null,
   "metadata": {},
   "outputs": [],
   "source": [
    "# 线程功能操作库 Thread function operation library\n",
    "import inspect\n",
    "import ctypes\n",
    "def _async_raise(tid, exctype):\n",
    "    \"\"\"raises the exception, performs cleanup if needed\"\"\"\n",
    "    tid = ctypes.c_long(tid)\n",
    "    if not inspect.isclass(exctype):\n",
    "        exctype = type(exctype)\n",
    "    res = ctypes.pythonapi.PyThreadState_SetAsyncExc(tid, ctypes.py_object(exctype))\n",
    "    if res == 0:\n",
    "        raise ValueError(\"invalid thread id\")\n",
    "    elif res != 1:\n",
    "        # \"\"\"if it returns a number greater than one, you're in trouble,\n",
    "        # and you should call it again with exc=NULL to revert the effect\"\"\"\n",
    "        ctypes.pythonapi.PyThreadState_SetAsyncExc(tid, None)\n",
    "        \n",
    "def stop_thread(thread):\n",
    "    _async_raise(thread.ident, SystemExit)"
   ]
  },
  {
   "cell_type": "markdown",
   "metadata": {},
   "source": [
    "## 人脸识别函数 Face recognition function"
   ]
  },
  {
   "cell_type": "code",
   "execution_count": null,
   "metadata": {},
   "outputs": [],
   "source": [
    "class FaceDetector:\n",
    "    def __init__(self, minDetectionCon=0.5):\n",
    "        self.mpFaceDetection = mp.solutions.face_detection\n",
    "        self.mpDraw = mp.solutions.drawing_utils\n",
    "        self.facedetection = self.mpFaceDetection.FaceDetection(min_detection_confidence=minDetectionCon)\n",
    "\n",
    "    def findFaces(self, frame):\n",
    "        img_RGB = cv2.cvtColor(frame, cv2.COLOR_BGR2RGB)\n",
    "        self.results = self.facedetection.process(img_RGB)\n",
    "        bboxs = []\n",
    "        bbox=0,0,0,0\n",
    "        center_x=center_y=0\n",
    "        if self.results.detections:\n",
    "            for id, detection in enumerate(self.results.detections):\n",
    "                bboxC = detection.location_data.relative_bounding_box\n",
    "                ih, iw, ic = frame.shape\n",
    "                bbox = int(bboxC.xmin * iw), int(bboxC.ymin * ih), \\\n",
    "                       int(bboxC.width * iw), int(bboxC.height * ih)\n",
    "                #计算中心点\n",
    "                center_x = bbox[0] + bbox[2] // 2\n",
    "                center_y = bbox[1] + bbox[3] // 2\n",
    "                bboxs.append([id, bbox, detection.score])\n",
    "                frame= self.fancyDraw(frame, bbox)\n",
    "                # cv2.putText(frame, f'{int(detection.score[0] * 100)}%',\n",
    "                #            (bbox[0], bbox[1] - 20), cv2.FONT_HERSHEY_PLAIN,\n",
    "                #            3, (255, 0, 255), 2)\n",
    "        return frame, bboxs, self.results.detections, bbox, center_x\n",
    "\n",
    "    def fancyDraw(self, frame, bbox, l=30, t=5):\n",
    "        x, y, w, h = bbox\n",
    "        x1, y1 = x + w, y + h\n",
    "        cv2.rectangle(frame, (x, y),(x + w, y + h), (0,255,0), 2)\n",
    "        # Top left x,y\n",
    "        cv2.line(frame, (x, y), (x + l, y), (0,255,0), t)\n",
    "        cv2.line(frame, (x, y), (x, y + l), (0,255,0), t)\n",
    "        # Top right x1,y\n",
    "        cv2.line(frame, (x1, y), (x1 - l, y), (0,255,0), t)\n",
    "        cv2.line(frame, (x1, y), (x1, y + l), (0,255,0), t)\n",
    "        # Bottom left x1,y1\n",
    "        cv2.line(frame, (x, y1), (x + l, y1), (0,255,0), t)\n",
    "        cv2.line(frame, (x, y1), (x, y1 - l), (0,255,0), t)\n",
    "        # Bottom right x1,y1\n",
    "        cv2.line(frame, (x1, y1), (x1 - l, y1), (0,255,0), t)\n",
    "        cv2.line(frame, (x1, y1), (x1, y1 - l), (0,255,0), t)\n",
    "        return frame\n"
   ]
  },
  {
   "cell_type": "markdown",
   "metadata": {},
   "source": [
    "#  开启摄像头 Turn on the camera"
   ]
  },
  {
   "cell_type": "code",
   "execution_count": null,
   "metadata": {},
   "outputs": [],
   "source": [
    "image = cv2.VideoCapture(0)\n",
    "image_width = 640\n",
    "image_height = 480\n",
    "image.set(3, image_width)\n",
    "image.set(4, image_height)\n",
    "image_width = image.get(cv2.CAP_PROP_FRAME_WIDTH)\n",
    "image_height = image.get(cv2.CAP_PROP_FRAME_HEIGHT)\n",
    "# image.set(cv2.CAP_PROP_FOURCC, cv2.VideoWriter.fourcc('M', 'J', 'P', 'G'))\n",
    "# image.set(cv2.CAP_PROP_BRIGHTNESS, 62) #设置亮度 -64 - 64  0.0 Set Brightness -64 - 64 0.0\n",
    "# image.set(cv2.CAP_PROP_CONTRAST, 63) #设置对比度 -64 - 64  2.0 Set Contrast -64 - 64 2.0\n",
    "# image.set(cv2.CAP_PROP_EXPOSURE, 4800) #设置曝光值 1.0 - 5000  156.0 Set the exposure value 1.0 - 5000 156.0\n",
    "\n",
    "#csi\n",
    "# from picamera2 import Picamera2, Preview\n",
    "# import libcamera\n",
    "# picam2 = Picamera2()  \n",
    "# camera_config = picam2.create_preview_configuration(main={\"format\":'RGB888',\"size\":(320,240)})\n",
    "# camera_config[\"transform\"] = libcamera.Transform(hflip=1, vflip=1)\n",
    "# picam2.configure(camera_config) \n",
    "# picam2.start()  "
   ]
  },
  {
   "cell_type": "markdown",
   "metadata": {},
   "source": [
    "带死区控制，跟随实时性差一些，舵机在死区范围内不运动，抖动较稳定 With dead zone control, the real-time following performance is poor, the servo does not move within the dead zone, and the jitter is relatively stable"
   ]
  },
  {
   "cell_type": "code",
   "execution_count": null,
   "metadata": {},
   "outputs": [],
   "source": [
    "def Face_Follow():\n",
    "    global x,w,y,h\n",
    "    speed=30\n",
    "    face_detector = FaceDetector(0.75)\n",
    "    while 1:\n",
    "        ret, frame = image.read()\n",
    "        #frame = picam2.capture_array()\n",
    "        faces,_,descore,bbox,center_x= face_detector.findFaces(frame)\n",
    "        x,y,w,h = bbox\n",
    "        if descore:\n",
    "            direction_pid.SystemOutput = center_x\n",
    "            direction_pid.SetStepSignal(int(image_width/2))\n",
    "            direction_pid.SetInertiaTime(0.01, 0.05)\n",
    "            target_valuex = int(direction_pid.SystemOutput+65)\n",
    "            # 输入Y轴方向参数PID控制输入 Input Y-axis direction parameter PID control input\n",
    "            if math.fabs(int(image_height/2) - (y + h/2)) > 40:\n",
    "                yservo_pid.SystemOutput = y + h/2\n",
    "                yservo_pid.SetStepSignal(int(image_height/2))\n",
    "                yservo_pid.SetInertiaTime(0.01, 0.05)\n",
    "                target_valuey = int(850+yservo_pid.SystemOutput)\n",
    "                target_servoy = int((target_valuey-500)/10)                   \n",
    "                #print(\"target_servoy %d\", target_servoy)  \n",
    "                if target_servoy > 100:\n",
    "                    target_servoy = 100\n",
    "                if target_servoy < 0:\n",
    "                    target_servoy = 0        \n",
    "                bot.Ctrl_Servo(2, target_servoy)\n",
    "\n",
    "            speed_pid.SystemOutput = int(h/2)\n",
    "            speed_pid.SetStepSignal(80)\n",
    "            speed_pid.SetInertiaTime(0.01, 0.1)               \n",
    "            speed_value = int(speed_pid.SystemOutput)\n",
    "\n",
    "            # 打印文本到图像\n",
    "            text = f\"color_radius {int(h/2)} target_valuex {target_valuex}\"\n",
    "            font = cv2.FONT_HERSHEY_SIMPLEX\n",
    "            font_scale = 1\n",
    "            color = (255, 0, 0)  # 白色\n",
    "            thickness = 2\n",
    "            text_position = (10, 60)  # 文本位置\n",
    "            cv2.putText(faces, text, text_position, font, font_scale, color, thickness)\n",
    "            #print(\"color_radius %d target_valuex%d\", h/2,target_valuex)\n",
    "\n",
    "            if speed_value > 255:\n",
    "                speed_value = 255\n",
    "            if speed_value < 0:\n",
    "                speed_value = 0\n",
    "                \n",
    "            if(target_valuex>50):\n",
    "                rotate_left(int(speed/5))# speed\n",
    "            elif(target_valuex<-50):\n",
    "                rotate_right(int(speed/5))\n",
    "            elif(75<h/2<100):#调试目标半径75~100 Debug target radius 65~90\n",
    "                stop_robot()\n",
    "            elif(h/2>60):#调试目标半径58 Debug target radius 58\n",
    "                if(abs(target_valuex)<30):\n",
    "                    move_backward(speed)\n",
    "            elif(20<h/2<55):\n",
    "                if(abs(target_valuex)<30):\n",
    "                    move_forward(speed_value)\n",
    "            else:stop_robot()\n",
    "\n",
    "            #bot.Ctrl_Servo(2,target_servoy)\n",
    "        \n",
    "        else:\n",
    "            stop_robot()\n",
    "        try:\n",
    "            image_widget.value = bgr8_to_jpeg(faces)\n",
    "        except:\n",
    "            continue"
   ]
  },
  {
   "cell_type": "code",
   "execution_count": null,
   "metadata": {},
   "outputs": [],
   "source": [
    "display(image_widget)\n",
    "thread1 = threading.Thread(target=Face_Follow)\n",
    "thread1.daemon=True\n",
    "thread1.start()\n",
    "\n",
    "#picam2.stop()\n",
    "#picam2.close()"
   ]
  },
  {
   "cell_type": "markdown",
   "metadata": {},
   "source": [
    "最后需要运行一下程序结束视频流占用  Finally, you need to run the program to end the code block to end the video stream occupation"
   ]
  },
  {
   "cell_type": "code",
   "execution_count": null,
   "metadata": {},
   "outputs": [],
   "source": [
    "#结束进程，释放摄像头，需要结束时执行 End the process, release the camera, and execute when it is finished\n",
    "stop_thread(thread1)\n",
    "#释放摄像头资源 Release camera resources\n",
    "image.release()\n",
    "#复位舵机 Reset servo\n",
    "bot.Ctrl_Servo(1,90)\n",
    "bot.Ctrl_Servo(2,25)"
   ]
  },
  {
   "cell_type": "code",
   "execution_count": null,
   "metadata": {},
   "outputs": [],
   "source": []
  }
 ],
 "metadata": {
  "kernelspec": {
   "display_name": "Python 3 (ipykernel)",
   "language": "python",
   "name": "python3"
  },
  "language_info": {
   "codemirror_mode": {
    "name": "ipython",
    "version": 3
   },
   "file_extension": ".py",
   "mimetype": "text/x-python",
   "name": "python",
   "nbconvert_exporter": "python",
   "pygments_lexer": "ipython3",
   "version": "3.11.2"
  }
 },
 "nbformat": 4,
 "nbformat_minor": 4
}
