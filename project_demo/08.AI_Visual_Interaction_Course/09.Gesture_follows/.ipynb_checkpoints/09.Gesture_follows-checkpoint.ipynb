{
 "cells": [
  {
   "cell_type": "raw",
   "id": "345e6e52-7755-401f-8eec-bfd3f24a3c63",
   "metadata": {},
   "source": [
    "@Copyright (C): 2015-2024, Shenzhen Yahboom Tech\n",
    "@Date: 2024/09/11 \n",
    "@Author: Gentle Xu \n",
    "@Contact: https://www.yahboom.com/about"
   ]
  },
  {
   "cell_type": "code",
   "execution_count": null,
   "id": "590c80f6-d49b-46c4-b03e-d63df3c4e2de",
   "metadata": {},
   "outputs": [],
   "source": [
    "#bgr8转jpeg格式 bgr8 to jpeg format\n",
    "import enum\n",
    "import cv2\n",
    "\n",
    "def bgr8_to_jpeg(value, quality=75):\n",
    "    return bytes(cv2.imencode('.jpg', value)[1])"
   ]
  },
  {
   "cell_type": "markdown",
   "id": "3ff3f23c-a52f-46aa-8c71-c13479cec756",
   "metadata": {},
   "source": [
    "## 导入相关包，创建相机实例 Import related packages and create a camera instance ##"
   ]
  },
  {
   "cell_type": "code",
   "execution_count": null,
   "id": "e969438a-8ee5-424f-ae3e-5f9a8f72ccdc",
   "metadata": {},
   "outputs": [],
   "source": [
    "import sys\n",
    "sys.path.append('/home/pi/project_demo/lib')\n",
    "#导入麦克纳姆小车驱动库 Import Mecanum Car Driver Library\n",
    "from McLumk_Wheel_Sports import *\n",
    "import cv2\n",
    "import ipywidgets.widgets as widgets\n",
    "import time\n",
    "import sys\n",
    "import math\n",
    "from Raspbot_Lib import Raspbot\n",
    "import threading\n",
    "\n",
    "\n",
    "speed = 25\n",
    "image_widget = widgets.Image(format='jpeg', width=640, height=480)\n"
   ]
  },
  {
   "cell_type": "code",
   "execution_count": null,
   "id": "e8c999a5-3605-41d3-a66a-d7a9866941dd",
   "metadata": {},
   "outputs": [],
   "source": [
    "global target_valuex\n",
    "target_valuex = 1500\n",
    "global target_valuey\n",
    "target_valuey = 850\n",
    "\n",
    "\n",
    "bot = Raspbot()\n",
    "\n",
    "# 初始化云台 Init Servo\n",
    "target_servox = 90\n",
    "target_servoy = 60\n",
    "def servo_reset():\n",
    "    bot.Ctrl_Servo(1,target_servox)\n",
    "    bot.Ctrl_Servo(2,target_servoy)\n",
    "servo_reset()"
   ]
  },
  {
   "cell_type": "markdown",
   "id": "afd9cd7a-1bbb-48af-aa69-8798adc79bf7",
   "metadata": {},
   "source": [
    "## 创建相关控制变量 Create relevant control variables ##"
   ]
  },
  {
   "cell_type": "code",
   "execution_count": null,
   "id": "db533e4e-bfb2-486a-9004-ecbbaae1ebc6",
   "metadata": {},
   "outputs": [],
   "source": [
    "import PID\n",
    "direction_pid = PID.PositionalPID(0.9, 0, 0.2)\n",
    "yservo_pid = PID.PositionalPID(0.9, 0.2, 0.01)"
   ]
  },
  {
   "cell_type": "markdown",
   "id": "f32ad455-79a9-4804-af78-23b7705e627c",
   "metadata": {},
   "source": [
    "## 导入基于MediaPipe的手部识别 Import MediaPipe-based hand recognition"
   ]
  },
  {
   "cell_type": "code",
   "execution_count": null,
   "id": "bda2c421-7423-44e3-99ac-dd730d5d4061",
   "metadata": {},
   "outputs": [],
   "source": [
    "from gesture_action import handDetector\n",
    "hand_detector = handDetector(detectorCon=0.8)\n",
    "cap = cv2.VideoCapture(0)"
   ]
  },
  {
   "cell_type": "markdown",
   "id": "3be4476b-e092-44fe-be1c-bab35571803b",
   "metadata": {},
   "source": [
    "## 创建结束进程函数 Create a process termination function"
   ]
  },
  {
   "cell_type": "code",
   "execution_count": null,
   "id": "49ad49b7-d738-47b3-b943-28f84d320f46",
   "metadata": {},
   "outputs": [],
   "source": [
    "# 线程功能操作库 Thread function operation library\n",
    "import inspect\n",
    "import ctypes\n",
    "def _async_raise(tid, exctype):\n",
    "    \"\"\"raises the exception, performs cleanup if needed\"\"\"\n",
    "    tid = ctypes.c_long(tid)\n",
    "    if not inspect.isclass(exctype):\n",
    "        exctype = type(exctype)\n",
    "    res = ctypes.pythonapi.PyThreadState_SetAsyncExc(tid, ctypes.py_object(exctype))\n",
    "    if res == 0:\n",
    "        raise ValueError(\"invalid thread id\")\n",
    "    elif res != 1:\n",
    "        # \"\"\"if it returns a number greater than one, you're in trouble,\n",
    "        # and you should call it again with exc=NULL to revert the effect\"\"\"\n",
    "        ctypes.pythonapi.PyThreadState_SetAsyncExc(tid, None)\n",
    "        \n",
    "def stop_thread(thread):\n",
    "    _async_raise(thread.ident, SystemExit)"
   ]
  },
  {
   "cell_type": "markdown",
   "id": "bba80069-d814-4d08-9ac8-714debc0cf51",
   "metadata": {},
   "source": [
    "## 创建手势跟随主函数 the main function for gesture follow"
   ]
  },
  {
   "cell_type": "code",
   "execution_count": null,
   "id": "2f227d55-92db-4894-ba98-d6d0480a8977",
   "metadata": {},
   "outputs": [],
   "source": [
    "def Gesture_follow():\n",
    "    try:\n",
    "        while True:\n",
    "            global bot\n",
    "            ret, frame = cap.read()\n",
    "            img_height, img_width, _ = frame.shape\n",
    "            hand_detector.findHands(frame, draw=False) \n",
    "            if len(hand_detector.lmList) != 0:\n",
    "                # 转向控制部分\n",
    "                # Turning control section\n",
    "                # MediaPipe中, 手部最中心的指关节的编号为9\n",
    "                # In MediaPipe, the index of the central finger joint is 9\n",
    "                x,y = hand_detector.findPoint(9)\n",
    "                cv2.circle(frame,(int(x),int(y)),5,(0,255,255),10)\n",
    "                # 在x轴上控制麦轮\n",
    "                # Control the mouse wheel on the x-axis\n",
    "                direction_pid.SystemOutput = x\n",
    "                direction_pid.SetStepSignal(int(img_width/2))\n",
    "                direction_pid.SetInertiaTime(0.01, 0.05)\n",
    "                target_valuex = int(direction_pid.SystemOutput) \n",
    "    \n",
    "                # 在y轴上控制云台, 摄像头中心与指关节9在竖直方向的差值<25时不调节,减少抖动\n",
    "                # Control the pan/tilt in the y-axis; if the difference between the camera center and finger joint 9 in the vertical direction is <25, do not adjust to reduce jitter\n",
    "                if math.fabs(int(img_height/2) - y) > 25:\n",
    "                    yservo_pid.SystemOutput = y\n",
    "                    yservo_pid.SetStepSignal(int(img_height/2))\n",
    "                    yservo_pid.SetInertiaTime(0.01, 0.05)\n",
    "                    target_valuey = int(850+yservo_pid.SystemOutput)\n",
    "                    target_servoy = int((target_valuey-500)/10)                    \n",
    "                    if target_servoy > 110:\n",
    "                        target_servoy = 110\n",
    "                    if target_servoy < 0:\n",
    "                        target_servoy = 0        \n",
    "                    bot.Ctrl_Servo(2, target_servoy)\n",
    "    \n",
    "                # 前进控制部分\n",
    "                # Forward control section\n",
    "                finger_number = hand_detector.get_gesture()\n",
    "                finger_str=f\"Number:{finger_number}\"\n",
    "    \n",
    "                # 手势 0 控制小车停止\n",
    "                # Gesture 0 controls the robot to stop\n",
    "                if(finger_number == \"Zero\"):\n",
    "                    stop_robot()\n",
    "                else:\n",
    "                    if -40 < target_valuex < 40:\n",
    "                        target_valuex = 0   \n",
    "                    move_param_forward(speed, target_valuex) \n",
    "            else:\n",
    "                stop_robot()\n",
    "            try:\n",
    "                image_widget.value = bgr8_to_jpeg(frame)\n",
    "            except:\n",
    "                continue\n",
    "    finally:\n",
    "        stop_robot()\n",
    "        cap.release()\n",
    "        del bot"
   ]
  },
  {
   "cell_type": "code",
   "execution_count": null,
   "id": "9c993e77-3c83-47dd-a662-9a80c239ea0d",
   "metadata": {},
   "outputs": [],
   "source": [
    "display(image_widget)\n",
    "thread1 = threading.Thread(target=Gesture_follow)\n",
    "thread1.daemon=True\n",
    "thread1.start()"
   ]
  },
  {
   "cell_type": "code",
   "execution_count": null,
   "id": "6650ae9c-52cf-4701-b96e-4554b80b2fc3",
   "metadata": {},
   "outputs": [],
   "source": [
    "#结束进程 End the process\n",
    "stop_thread(thread1)"
   ]
  }
 ],
 "metadata": {
  "kernelspec": {
   "display_name": "Python 3 (ipykernel)",
   "language": "python",
   "name": "python3"
  },
  "language_info": {
   "codemirror_mode": {
    "name": "ipython",
    "version": 3
   },
   "file_extension": ".py",
   "mimetype": "text/x-python",
   "name": "python",
   "nbconvert_exporter": "python",
   "pygments_lexer": "ipython3",
   "version": "3.11.2"
  }
 },
 "nbformat": 4,
 "nbformat_minor": 5
}
