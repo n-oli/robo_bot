{
 "cells": [
  {
   "cell_type": "markdown",
   "metadata": {},
   "source": [
    "<center><img src=\"./logo.png\" alt=\"Header\" style=\"width: 800px;\"/></center>"
   ]
  },
  {
   "cell_type": "code",
   "execution_count": 1,
   "metadata": {},
   "outputs": [],
   "source": [
    "#!/usr/bin/env python3\n",
    "# encoding: utf-8\n",
    "#导入相关的模块 Import related modules\n",
    "import threading\n",
    "import numpy as np\n",
    "import cv2\n",
    "import dlib\n",
    "import time\n",
    "import math\n",
    "from time import sleep\n",
    "import ipywidgets.widgets as widgets\n",
    "image_widget = widgets.Image(format='jpeg', width=640, height=480)  #设置摄像头显示组件 Set up the camera display component"
   ]
  },
  {
   "cell_type": "code",
   "execution_count": 2,
   "metadata": {},
   "outputs": [],
   "source": [
    "# 将BGR图像转换为JPEG格式的字节流 Convert a BGR image to a JPEG byte stream\n",
    "def bgr8_to_jpeg(value, quality=75):\n",
    "    return bytes(cv2.imencode('.jpg', value)[1])"
   ]
  },
  {
   "cell_type": "markdown",
   "metadata": {},
   "source": [
    "# 主函数 Main function"
   ]
  },
  {
   "cell_type": "code",
   "execution_count": 3,
   "metadata": {},
   "outputs": [],
   "source": [
    "class FaceLandmarks:\n",
    "    def __init__(self, dat_file):\n",
    "        self.hog_face_detector = dlib.get_frontal_face_detector()\n",
    "        self.dlib_facelandmark = dlib.shape_predictor(dat_file)\n",
    "\n",
    "    def get_face(self, frame, draw=True):\n",
    "        gray = cv2.cvtColor(frame, cv2.COLOR_BGR2GRAY)\n",
    "        self.faces = self.hog_face_detector(gray)\n",
    "        for face in self.faces:\n",
    "            self.face_landmarks = self.dlib_facelandmark(gray, face)\n",
    "            if draw:\n",
    "                for n in range(68):\n",
    "                    x = self.face_landmarks.part(n).x\n",
    "                    y = self.face_landmarks.part(n).y\n",
    "                    cv2.circle(frame, (x, y), 2, (0, 255, 255), 2)\n",
    "                    cv2.putText(frame, str(n), (x, y), cv2.FONT_HERSHEY_SIMPLEX, 0.6, (0, 255, 255), 2)\n",
    "        return frame\n",
    "\n",
    "    def get_lmList(self, frame, p1, p2, draw=True):\n",
    "        lmList = []\n",
    "        if len(self.faces) != 0:\n",
    "            for n in range(p1, p2):\n",
    "                x = self.face_landmarks.part(n).x\n",
    "                y = self.face_landmarks.part(n).y\n",
    "                lmList.append([x, y])\n",
    "                if draw:\n",
    "                    next_point = n + 1\n",
    "                    if n == p2 - 1: next_point = p1\n",
    "                    x2 = self.face_landmarks.part(next_point).x\n",
    "                    y2 = self.face_landmarks.part(next_point).y\n",
    "                    cv2.line(frame, (x, y), (x2, y2), (0, 255, 0), 1)\n",
    "        return lmList\n",
    "\n",
    "    def get_lipList(self, frame, lipIndexlist, draw=True):\n",
    "        lmList = []\n",
    "        if len(self.faces) != 0:\n",
    "            for n in range(len(lipIndexlist)):\n",
    "                x = self.face_landmarks.part(lipIndexlist[n]).x\n",
    "                y = self.face_landmarks.part(lipIndexlist[n]).y\n",
    "                lmList.append([x, y])\n",
    "                if draw:\n",
    "                    next_point = n + 1\n",
    "                    if n == len(lipIndexlist) - 1: next_point = 0\n",
    "                    x2 = self.face_landmarks.part(lipIndexlist[next_point]).x\n",
    "                    y2 = self.face_landmarks.part(lipIndexlist[next_point]).y\n",
    "                    cv2.line(frame, (x, y), (x2, y2), (0, 255, 0), 1)\n",
    "        return lmList\n",
    "\n",
    "    def prettify_face(self, frame, eye=True, lips=True, eyebrow=True, draw=True):\n",
    "        if eye:\n",
    "            leftEye = landmarks.get_lmList(frame, 36, 42)\n",
    "            rightEye = landmarks.get_lmList(frame, 42, 48)\n",
    "            if draw:\n",
    "                if len(leftEye) != 0: frame = cv2.fillConvexPoly(frame, np.mat(leftEye), (0, 0, 0))\n",
    "                if len(rightEye) != 0: frame = cv2.fillConvexPoly(frame, np.mat(rightEye), (0, 0, 0))\n",
    "        if lips:\n",
    "            lipIndexlistA = [51, 52, 53, 54, 64, 63, 62]\n",
    "            lipIndexlistB = [48, 49, 50, 51, 62, 61, 60]\n",
    "            lipsUpA = landmarks.get_lipList(frame, lipIndexlistA, draw=True)\n",
    "            lipsUpB = landmarks.get_lipList(frame, lipIndexlistB, draw=True)\n",
    "            lipIndexlistA = [57, 58, 59, 48, 67, 66]\n",
    "            lipIndexlistB = [54, 55, 56, 57, 66, 65, 64]\n",
    "            lipsDownA = landmarks.get_lipList(frame, lipIndexlistA, draw=True)\n",
    "            lipsDownB = landmarks.get_lipList(frame, lipIndexlistB, draw=True)\n",
    "            if draw:\n",
    "                if len(lipsUpA) != 0: frame = cv2.fillConvexPoly(frame, np.mat(lipsUpA), (249, 0, 226))\n",
    "                if len(lipsUpB) != 0: frame = cv2.fillConvexPoly(frame, np.mat(lipsUpB), (249, 0, 226))\n",
    "                if len(lipsDownA) != 0: frame = cv2.fillConvexPoly(frame, np.mat(lipsDownA), (249, 0, 226))\n",
    "                if len(lipsDownB) != 0: frame = cv2.fillConvexPoly(frame, np.mat(lipsDownB), (249, 0, 226))\n",
    "        if eyebrow:\n",
    "            lefteyebrow = landmarks.get_lmList(frame, 17, 22)\n",
    "            righteyebrow = landmarks.get_lmList(frame, 22, 27)\n",
    "            if draw:\n",
    "                if len(lefteyebrow) != 0: frame = cv2.fillConvexPoly(frame, np.mat(lefteyebrow), (255, 255, 255))\n",
    "                if len(righteyebrow) != 0: frame = cv2.fillConvexPoly(frame, np.mat(righteyebrow), (255, 255, 255))\n",
    "        return frame"
   ]
  },
  {
   "cell_type": "markdown",
   "metadata": {},
   "source": [
    "# 主进程 Main Process"
   ]
  },
  {
   "cell_type": "code",
   "execution_count": 4,
   "metadata": {},
   "outputs": [
    {
     "name": "stdout",
     "output_type": "stream",
     "text": [
      "capture get FPS :  30.0\n"
     ]
    },
    {
     "data": {
      "application/vnd.jupyter.widget-view+json": {
       "model_id": "8a3b1bdd97c14735b6831f22475a2eda",
       "version_major": 2,
       "version_minor": 0
      },
      "text/plain": [
       "Image(value=b'', format='jpeg', height='480', width='640')"
      ]
     },
     "metadata": {},
     "output_type": "display_data"
    }
   ],
   "source": [
    "if __name__ == '__main__':\n",
    "    capture = cv2.VideoCapture(0)\n",
    "    capture.set(6, cv2.VideoWriter.fourcc('M', 'J', 'P', 'G'))\n",
    "    capture.set(cv2.CAP_PROP_FRAME_WIDTH, 320)\n",
    "    capture.set(cv2.CAP_PROP_FRAME_HEIGHT, 240)\n",
    "    print(\"capture get FPS : \", capture.get(cv2.CAP_PROP_FPS))\n",
    "    pTime, cTime = 0, 0\n",
    "    dat_file = \"./file/shape_predictor_68_face_landmarks.dat\"\n",
    "    landmarks = FaceLandmarks(dat_file)\n",
    "    display(image_widget) \n",
    "try:\n",
    "    while capture.isOpened():\n",
    "        ret, frame = capture.read()\n",
    "        # frame = cv2.flip(frame, 1)\n",
    "        frame = landmarks.get_face(frame, draw=False)\n",
    "        frame = landmarks.prettify_face(frame, eye=True, lips=True, eyebrow=True, draw=True)\n",
    "        if cv2.waitKey(1) & 0xFF == ord('q'): break\n",
    "        cTime = time.time()\n",
    "        fps = 1 / (cTime - pTime)\n",
    "        pTime = cTime\n",
    "        text = \"FPS : \" + str(int(fps))\n",
    "        cv2.putText(frame, f\"FPS: {fps:.1f}\", (10, 30), cv2.FONT_HERSHEY_SIMPLEX, 0.9, (0, 255, 0), 2)\n",
    "        image_widget.value = bgr8_to_jpeg(frame)\n",
    "        #cv2.imshow('frame', frame)\n",
    "except KeyboardInterrupt:\n",
    "        capture.release()"
   ]
  },
  {
   "cell_type": "code",
   "execution_count": 6,
   "metadata": {},
   "outputs": [],
   "source": [
    "#Release resources\n",
    "capture.release()             #使用完成对象记住释放掉对象，不然下一个程序使用这个对象模块会被占用，导致无法使用"
   ]
  },
  {
   "cell_type": "code",
   "execution_count": null,
   "metadata": {},
   "outputs": [],
   "source": []
  }
 ],
 "metadata": {
  "kernelspec": {
   "display_name": "Python 3 (ipykernel)",
   "language": "python",
   "name": "python3"
  },
  "language_info": {
   "codemirror_mode": {
    "name": "ipython",
    "version": 3
   },
   "file_extension": ".py",
   "mimetype": "text/x-python",
   "name": "python",
   "nbconvert_exporter": "python",
   "pygments_lexer": "ipython3",
   "version": "3.11.2"
  }
 },
 "nbformat": 4,
 "nbformat_minor": 4
}
