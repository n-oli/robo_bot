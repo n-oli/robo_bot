{
 "cells": [
  {
   "cell_type": "markdown",
   "metadata": {},
   "source": [
    "<center><img src=\"./logo.png\" alt=\"Header\" style=\"width: 800px;\"/></center>"
   ]
  },
  {
   "cell_type": "code",
   "execution_count": 1,
   "metadata": {},
   "outputs": [],
   "source": [
    "#!/usr/bin/env python3\n",
    "# encoding: utf-8\n",
    "#导入相关的模块 Import related modules\n",
    "import mediapipe as mp\n",
    "import threading\n",
    "import cv2 as cv\n",
    "import time\n",
    "import math\n",
    "from time import sleep\n",
    "import ipywidgets.widgets as widgets\n",
    "image_widget = widgets.Image(format='jpeg', width=640, height=480)  #设置摄像头显示组件 Set up the camera display component"
   ]
  },
  {
   "cell_type": "code",
   "execution_count": 2,
   "metadata": {},
   "outputs": [],
   "source": [
    "# 将BGR图像转换为JPEG格式的字节流 Convert a BGR image to a JPEG byte stream\n",
    "def bgr8_to_jpeg(value, quality=75):\n",
    "    return bytes(cv.imencode('.jpg', value)[1])"
   ]
  },
  {
   "cell_type": "markdown",
   "metadata": {},
   "source": [
    "# 主函数 Main function"
   ]
  },
  {
   "cell_type": "code",
   "execution_count": 3,
   "metadata": {},
   "outputs": [],
   "source": [
    "class FaceDetector:\n",
    "    def __init__(self, minDetectionCon=0.5):\n",
    "        self.mpFaceDetection = mp.solutions.face_detection\n",
    "        self.mpDraw = mp.solutions.drawing_utils\n",
    "        self.facedetection = self.mpFaceDetection.FaceDetection(min_detection_confidence=minDetectionCon)\n",
    "\n",
    "    def findFaces(self, frame):\n",
    "        img_RGB = cv.cvtColor(frame, cv.COLOR_BGR2RGB)\n",
    "        self.results = self.facedetection.process(img_RGB)\n",
    "        bboxs = []\n",
    "        if self.results.detections:\n",
    "            for id, detection in enumerate(self.results.detections):\n",
    "                bboxC = detection.location_data.relative_bounding_box\n",
    "                ih, iw, ic = frame.shape\n",
    "                bbox = int(bboxC.xmin * iw), int(bboxC.ymin * ih), \\\n",
    "                       int(bboxC.width * iw), int(bboxC.height * ih)\n",
    "                bboxs.append([id, bbox, detection.score])\n",
    "                frame = self.fancyDraw(frame, bbox)\n",
    "                cv.putText(frame, f'{int(detection.score[0] * 100)}%',\n",
    "                           (bbox[0], bbox[1] - 20), cv.FONT_HERSHEY_PLAIN,\n",
    "                           3, (255, 0, 255), 2)\n",
    "        return frame, bboxs\n",
    "\n",
    "    def fancyDraw(self, frame, bbox, l=30, t=10):\n",
    "        x, y, w, h = bbox\n",
    "        x1, y1 = x + w, y + h\n",
    "        cv.rectangle(frame, (x, y),(x + w, y + h), (255, 0, 255), 2)\n",
    "        # Top left x,y\n",
    "        cv.line(frame, (x, y), (x + l, y), (255, 0, 255), t)\n",
    "        cv.line(frame, (x, y), (x, y + l), (255, 0, 255), t)\n",
    "        # Top right x1,y\n",
    "        cv.line(frame, (x1, y), (x1 - l, y), (255, 0, 255), t)\n",
    "        cv.line(frame, (x1, y), (x1, y + l), (255, 0, 255), t)\n",
    "        # Bottom left x1,y1\n",
    "        cv.line(frame, (x, y1), (x + l, y1), (255, 0, 255), t)\n",
    "        cv.line(frame, (x, y1), (x, y1 - l), (255, 0, 255), t)\n",
    "        # Bottom right x1,y1\n",
    "        cv.line(frame, (x1, y1), (x1 - l, y1), (255, 0, 255), t)\n",
    "        cv.line(frame, (x1, y1), (x1, y1 - l), (255, 0, 255), t)\n",
    "        return frame\n"
   ]
  },
  {
   "cell_type": "markdown",
   "metadata": {},
   "source": [
    "# 主进程 Main Process"
   ]
  },
  {
   "cell_type": "code",
   "execution_count": 4,
   "metadata": {},
   "outputs": [
    {
     "name": "stdout",
     "output_type": "stream",
     "text": [
      "capture get FPS :  15.0\n"
     ]
    },
    {
     "name": "stderr",
     "output_type": "stream",
     "text": [
      "INFO: Created TensorFlow Lite XNNPACK delegate for CPU.\n",
      "WARNING: All log messages before absl::InitializeLog() is called are written to STDERR\n",
      "W0000 00:00:1722592147.242512  867797 inference_feedback_manager.cc:114] Feedback manager requires a model with a single signature inference. Disabling support for feedback tensors.\n"
     ]
    },
    {
     "data": {
      "application/vnd.jupyter.widget-view+json": {
       "model_id": "75646c0780784b6caf28fced5bcc430b",
       "version_major": 2,
       "version_minor": 0
      },
      "text/plain": [
       "Image(value=b'', format='jpeg', height='480', width='640')"
      ]
     },
     "metadata": {},
     "output_type": "display_data"
    }
   ],
   "source": [
    "if __name__ == '__main__':\n",
    "    capture = cv.VideoCapture(0)\n",
    "    # capture.set(0, cv.VideoWriter.fourcc('M', 'J', 'P', 'G'))\n",
    "    capture.set(cv.CAP_PROP_FRAME_WIDTH, 320)\n",
    "    capture.set(cv.CAP_PROP_FRAME_HEIGHT, 240)\n",
    "    print(\"capture get FPS : \", capture.get(cv.CAP_PROP_FPS))\n",
    "    pTime, cTime = 0, 0\n",
    "    face_detector = FaceDetector(0.75)\n",
    "    display(image_widget) \n",
    "    try:\n",
    "        while capture.isOpened():\n",
    "            ret, frame = capture.read()\n",
    "            # frame = cv.flip(frame, 1)\n",
    "            frame,_ = face_detector.findFaces(frame)\n",
    "            if cv.waitKey(1) & 0xFF == ord('q'): break\n",
    "            cTime = time.time()\n",
    "            fps = 1 / (cTime - pTime)\n",
    "            pTime = cTime\n",
    "            text = \"FPS : \" + str(int(fps))\n",
    "            cv.putText(frame, f\"FPS: {fps:.1f}\", (10, 30), cv.FONT_HERSHEY_SIMPLEX, 0.9, (0, 255, 0), 2)\n",
    "            image_widget.value = bgr8_to_jpeg(frame)\n",
    "            # cv.imshow('frame', frame)\n",
    "    except KeyboardInterrupt:\n",
    "        capture.release()\n",
    "        # cv.destroyAllWindows()"
   ]
  },
  {
   "cell_type": "code",
   "execution_count": 6,
   "metadata": {},
   "outputs": [],
   "source": [
    "#使用完成对象记住释放掉对象，不然下一个程序使用这个对象模块会被占用，导致无法使用\n",
    "#Release resources\n",
    "capture.release()            "
   ]
  },
  {
   "cell_type": "code",
   "execution_count": null,
   "metadata": {},
   "outputs": [],
   "source": []
  }
 ],
 "metadata": {
  "kernelspec": {
   "display_name": "Python 3 (ipykernel)",
   "language": "python",
   "name": "python3"
  },
  "language_info": {
   "codemirror_mode": {
    "name": "ipython",
    "version": 3
   },
   "file_extension": ".py",
   "mimetype": "text/x-python",
   "name": "python",
   "nbconvert_exporter": "python",
   "pygments_lexer": "ipython3",
   "version": "3.11.2"
  }
 },
 "nbformat": 4,
 "nbformat_minor": 4
}
