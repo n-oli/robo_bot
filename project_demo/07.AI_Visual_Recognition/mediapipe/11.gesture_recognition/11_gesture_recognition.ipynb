{
 "cells": [
  {
   "cell_type": "markdown",
   "metadata": {},
   "source": [
    "<center><img src=\"./logo.png\" alt=\"Header\" style=\"width: 800px;\"/></center>"
   ]
  },
  {
   "cell_type": "markdown",
   "metadata": {},
   "source": [
    "# 定义手势识别函数部分 Define the gesture recognition function part"
   ]
  },
  {
   "cell_type": "code",
   "execution_count": null,
   "metadata": {},
   "outputs": [],
   "source": [
    "#导入相关的模块   Import related modules\n",
    "import threading\n",
    "import cv2 \n",
    "import time\n",
    "import math\n",
    "from time import sleep\n",
    "import ipywidgets.widgets as widgets\n",
    "# 导入oled屏幕库 Import oled screen library\n",
    "import sys\n",
    "sys.path.append('/home/pi/software/oled_yahboom/')\n",
    "from yahboom_oled import *\n",
    "# 创建oled对象 Create an oled object\n",
    "oled = Yahboom_OLED(debug=False)\n",
    "\n",
    "from gesture_action import handDetector"
   ]
  },
  {
   "cell_type": "code",
   "execution_count": null,
   "metadata": {},
   "outputs": [],
   "source": [
    "g_camera = cv2.VideoCapture(0)\n",
    "g_camera.set(3, 320)\n",
    "g_camera.set(4, 240)\n",
    "g_camera.set(5, 30)  #设置帧率 Setting the frame rate\n",
    "# g_camera.set(cv2.CAP_PROP_FOURCC, cv2.VideoWriter.fourcc('M', 'J', 'P', 'G'))\n",
    "# g_camera.set(cv2.CAP_PROP_BRIGHTNESS, 40) #设置亮度 -64 - 64  0.0 Set Brightness -64 - 64 0.0\n",
    "# g_camera.set(cv2.CAP_PROP_CONTRAST, 50) #设置对比度 -64 - 64  2.0 Set Contrast -64 - 64 2.0\n",
    "# g_camera.set(cv2.CAP_PROP_EXPOSURE, 156) #设置曝光值 1.0 - 5000  156.0 Set the exposure value 1.0 - 5000 156.0\n"
   ]
  },
  {
   "cell_type": "markdown",
   "metadata": {},
   "source": [
    "# 定义摄像头显示组件 Define the camera display component"
   ]
  },
  {
   "cell_type": "code",
   "execution_count": null,
   "metadata": {},
   "outputs": [],
   "source": [
    "hand_detector = handDetector(detectorCon=0.75)\n",
    "image_original = widgets.Image(format='jpeg', width=640, height=480)\n",
    "image_result = widgets.Image(format='jpeg', width=640, height=480)\n",
    "image_widget = widgets.HBox([image_original, image_result])"
   ]
  },
  {
   "cell_type": "code",
   "execution_count": null,
   "metadata": {},
   "outputs": [],
   "source": [
    "#bgr8转jpeg格式 bgr8 to jpeg format\n",
    "def bgr8_to_jpeg(value, quality=75):\n",
    "    return bytes(cv2.imencode('.jpg', value)[1])"
   ]
  },
  {
   "cell_type": "markdown",
   "metadata": {},
   "source": [
    "# 主进程 Main Process"
   ]
  },
  {
   "cell_type": "code",
   "execution_count": null,
   "metadata": {},
   "outputs": [],
   "source": [
    "display(image_widget)   \n",
    "try:\n",
    "    oled.init_oled_process() #初始化oled进程 Initialize oled process\n",
    "    while True:\n",
    "        ret, frame = g_camera.read()\n",
    "        frame, img = hand_detector.findHands(frame, draw=False)\n",
    "        if len(hand_detector.lmList) != 0:\n",
    "            finger_number = hand_detector.get_gesture()\n",
    "            cv2.rectangle(frame, (0, 430), (230, 480), (0, 255, 0), cv2.FILLED)\n",
    "            cv2.putText(frame, str(finger_number), (10, 470), cv2.FONT_HERSHEY_PLAIN, 2, (255, 0, 0), 2)\n",
    "            finger_str=f\"Number:{finger_number}\"\n",
    "            print(finger_str)\n",
    "            oled.clear()\n",
    "            oled.add_line(\"Gesture_Reco\",1)\n",
    "            oled.add_line(finger_str, 3)\n",
    "            oled.refresh()\n",
    "        else:\n",
    "            oled.clear()\n",
    "            oled.add_line(\"Gesture_Reco\",1)\n",
    "            oled.add_line(\"Number:None\",3)\n",
    "            oled.refresh()\n",
    "        image_original.value = bgr8_to_jpeg(frame)\n",
    "        image_result.value = bgr8_to_jpeg(img)\n",
    "except:\n",
    "    print(\" Program closed! \")\n",
    "    # 恢复屏幕基础数据显示 Restore basic data display on screen\n",
    "    os.system(\"python3 /home/pi/software/oled_yahboom/yahboom_oled.py &\")\n",
    "    pass\n"
   ]
  },
  {
   "cell_type": "code",
   "execution_count": null,
   "metadata": {},
   "outputs": [],
   "source": [
    "g_camera.release()              #使用完成对象记住释放掉对象，不然下一个程序使用这个对象模块会被占用，导致无法使用  Release resources"
   ]
  }
 ],
 "metadata": {
  "kernelspec": {
   "display_name": "Python 3 (ipykernel)",
   "language": "python",
   "name": "python3"
  },
  "language_info": {
   "codemirror_mode": {
    "name": "ipython",
    "version": 3
   },
   "file_extension": ".py",
   "mimetype": "text/x-python",
   "name": "python",
   "nbconvert_exporter": "python",
   "pygments_lexer": "ipython3",
   "version": "3.11.2"
  }
 },
 "nbformat": 4,
 "nbformat_minor": 4
}
