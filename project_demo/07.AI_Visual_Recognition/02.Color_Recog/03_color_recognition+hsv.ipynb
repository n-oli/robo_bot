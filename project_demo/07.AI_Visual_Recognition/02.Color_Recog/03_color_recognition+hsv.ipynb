{
 "cells": [
  {
   "cell_type": "raw",
   "metadata": {},
   "source": [
    "@Copyright (C): 2015-2024, Shenzhen Yahboom Tech  \n",
    "@Author: clhchan\n",
    "@Date: 2024-07-25  "
   ]
  },
  {
   "cell_type": "code",
   "execution_count": null,
   "metadata": {},
   "outputs": [],
   "source": [
    "#导入Raspbot驱动库及相关库 Import the Raspbot library and related libraries\n",
    "from Raspbot_Lib import Raspbot\n",
    "import sys\n",
    "sys.path.append('/home/pi/software/oled_yahboom/')\n",
    "from yahboom_oled import *\n",
    "# 创建Raspbot对象 bot Create the Raspbot object bot\n",
    "bot = Raspbot()\n",
    "# 创建oled对象 Create an oled object\n",
    "oled = Yahboom_OLED(debug=False)\n",
    "#bgr8转jpeg格式 bgr8 to jpeg format\n",
    "import enum\n",
    "import cv2\n",
    "\n",
    "def bgr8_to_jpeg(value, quality=75):\n",
    "    return bytes(cv2.imencode('.jpg', value)[1])"
   ]
  },
  {
   "cell_type": "code",
   "execution_count": null,
   "metadata": {},
   "outputs": [],
   "source": [
    "#显示摄像头组件 Display camera components\n",
    "import cv2\n",
    "import traitlets\n",
    "import ipywidgets.widgets as widgets\n",
    "from IPython.display import display\n",
    "import time\n",
    "# 线程功能操作库 Thread function operation library\n",
    "import threading\n",
    "import inspect\n",
    "import ctypes"
   ]
  },
  {
   "cell_type": "markdown",
   "metadata": {},
   "source": [
    "##  线程关闭函数 Thread shutdown function"
   ]
  },
  {
   "cell_type": "code",
   "execution_count": null,
   "metadata": {},
   "outputs": [],
   "source": [
    "def _async_raise(tid, exctype):\n",
    "    \"\"\"raises the exception, performs cleanup if needed\"\"\"\n",
    "    tid = ctypes.c_long(tid)\n",
    "    if not inspect.isclass(exctype):\n",
    "        exctype = type(exctype)\n",
    "    res = ctypes.pythonapi.PyThreadState_SetAsyncExc(tid, ctypes.py_object(exctype))\n",
    "    if res == 0:\n",
    "        raise ValueError(\"invalid thread id\")\n",
    "    elif res != 1:\n",
    "        # \"\"\"if it returns a number greater than one, you're in trouble, 如果它返回一个大于 1 的数字，你就有麻烦了，\n",
    "        # and you should call it again with exc=NULL to revert the effect 你应该再次调用它并设置 exc=NULL 来恢复效果\"\"\"\n",
    "        ctypes.pythonapi.PyThreadState_SetAsyncExc(tid, None)\n",
    "        \n",
    "def stop_thread(thread):\n",
    "    _async_raise(thread.ident, SystemExit)"
   ]
  },
  {
   "cell_type": "markdown",
   "metadata": {},
   "source": [
    "## 创建两个显示窗口一个显示原图，一个显示掩膜位置 Create two display windows, one to display the original image and one to display the mask position."
   ]
  },
  {
   "cell_type": "code",
   "execution_count": null,
   "metadata": {},
   "outputs": [],
   "source": [
    "image_widget = widgets.Image(format='jpeg', width=640, height=480)\n",
    "image_widget1 = widgets.Image(format='jpeg', width=640, height=480)"
   ]
  },
  {
   "cell_type": "code",
   "execution_count": null,
   "metadata": {},
   "outputs": [],
   "source": [
    "image = cv2.VideoCapture(0) #打开摄像头/dev/video0 Open the camera /dev/video0\n",
    "\n",
    "image.set(3, 320)\n",
    "image.set(4, 240)\n",
    "image.set(5, 30)  #设置帧率 Setting the frame rate\n",
    "# image.set(cv2.CAP_PROP_FOURCC, cv2.VideoWriter.fourcc('M', 'J', 'P', 'G'))\n",
    "# image.set(cv2.CAP_PROP_BRIGHTNESS, 62) #设置亮度 -64 - 64  0.0 Set Brightness -64 - 64 0.0\n",
    "# image.set(cv2.CAP_PROP_CONTRAST, 63) #设置对比度 -64 - 64  2.0 Set Contrast -64 - 64 2.0\n",
    "# image.set(cv2.CAP_PROP_EXPOSURE, 4800) #设置曝光值 1.0 - 5000  156.0 Set the exposure value 1.0 - 5000 156.0\n",
    "\n",
    "ret, frame = image.read()\n",
    "image_widget.value = bgr8_to_jpeg(frame)\n",
    "\n",
    "# from picamera2 import Picamera2, Preview\n",
    "# import libcamera\n",
    "# picam2 = Picamera2()  \n",
    "# camera_config = picam2.create_preview_configuration(main={\"format\":'RGB888',\"size\":(320,240)})\n",
    "# camera_config[\"transform\"] = libcamera.Transform(hflip=1, vflip=1)\n",
    "# picam2.configure(camera_config) \n",
    "# picam2.start() \n",
    "# frame = picam2.capture_array()\n",
    "#image_widget.value = bgr8_to_jpeg(frame)\n",
    "display(image_widget)\n",
    "display(image_widget1)"
   ]
  },
  {
   "cell_type": "markdown",
   "metadata": {},
   "source": [
    "## 接下来分为两个部分，第一个部分为测试合适HSV值的程序部分，第二个为通过已经测试合适的HSV值进行颜色识别，因为两个都用到了视频流，所以用完一个记得关闭对应的线程，才可运行另一部分\n",
    "## The following is divided into two parts. The first part is the program part for testing the appropriate SV value, and the second part is the color recognition by testing the appropriate HSV value. Because both use video streams, remember to close the corresponding thread after using one before running the other part."
   ]
  },
  {
   "cell_type": "markdown",
   "metadata": {},
   "source": [
    "## 第一部分 first part"
   ]
  },
  {
   "cell_type": "code",
   "execution_count": null,
   "metadata": {},
   "outputs": [],
   "source": [
    "#转向PID输出值 Steering PID output value\n",
    "Hmin = widgets.FloatSlider(description='Hmin', min=0, max=180, step=1, orientation='Vertical')\n",
    "Hmax = widgets.FloatSlider(description='Hmax', min=0, max=179, step=1, orientation='Vertical')\n",
    "Smin = widgets.FloatSlider(description='Smin', min=0, max=255, step=1, orientation='Vertical')\n",
    "Smax = widgets.FloatSlider(description='Smax', min=0, max=255, step=1, orientation='Vertical')\n",
    "Vmin = widgets.FloatSlider(description='Vmin', min=0, max=255, step=1, orientation='Vertical')\n",
    "Vmax = widgets.FloatSlider(description='Vmax', min=0, max=255, step=1, orientation='Vertical')\n",
    "# create a horizontal box container to place the sliders next to eachother\n",
    "slider_container = widgets.HBox([Hmin,Hmax,Smin,Smax,Vmin,Vmax])\n",
    "# display the container in this cell's output\n",
    "display(slider_container)\n",
    "import numpy as np"
   ]
  },
  {
   "cell_type": "code",
   "execution_count": null,
   "metadata": {},
   "outputs": [],
   "source": [
    "color_hsv  = {\"red\"   : ((0, 70, 72), (7, 255, 255)),\n",
    "              \"green\" : ((54, 109, 78), (77, 255, 255)),\n",
    "              \"blue\"  : ((92, 100, 62), (121, 251, 255)),\n",
    "              \"yellow\": ((26, 100, 91), (32, 255, 255))}"
   ]
  },
  {
   "cell_type": "code",
   "execution_count": null,
   "metadata": {},
   "outputs": [],
   "source": [
    "color = \"red\"\n",
    "Hmin.value=color_hsv[color][0][0]\n",
    "Smin.value=color_hsv[color][0][1]\n",
    "Vmin.value=color_hsv[color][0][2]\n",
    "Hmax.value=color_hsv[color][1][0]\n",
    "Smax.value=color_hsv[color][1][1]\n",
    "Vmax.value=color_hsv[color][1][2]"
   ]
  },
  {
   "cell_type": "code",
   "execution_count": null,
   "metadata": {},
   "outputs": [],
   "source": [
    "def TEST():\n",
    "    while True:\n",
    "        ret, frame = image.read() #USB摄像头 USB Camera\n",
    "        # frame = picam2.capture_array() #CSI摄像头 CSI Camera\n",
    "        color_lower = np.array([int(Hmin.value),int(Smin.value),int(Vmin.value)])\n",
    "        color_upper = np.array([int(Hmax.value), int(Smax.value), int(Vmax.value)])\n",
    "        #frame = cv2.resize(frame, (400, 400))\n",
    "        frame_ = cv2.GaussianBlur(frame,(5,5),0)                    \n",
    "        hsv = cv2.cvtColor(frame,cv2.COLOR_BGR2HSV)\n",
    "        mask = cv2.inRange(hsv,color_lower,color_upper)  \n",
    "        mask = cv2.erode(mask,None,iterations=2)\n",
    "        mask = cv2.dilate(mask,None,iterations=2)\n",
    "        mask = cv2.GaussianBlur(mask,(3,3),0)     \n",
    "        cnts = cv2.findContours(mask.copy(),cv2.RETR_EXTERNAL,cv2.CHAIN_APPROX_SIMPLE)[-2] \n",
    "        if 1: # 按钮切换开关 Push button switch\n",
    "            if len(cnts) > 0:\n",
    "                cnt = max (cnts, key = cv2.contourArea)\n",
    "                (color_x,color_y),color_radius = cv2.minEnclosingCircle(cnt)\n",
    "                if color_radius > 10:\n",
    "                # 将检测到的颜色用原形线圈标记出来 Mark the detected color with a prototype circle\n",
    "                    cv2.circle(frame,(int(color_x),int(color_y)),int(color_radius),(255,0,255),2)  \n",
    "                    # Proportion-Integration-Differentiation\n",
    "        # 实时传回图像数据进行显示 Real-time image data transmission for display\n",
    "        image_widget.value = bgr8_to_jpeg(frame)\n",
    "        image_widget1.value = bgr8_to_jpeg(mask)\n",
    "        # print(g_mode)"
   ]
  },
  {
   "cell_type": "code",
   "execution_count": null,
   "metadata": {},
   "outputs": [],
   "source": [
    "thread1 = threading.Thread(target=TEST)\n",
    "thread1.daemon=True\n",
    "thread1.start()"
   ]
  },
  {
   "cell_type": "code",
   "execution_count": null,
   "metadata": {},
   "outputs": [],
   "source": [
    "stop_thread(thread1)"
   ]
  },
  {
   "cell_type": "markdown",
   "metadata": {},
   "source": [
    "## 第二部分 the second part"
   ]
  },
  {
   "cell_type": "markdown",
   "metadata": {},
   "source": [
    "## 创建存储红色HSV色域数据的数组 Create an array to store red HSV color gamut data"
   ]
  },
  {
   "cell_type": "code",
   "execution_count": null,
   "metadata": {},
   "outputs": [],
   "source": [
    "global g_mode\n",
    "g_mode = 0"
   ]
  },
  {
   "cell_type": "code",
   "execution_count": null,
   "metadata": {},
   "outputs": [],
   "source": [
    "import numpy as np\n",
    "global color_lower\n",
    "color_lower = np.array([0, 43, 46])\n",
    "global color_upper\n",
    "color_upper = np.array([10, 255, 255])"
   ]
  },
  {
   "cell_type": "code",
   "execution_count": null,
   "metadata": {},
   "outputs": [],
   "source": [
    "Redbutton = widgets.Button(     \n",
    "    value=False,     \n",
    "    description='Red',     \n",
    "    disabled=False,     \n",
    "    button_style='', # 'success', 'info', 'warning', 'danger' or ''     \n",
    "    tooltip='Description',     \n",
    "    icon='uncheck' )\n",
    "Greenbutton = widgets.Button(     \n",
    "    value=False,     \n",
    "    description='Green',     \n",
    "    disabled=False,     \n",
    "    button_style='', # 'success', 'info', 'warning', 'danger' or ''     \n",
    "    tooltip='Description',     \n",
    "    icon='uncheck' )\n",
    "Bluebutton = widgets.Button(     \n",
    "    value=False,     \n",
    "    description='Blue',     \n",
    "    disabled=False,     \n",
    "    button_style='', # 'success', 'info', 'warning', 'danger' or ''     \n",
    "    tooltip='Description',     \n",
    "    icon='uncheck' )\n",
    "Yellowbutton = widgets.Button(     \n",
    "    value=False,     \n",
    "    description='Yellow',     \n",
    "    disabled=False,     \n",
    "    button_style='', # 'success', 'info', 'warning', 'danger' or ''     \n",
    "    tooltip='Description',     \n",
    "    icon='uncheck' )\n",
    "Orangebutton = widgets.Button(     \n",
    "    value=False,     \n",
    "    description='Orange',     \n",
    "    disabled=False,     \n",
    "    button_style='', # 'success', 'info', 'warning', 'danger' or ''     \n",
    "    tooltip='Description',     \n",
    "    icon='uncheck' )\n",
    "Closebutton = widgets.Button(     \n",
    "    value=False,     \n",
    "    description='OFF',     \n",
    "    disabled=False,     \n",
    "    button_style='', # 'success', 'info', 'warning', 'danger' or ''     \n",
    "    tooltip='Description',     \n",
    "    icon='uncheck' )\n",
    "output = widgets.Output()\n",
    "display(Redbutton, Greenbutton, Bluebutton, Yellowbutton, Orangebutton, Closebutton, output)\n",
    "\n",
    "def ALL_Uncheck():\n",
    "    Redbutton.icon = 'uncheck'\n",
    "    Greenbutton.icon = 'uncheck'\n",
    "    Bluebutton.icon = 'uncheck'\n",
    "    Yellowbutton.icon = 'uncheck'\n",
    "    Orangebutton.icon = 'uncheck'\n",
    "    \n",
    "def on_Redbutton_clicked(b):\n",
    "    global color_lower, color_upper, g_mode \n",
    "    global target_valuex, target_valuey\n",
    "    ALL_Uncheck()\n",
    "    b.icon = 'check'\n",
    "    #color_lower = np.array([0, 43, 46])\n",
    "    #color_upper = np.array([10, 255, 255])\n",
    "    color_lower = np.array([0,43,89])\n",
    "    color_upper = np.array([7, 255, 255])\n",
    "    g_mode = 1\n",
    "    with output:\n",
    "        bot.Ctrl_WQ2812_ALL(1,0)#红色 red\n",
    "        oled.clear()\n",
    "        oled.add_line(\"color: red\", 2)\n",
    "        oled.refresh()\n",
    "        print(\"RedButton clicked.\")\n",
    "\n",
    "def on_Greenbutton_clicked(b):\n",
    "    global color_lower, color_upper, g_mode \n",
    "    global target_valuex, target_valuey\n",
    "    ALL_Uncheck()\n",
    "    b.icon = 'check'\n",
    "    #color_lower = np.array([35, 43, 46])\n",
    "    #color_upper = np.array([77, 255, 255])\n",
    "    color_lower = np.array([54,104,64])\n",
    "    color_upper = np.array([78, 255, 255])\n",
    "    g_mode = 1\n",
    "    with output:\n",
    "        bot.Ctrl_WQ2812_ALL(1,1)#绿色 green\n",
    "        oled.clear()\n",
    "        oled.add_line(\"color: green\", 2)\n",
    "        oled.refresh()\n",
    "        print(\"GreenButton clicked.\")\n",
    "        \n",
    "def on_Bluebutton_clicked(b):\n",
    "    global color_lower, color_upper, g_mode \n",
    "    global target_valuex, target_valuey\n",
    "    ALL_Uncheck()\n",
    "    b.icon = 'check'\n",
    "    #color_lower=np.array([100, 43, 46])\n",
    "    #color_upper = np.array([124, 255, 255])\n",
    "    color_lower = np.array([92,100,62])\n",
    "    color_upper = np.array([121, 255, 255])\n",
    "    g_mode = 1\n",
    "    with output:\n",
    "        bot.Ctrl_WQ2812_ALL(1,2)#蓝色 blue\n",
    "        oled.clear()\n",
    "        oled.add_line(\"color: blue\", 2)\n",
    "        oled.refresh()\n",
    "        print(\"Bluebutton clicked.\")   \n",
    "\n",
    "def on_Yellowbutton_clicked(b):\n",
    "    global color_lower, color_upper, g_mode \n",
    "    global target_valuex, target_valuey\n",
    "    ALL_Uncheck()\n",
    "    b.icon = 'check'\n",
    "    #color_lower = np.array([26, 43, 46])\n",
    "    #color_upper = np.array([34, 255, 255])\n",
    "    color_lower = np.array([26,100,91])\n",
    "    color_upper = np.array([32, 255, 255])\n",
    "    g_mode = 1\n",
    "    with output:\n",
    "        bot.Ctrl_WQ2812_ALL(1,3)#黄色 yellow\n",
    "        oled.clear()\n",
    "        oled.add_line(\"color: yellow\", 2)\n",
    "        oled.refresh()\n",
    "        print(\"Yellowbutton clicked.\")\n",
    "        \n",
    "def on_Orangebutton_clicked(b):\n",
    "    global color_lower, color_upper, g_mode \n",
    "    global target_valuex, target_valuey\n",
    "    ALL_Uncheck()\n",
    "    b.icon = 'check'\n",
    "    color_lower = np.array([11, 43, 46])\n",
    "    color_upper = np.array([25, 255, 255])\n",
    "    g_mode = 1\n",
    "    with output:\n",
    "        bot.Ctrl_WQ2812_brightness_ALL(255, 48, 0)\n",
    "        oled.clear()\n",
    "        oled.add_line(\"color: orange\", 2)\n",
    "        oled.refresh()\n",
    "        print(\"Orangebutton clicked.\")\n",
    "        \n",
    "def on_Closebutton_clicked(b):  \n",
    "    global g_mode \n",
    "    ALL_Uncheck()\n",
    "    g_mode = 0\n",
    "    with output:\n",
    "        bot.Ctrl_WQ2812_ALL(0,0)\n",
    "        oled.clear()\n",
    "        oled.add_line(\"color: none\", 2)\n",
    "        oled.refresh()\n",
    "        print(\"CloseButton clicked.\")\n",
    "display(image_widget)\n",
    "display(image_widget1)\n",
    "Redbutton.on_click(on_Redbutton_clicked)\n",
    "Greenbutton.on_click(on_Greenbutton_clicked)\n",
    "Bluebutton.on_click(on_Bluebutton_clicked)\n",
    "Yellowbutton.on_click(on_Yellowbutton_clicked)\n",
    "Orangebutton.on_click(on_Orangebutton_clicked)\n",
    "Closebutton.on_click(on_Closebutton_clicked)"
   ]
  },
  {
   "cell_type": "markdown",
   "metadata": {},
   "source": [
    "##  颜色识别主函数 Color recognition main function"
   ]
  },
  {
   "cell_type": "code",
   "execution_count": null,
   "metadata": {},
   "outputs": [],
   "source": [
    "def Color_Recongnize():\n",
    "    oled.init_oled_process() #初始化oled进程 Initialize oled process\n",
    "    global color_lower, color_upper, g_mode \n",
    "    t_start = time.time()\n",
    "    fps = 0\n",
    "    while True:\n",
    "        ret, frame = image.read()#USB摄像头 USB Camera\n",
    "        # frame = picam2.capture_array() #CSI摄像头 CSI Camera\n",
    "        #frame = cv2.resize(frame, (400, 400))\n",
    "        frame_ = cv2.GaussianBlur(frame,(5,5),0)                    \n",
    "        hsv = cv2.cvtColor(frame,cv2.COLOR_BGR2HSV)\n",
    "        mask = cv2.inRange(hsv,color_lower,color_upper)  \n",
    "        mask = cv2.erode(mask,None,iterations=2)\n",
    "        mask = cv2.dilate(mask,None,iterations=2)\n",
    "        mask = cv2.GaussianBlur(mask,(3,3),0)     \n",
    "        cnts = cv2.findContours(mask.copy(),cv2.RETR_EXTERNAL,cv2.CHAIN_APPROX_SIMPLE)[-2] \n",
    "        if g_mode == 1: # 按钮切换开关 Push button switch\n",
    "            if len(cnts) > 0:\n",
    "                cnt = max (cnts, key = cv2.contourArea)\n",
    "                (color_x,color_y),color_radius = cv2.minEnclosingCircle(cnt)\n",
    "                if color_radius > 10:\n",
    "                # 将检测到的颜色用原形线圈标记出来 Mark the detected color with a prototype circle\n",
    "                    cv2.circle(frame,(int(color_x),int(color_y)),int(color_radius),(255,0,255),2)  \n",
    "                    # Proportion-Integration-Differentiation\n",
    "        fps = fps + 1\n",
    "        mfps = fps / (time.time() - t_start)\n",
    "        cv2.putText(frame, \"FPS \" + str(int(mfps)), (40,40), cv2.FONT_HERSHEY_SIMPLEX, 0.8, (0,255,255), 3)\n",
    "        # 实时传回图像数据进行显示 Real-time image data transmission for display\n",
    "        image_widget.value = bgr8_to_jpeg(frame)\n",
    "        image_widget1.value = bgr8_to_jpeg(mask)\n",
    "        # print(g_mode)\n"
   ]
  },
  {
   "cell_type": "markdown",
   "metadata": {},
   "source": [
    "##  启动进程 Start the process"
   ]
  },
  {
   "cell_type": "code",
   "execution_count": null,
   "metadata": {},
   "outputs": [],
   "source": [
    "thread1 = threading.Thread(target=Color_Recongnize)\n",
    "thread1.daemon=True\n",
    "thread1.start()"
   ]
  },
  {
   "cell_type": "markdown",
   "metadata": {},
   "source": [
    "##  关闭进程 Close Process"
   ]
  },
  {
   "cell_type": "code",
   "execution_count": null,
   "metadata": {},
   "outputs": [],
   "source": [
    "stop_thread(thread1)\n",
    "# 恢复屏幕基础数据显示 Restore basic data display on screen\n",
    "os.system(\"python3 /home/pi/software/oled_yahboom/yahboom_oled.py &\")"
   ]
  },
  {
   "cell_type": "code",
   "execution_count": null,
   "metadata": {},
   "outputs": [],
   "source": [
    "#usb摄像头 usb camera\n",
    "#After using the object, remember to release the object, otherwise the object module will be occupied by the next program, making it unusable\n",
    "#使用完成对象记住释放掉对象，不然下一个程序使用这个对象模块会被占用，导致无法使用\n",
    "image.release()\n",
    "bot.Ctrl_WQ2812_ALL(0,0)\n",
    "#CSI摄像头 CSI Camera\n",
    "# picam2.stop()\n",
    "# picam2.close()"
   ]
  },
  {
   "cell_type": "code",
   "execution_count": null,
   "metadata": {},
   "outputs": [],
   "source": []
  }
 ],
 "metadata": {
  "kernelspec": {
   "display_name": "Python 3 (ipykernel)",
   "language": "python",
   "name": "python3"
  },
  "language_info": {
   "codemirror_mode": {
    "name": "ipython",
    "version": 3
   },
   "file_extension": ".py",
   "mimetype": "text/x-python",
   "name": "python",
   "nbconvert_exporter": "python",
   "pygments_lexer": "ipython3",
   "version": "3.11.2"
  },
  "vscode": {
   "interpreter": {
    "hash": "75e9df7e176b8fac597ec9907fd9d8af994374620e1bb86231401b54ec4688aa"
   }
  }
 },
 "nbformat": 4,
 "nbformat_minor": 4
}
