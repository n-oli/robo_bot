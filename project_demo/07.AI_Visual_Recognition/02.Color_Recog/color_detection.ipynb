{
 "cells": [
  {
   "cell_type": "raw",
   "metadata": {},
   "source": [
    "@Copyright (C): 2015-2024, Shenzhen Yahboom Tech\n",
    "@Author: clhchan \n",
    "@Date: 2024-07-25"
   ]
  },
  {
   "cell_type": "code",
   "execution_count": null,
   "metadata": {},
   "outputs": [],
   "source": [
    "# 导入库 Importing libraries\n",
    "import cv2\n",
    "import traitlets\n",
    "import ipywidgets.widgets as widgets\n",
    "from IPython.display import display\n",
    "import time\n",
    "#导入Raspbot驱动库\n",
    "#Import the Raspbot library\n",
    "from Raspbot_Lib import Raspbot\n",
    "# 创建Raspbot对象\n",
    "# bot Create the Rosmaster object bot\n",
    "bot = Raspbot()\n",
    "import sys\n",
    "sys.path.append('/home/pi/software/oled_yahboom/')\n",
    "from yahboom_oled import *\n",
    "# 创建oled对象 Create an oled object\n",
    "oled = Yahboom_OLED(debug=False)\n",
    "# 线程功能操作库 Thread function operation library\n",
    "import threading\n",
    "import inspect\n",
    "import ctypes\n",
    "import HSV_Config\n",
    "#显示摄像头组件 Display camera components\n",
    "image_widget = widgets.Image(format='jpeg', width=640, height=480)"
   ]
  },
  {
   "cell_type": "code",
   "execution_count": null,
   "metadata": {},
   "outputs": [],
   "source": [
    "#bgr8转jpeg格式  bgr8 to jpeg format\n",
    "import enum\n",
    "def bgr8_to_jpeg(value, quality=75):\n",
    "    return bytes(cv2.imencode('.jpg', value)[1])"
   ]
  },
  {
   "cell_type": "code",
   "execution_count": null,
   "metadata": {},
   "outputs": [],
   "source": [
    "def _async_raise(tid, exctype):\n",
    "    \"\"\"raises the exception, performs cleanup if needed\"\"\"\n",
    "    tid = ctypes.c_long(tid)\n",
    "    if not inspect.isclass(exctype):\n",
    "        exctype = type(exctype)\n",
    "    res = ctypes.pythonapi.PyThreadState_SetAsyncExc(tid, ctypes.py_object(exctype))\n",
    "    if res == 0:\n",
    "        raise ValueError(\"invalid thread id\")\n",
    "    elif res != 1:\n",
    "        # \"\"\"if it returns a number greater than one, you're in trouble,\n",
    "        # and you should call it again with exc=NULL to revert the effect\"\"\"\n",
    "        ctypes.pythonapi.PyThreadState_SetAsyncExc(tid, None)\n",
    "        \n",
    "def stop_thread(thread):\n",
    "    _async_raise(thread.ident, SystemExit)"
   ]
  },
  {
   "cell_type": "code",
   "execution_count": null,
   "metadata": {},
   "outputs": [],
   "source": [
    "#USB摄像头打开方式 USB camera opening method\n",
    "\n",
    "image = cv2.VideoCapture(0)  #打开摄像头/dev/video0 Open the camera /dev/video0\n",
    "image.set(3, 320)\n",
    "image.set(4, 240)\n",
    "image.set(5, 30)  #设置帧率 Setting the frame rate\n",
    "# image.set(cv2.CAP_PROP_FOURCC, cv2.VideoWriter.fourcc('M', 'J', 'P', 'G'))\n",
    "# image.set(cv2.CAP_PROP_BRIGHTNESS, 62) #设置亮度 -64 - 64  0.0 Set Brightness -64 - 64 0.0\n",
    "# image.set(cv2.CAP_PROP_CONTRAST, 63) #设置对比度 -64 - 64  2.0 Set Contrast -64 - 64 2.0\n",
    "# image.set(cv2.CAP_PROP_EXPOSURE, 4800) #设置曝光值 1.0 - 5000  156.0 Set the exposure value 1.0 - 5000 156.0\n",
    "\n",
    "ret, frame = image.read()\n",
    "image_widget.value = bgr8_to_jpeg(frame)\n",
    "update_hsv = HSV_Config.update_hsv()\n",
    "\n",
    "\n",
    "#CSI摄像头打开方式 CSI camera opening method\n",
    "# from picamera2 import Picamera2, Preview\n",
    "# import libcamera\n",
    "\n",
    "# picam2 = Picamera2()  \n",
    "# camera_config = picam2.create_preview_configuration(main={\"format\":'RGB888',\"size\":(640,480)})\n",
    "# camera_config[\"transform\"] = libcamera.Transform(hflip=1, vflip=1)\n",
    "# picam2.configure(camera_config) \n",
    "# picam2.start() \n",
    "# frame = picam2.capture_array()\n",
    "# image_widget.value = bgr8_to_jpeg(frame)\n",
    "# update_hsv = HSV_Config.update_hsv()"
   ]
  },
  {
   "cell_type": "markdown",
   "metadata": {},
   "source": [
    "### 颜色识别点亮RGB灯"
   ]
  },
  {
   "cell_type": "code",
   "execution_count": null,
   "metadata": {},
   "outputs": [],
   "source": [
    "# 颜色到灯珠颜色编号的映射\n",
    "color_to_number = {\n",
    "        'red': 0,\n",
    "        'green': 1,\n",
    "        'blue': 2,\n",
    "        'yellow': 3\n",
    "    }\n",
    "def light_2leds(color1,color2):\n",
    "    # 获取颜色对应的灯珠颜色编号\n",
    "    color1_number = color_to_number.get(color1, None)\n",
    "    color2_number = color_to_number.get(color2, None)\n",
    "\n",
    "    # 分配灯珠\n",
    "    for i in range(1, 6):  # 前 5 个灯珠\n",
    "        bot.Ctrl_WQ2812_Alone(i, 1, color1_number)\n",
    "    for i in range(6, 11):  # 后 5 个灯珠\n",
    "        bot.Ctrl_WQ2812_Alone(i, 1, color2_number)\n",
    "\n",
    "def light_3leds(color1,color2,color3):\n",
    "    # 获取颜色对应的灯珠颜色编号\n",
    "    color1_number = color_to_number.get(color1, None)\n",
    "    color2_number = color_to_number.get(color2, None)\n",
    "    color3_number = color_to_number.get(color3, None)\n",
    "\n",
    "    # 分配灯珠\n",
    "    for i in range(1, 4):  # 前 3 个灯珠\n",
    "        bot.Ctrl_WQ2812_Alone(i, 1, color1_number)\n",
    "    for i in range(4, 8):  # 中 4 个灯珠\n",
    "        bot.Ctrl_WQ2812_Alone(i, 1, color2_number)\n",
    "    for i in range(8, 11):  # 后 3 个灯珠\n",
    "        bot.Ctrl_WQ2812_Alone(i, 1, color3_number)\n",
    "\n",
    "def light_4leds(color1,color2,color3,color4):\n",
    "    # 获取颜色对应的灯珠颜色编号\n",
    "    color1_number = color_to_number.get(color1, None)\n",
    "    color2_number = color_to_number.get(color2, None)\n",
    "    color3_number = color_to_number.get(color3, None)\n",
    "    color4_number = color_to_number.get(color4, None)\n",
    "\n",
    "    # 分配灯珠\n",
    "    for i in range(1, 4):  # 前 3 个灯珠\n",
    "        bot.Ctrl_WQ2812_Alone(i, 1, color1_number)\n",
    "    for i in range(4, 6):  # 后 2 个灯珠\n",
    "        bot.Ctrl_WQ2812_Alone(i, 1, color2_number)\n",
    "    for i in range(6, 8):  # 后 2 个灯珠\n",
    "        bot.Ctrl_WQ2812_Alone(i, 1, color3_number)\n",
    "    for i in range(9, 11):  # 后 3 个灯珠\n",
    "        bot.Ctrl_WQ2812_Alone(i, 1, color4_number)\n",
    "    \n",
    "def light_leds(unique_colors):\n",
    "    if(len(unique_colors)==0):\n",
    "        bot.Ctrl_WQ2812_ALL(0,0)\n",
    "    elif(len(unique_colors)==1):\n",
    "        bot.Ctrl_WQ2812_ALL(1,color_to_number.get(*unique_colors, None))\n",
    "    elif(len(unique_colors)==2):\n",
    "        light_2leds(*unique_colors)\n",
    "    elif(len(unique_colors)==3):   \n",
    "        light_3leds(*unique_colors)\n",
    "    elif(len(unique_colors)==4):   \n",
    "        light_4leds(*unique_colors)\n"
   ]
  },
  {
   "cell_type": "markdown",
   "metadata": {},
   "source": [
    "### HSV值存储"
   ]
  },
  {
   "cell_type": "code",
   "execution_count": null,
   "metadata": {},
   "outputs": [],
   "source": [
    "color_hsv  = {\"red\"   : ((0, 70, 72), (7, 255, 255)),\n",
    "              \"green\" : ((54, 109, 78), (77, 255, 255)),\n",
    "              \"blue\"  : ((92, 100, 62), (121, 251, 255)),\n",
    "              \"yellow\": ((26, 100, 91), (32, 255, 255))}"
   ]
  },
  {
   "cell_type": "code",
   "execution_count": null,
   "metadata": {},
   "outputs": [],
   "source": [
    "def TEST():\n",
    "    detected_colors = []  # 用于存储检测到的颜色名称\n",
    "    unique_colorstemp=None\n",
    "    oled.init_oled_process() #初始化oled进程 Initialize oled process\n",
    "    global color_hsv\n",
    "    display(image_widget)\n",
    "    while True:\n",
    "        ret, frame = image.read() #usb摄像头 usb camera\n",
    "        # frame = picam2.capture_array() #CSI摄像头 CSI Camera\n",
    "        frame, binary,hsvname=update_hsv.get_contours(frame,color_hsv)\n",
    "        unique_colors = list(dict.fromkeys(hsvname))\n",
    "        # 根据列表的长度来决定如何分割字符串\n",
    "        num_colors = len(unique_colors)\n",
    "        # 如果列表中有4个元素\n",
    "        if num_colors == 4:\n",
    "            first_line = ', '.join(unique_colors[:2])\n",
    "            second_line = ', '.join(unique_colors[2:])\n",
    "        elif num_colors == 3:\n",
    "            first_line = ', '.join(unique_colors[:2])\n",
    "            second_line = unique_colors[2]\n",
    "        elif num_colors == 2:\n",
    "            first_line = ', '.join(unique_colors)\n",
    "            second_line = \"\"\n",
    "        elif num_colors == 1:\n",
    "            first_line = unique_colors[0]\n",
    "            second_line = \"\"\n",
    "        else:\n",
    "            first_line = \"\"\n",
    "            second_line = \"\"\n",
    "        if(unique_colors!=unique_colorstemp):\n",
    "            light_leds(unique_colors)\n",
    "            unique_colorstemp=unique_colors.copy()\n",
    "            oled.clear()\n",
    "            oled.add_line(\"color_detection:\", 1)\n",
    "            # 打印到OLED屏幕上\n",
    "            oled.add_line(first_line, 2)\n",
    "            oled.add_line(second_line, 3)\n",
    "            oled.refresh()\n",
    "\n",
    "        # 检查是否有足够的颜色框被检测到\n",
    "        #cv2.putText(frame, detected_colors, 100, 200,\n",
    "                           #cv2.FONT_HERSHEY_SIMPLEX, 1, (255, 0, 255), 2)\n",
    "        \n",
    "        # 实时传回图像数据进行显示 Real-time image data transmission for display\n",
    "        image_widget.value = bgr8_to_jpeg(frame)\n",
    "        "
   ]
  },
  {
   "cell_type": "code",
   "execution_count": null,
   "metadata": {},
   "outputs": [],
   "source": [
    "thread1 = threading.Thread(target=TEST)\n",
    "thread1.daemon = True\n",
    "thread1.start()"
   ]
  },
  {
   "cell_type": "code",
   "execution_count": null,
   "metadata": {},
   "outputs": [],
   "source": [
    "stop_thread(thread1)"
   ]
  },
  {
   "cell_type": "code",
   "execution_count": null,
   "metadata": {},
   "outputs": [],
   "source": [
    "#usb摄像头 usb camera\n",
    "#使用完成对象记住释放掉对象，不然下一个程序使用这个对象模块会被占用，导致无法使用\n",
    "#After using the object, remember to release the object, otherwise the object module will be occupied by the next program, making it unusable\n",
    "image.release()\n",
    "bot.Ctrl_WQ2812_ALL(0,0)\n",
    "# 恢复屏幕基础数据显示 Restore basic data display on screen\n",
    "os.system(\"python3 /home/pi/software/oled_yahboom/yahboom_oled.py &\")\n",
    "del bot\n",
    "#CSI摄像头 CSI Camera\n",
    "# picam2.stop()\n",
    "# picam2.close()"
   ]
  },
  {
   "cell_type": "code",
   "execution_count": null,
   "metadata": {},
   "outputs": [],
   "source": []
  }
 ],
 "metadata": {
  "kernelspec": {
   "display_name": "Python 3 (ipykernel)",
   "language": "python",
   "name": "python3"
  },
  "language_info": {
   "codemirror_mode": {
    "name": "ipython",
    "version": 3
   },
   "file_extension": ".py",
   "mimetype": "text/x-python",
   "name": "python",
   "nbconvert_exporter": "python",
   "pygments_lexer": "ipython3",
   "version": "3.11.2"
  },
  "vscode": {
   "interpreter": {
    "hash": "75e9df7e176b8fac597ec9907fd9d8af994374620e1bb86231401b54ec4688aa"
   }
  }
 },
 "nbformat": 4,
 "nbformat_minor": 4
}
