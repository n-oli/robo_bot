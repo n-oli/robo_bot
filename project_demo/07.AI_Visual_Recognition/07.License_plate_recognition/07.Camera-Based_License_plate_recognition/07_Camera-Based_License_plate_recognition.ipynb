{
 "cells": [
  {
   "cell_type": "raw",
   "metadata": {},
   "source": [
    "@Copyright (C): 2015-2024, Shenzhen Yahboom Tech  \n",
    "@Author: clhchan\n",
    "@Date: 2024-07-25  "
   ]
  },
  {
   "cell_type": "code",
   "execution_count": null,
   "metadata": {},
   "outputs": [],
   "source": [
    "# 导入oled屏幕库 Import oled screen library\n",
    "import sys\n",
    "sys.path.append('/home/pi/software/oled_yahboom/')\n",
    "from yahboom_oled import *\n",
    "# 创建oled对象 Create an oled object\n",
    "oled = Yahboom_OLED(debug=False)\n",
    "# 导入组件 Importing Components\n",
    "import ipywidgets.widgets as widgets\n",
    "image_widget = widgets.Image(format='jpeg', width=640, height=640)  #设置摄像头显示组件  Set up the camera display component\n",
    "\n",
    "# 导入cv相关库 Import cv related libraries\n",
    "import cv2\n",
    "import numpy as np\n",
    "from PIL import ImageFont\n",
    "from PIL import Image\n",
    "from PIL import ImageDraw\n",
    "# 导入依赖包 Import dependency packages\n",
    "import hyperlpr3 as lpr3"
   ]
  },
  {
   "cell_type": "code",
   "execution_count": null,
   "metadata": {},
   "outputs": [],
   "source": [
    "# 将BGR图像转换为JPEG格式的字节流 Convert a BGR image to a JPEG byte stream\n",
    "def bgr8_to_jpeg(value, quality=75):\n",
    "    return bytes(cv2.imencode('.jpg', value)[1])\n",
    "\n",
    "# 在图像上绘制车牌框及文字 Draw the license plate frame and text on the image\n",
    "def draw_plate_on_image(img, box, text, font):\n",
    "    x1, y1, x2, y2 = box\n",
    "    cv2.rectangle(img, (x1, y1), (x2, y2), (225, 32, 39), 2, cv2.LINE_AA)\n",
    "    cv2.rectangle(img, (x1, y1 - 20), (x2, y1), (225, 32, 39), -1)\n",
    "    data = Image.fromarray(img)\n",
    "    draw = ImageDraw.Draw(data)\n",
    "    draw.text((x1 + 1, y1 - 18), text, (255, 255, 255), font=font)\n",
    "    res = np.asarray(data)\n",
    "    return res\n"
   ]
  },
  {
   "cell_type": "code",
   "execution_count": null,
   "metadata": {
    "scrolled": true
   },
   "outputs": [],
   "source": [
    "try:\n",
    "    code=0\n",
    "    confidence=0\n",
    "    type_idx=0\n",
    "    box=0\n",
    "    image=0\n",
    "    display(image_widget)\n",
    "    # 中文字体加载 Chinese font loading\n",
    "    font_ch = ImageFont.truetype(\"platech.ttf\", 20, 0)\n",
    "    # 实例化识别对象 Instantiate the recognition object\n",
    "    catcher = lpr3.LicensePlateCatcher(detect_level=lpr3.DETECT_LEVEL_LOW)#DETECT_LEVEL_HIGH640*640\n",
    "    oled.init_oled_process() #初始化oled进程 Initialize oled process\n",
    "\n",
    "    camera = cv2.VideoCapture(0)     # 定义摄像头对象，参数0表示第一个摄像头，默认640x480 Define the camera object. Parameter 0 indicates the first camera. The default resolution is 640x480.\n",
    "    camera.set(3, 320)\n",
    "    camera.set(4, 240)\n",
    "    pTime, cTime = 0, 0\n",
    "    while True:\n",
    "        ret, frame = camera.read()\n",
    "        # 执行识别算法\n",
    "        results = catcher(frame)\n",
    "        # 计算帧率\n",
    "        cTime = time.time()\n",
    "        fps = 1 / (cTime - pTime)\n",
    "        pTime = cTime\n",
    "        text = \"FPS : \" + str(int(fps))\n",
    "        cv2.putText(frame, f\"FPS: {fps:.1f}\", (10, 30), cv2.FONT_HERSHEY_SIMPLEX, 0.9, (0, 255, 0), 2)\n",
    "        # 初始化图像变量 Initialize image variables\n",
    "        image = frame.copy()  # 使用原始帧作为默认图像 Use original frame as default image\n",
    "        for code, confidence, type_idx, box in results:\n",
    "                text = f\"{code} - {confidence:.2f}\"\n",
    "                image = draw_plate_on_image(frame, box, text, font=font_ch)\n",
    "        oled.clear()\n",
    "        if results and len(results) > 0:\n",
    "            code, confidence, _, _ = results[0]\n",
    "            carcher_str = f'carcher : {code}'\n",
    "            confidence_str = f'confidence: {confidence:.2f}'\n",
    "            oled.add_cnline(carcher_str, 1)\n",
    "            oled.add_line(confidence_str, 3)\n",
    "        else:\n",
    "            oled.add_cnline('carcher : 粤B',1)\n",
    "            oled.add_line('confidence: 0',3)\n",
    "        oled.refresh()\n",
    "        \n",
    "        image_widget.value = bgr8_to_jpeg(image)\n",
    "        # cv2.imshow('frame', frame)\n",
    "        cher_list = results[0] if results and results[0] is not None else None\n",
    "        if cher_list is not None:\n",
    "            print(cher_list)\n",
    "        # if cv2.waitKey(1) & 0xFF == ord('q'):\n",
    "        #     break\n",
    "\n",
    "except KeyboardInterrupt:\n",
    "    # picam2.stop()\n",
    "    # picam2.close()\n",
    "    camera.release()\n",
    "    # 恢复屏幕基础数据显示 Restore basic data display on screen\n",
    "    os.system(\"python3 /home/pi/software/oled_yahboom/yahboom_oled.py &\")"
   ]
  },
  {
   "cell_type": "code",
   "execution_count": null,
   "metadata": {},
   "outputs": [],
   "source": [
    "#最后需要释放掉摄像头的占用 Finally, you need to release the camera's occupancy\n",
    "camera.release()\n",
    "oled.init_oled_process() #初始化oled进程 Initialize oled process\n",
    "# 恢复屏幕基础数据显示 Restore basic data display on screen\n",
    "os.system(\"python3 /home/pi/software/oled_yahboom/yahboom_oled.py &\")\n",
    "# picam2.stop()\n",
    "# picam2.close()\n",
    "#最后需要释放掉摄像头的占用 Finally, you need to release the camera's occupancy"
   ]
  },
  {
   "cell_type": "code",
   "execution_count": null,
   "metadata": {},
   "outputs": [],
   "source": []
  }
 ],
 "metadata": {
  "kernelspec": {
   "display_name": "Python 3 (ipykernel)",
   "language": "python",
   "name": "python3"
  },
  "language_info": {
   "codemirror_mode": {
    "name": "ipython",
    "version": 3
   },
   "file_extension": ".py",
   "mimetype": "text/x-python",
   "name": "python",
   "nbconvert_exporter": "python",
   "pygments_lexer": "ipython3",
   "version": "3.11.2"
  }
 },
 "nbformat": 4,
 "nbformat_minor": 4
}
