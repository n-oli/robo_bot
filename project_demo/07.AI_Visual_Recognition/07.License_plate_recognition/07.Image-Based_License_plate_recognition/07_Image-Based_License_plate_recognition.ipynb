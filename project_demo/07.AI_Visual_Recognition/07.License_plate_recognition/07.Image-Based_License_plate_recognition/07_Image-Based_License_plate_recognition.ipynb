{
 "cells": [
  {
   "cell_type": "raw",
   "metadata": {},
   "source": [
    "@Copyright (C): 2015-2024, Shenzhen Yahboom Tech  \n",
    "@Author: clhchan\n",
    "@Date: 2024-07-26"
   ]
  },
  {
   "cell_type": "code",
   "execution_count": 1,
   "metadata": {},
   "outputs": [
    {
     "data": {
      "application/vnd.jupyter.widget-view+json": {
       "model_id": "69766fb8212848b4a84d5be8af838c7f",
       "version_major": 2,
       "version_minor": 0
      },
      "text/plain": [
       "Image(value=b'', format='jpeg', height='640', width='640')"
      ]
     },
     "metadata": {},
     "output_type": "display_data"
    }
   ],
   "source": [
    "# 导入oled屏幕库 Import oled screen library\n",
    "import sys\n",
    "sys.path.append('/home/pi/software/oled_yahboom/')\n",
    "from yahboom_oled import *\n",
    "# 创建oled对象 Create an oled object\n",
    "oled = Yahboom_OLED(debug=False)\n",
    "# 导入组件 Importing Components\n",
    "import ipywidgets.widgets as widgets\n",
    "image_widget = widgets.Image(format='jpeg', width=640, height=640)  #设置摄像头显示组件 Set up the camera display component\n",
    "display(image_widget) "
   ]
  },
  {
   "cell_type": "code",
   "execution_count": 2,
   "metadata": {},
   "outputs": [
    {
     "name": "stdout",
     "output_type": "stream",
     "text": [
      "Process 1297 has been terminated.\n",
      "沪AE97033 - 0.99\n"
     ]
    }
   ],
   "source": [
    "# 导入cv相关库 Import cv related libraries\n",
    "import cv2\n",
    "import numpy as np\n",
    "from PIL import ImageFont\n",
    "from PIL import Image\n",
    "from PIL import ImageDraw\n",
    "# 导入依赖包 Import dependency packages\n",
    "import hyperlpr3 as lpr3\n",
    " \n",
    "# 将BGR图像转换为JPEG格式的字节流 Convert a BGR image to a JPEG byte stream\n",
    "def bgr8_to_jpeg(value, quality=75):\n",
    "    return bytes(cv2.imencode('.jpg', value)[1])\n",
    "\n",
    "# 在图像上绘制车牌框及文字 Draw the license plate frame and text on the image\n",
    "def draw_plate_on_image(img, box, text, font):\n",
    "    x1, y1, x2, y2 = box\n",
    "    cv2.rectangle(img, (x1, y1), (x2, y2), (225, 32, 39), 2, cv2.LINE_AA)\n",
    "    cv2.rectangle(img, (x1, y1 - 20), (x2, y1), (225, 32, 39), -1)\n",
    "    data = Image.fromarray(img)\n",
    "    draw = ImageDraw.Draw(data)\n",
    "    draw.text((x1 + 1, y1 - 18), text, (255, 255, 255), font=font)\n",
    "    res = np.asarray(data)\n",
    "    return res\n",
    " \n",
    " \n",
    "# 中文字体加载 Chinese font loading\n",
    "font_ch = ImageFont.truetype(\"platech.ttf\", 20, 0)\n",
    " \n",
    "# 实例化识别对象 Instantiate the recognition object\n",
    "catcher = lpr3.LicensePlateCatcher(detect_level=lpr3.DETECT_LEVEL_LOW)#DETECT_LEVEL_HIGH640*640\n",
    "# 读取图片 Reading pictures\n",
    "image = cv2.imread(\"沪AE97033.png\")\n",
    "try:\n",
    "    oled.init_oled_process() #初始化oled进程 Initialize oled process\n",
    "    # 执行识别算法 Execute the recognition algorithm\n",
    "    results = catcher(image)\n",
    "    for code, confidence, type_idx, box in results:\n",
    "        # 解析数据并绘制 Parsing and plotting data\n",
    "        text = f\"{code} - {confidence:.2f}\"\n",
    "        image = draw_plate_on_image(image, box, text, font=font_ch)\n",
    "    oled.clear()\n",
    "    carcher_str=f'carcher : {code}'\n",
    "    confidence_str=f'confidence:{confidence:.2f}'\n",
    "    oled.add_cnline(carcher_str, 1)\n",
    "    oled.add_line(confidence_str, 3)\n",
    "    oled.refresh()\n",
    "    image_widget.value = bgr8_to_jpeg(image)\n",
    "    print(text)\n",
    "    # 显示检测结果 Display test results\n",
    "    # cv2.imshow(\"LicensePlate\", image)\n",
    "    # cv2.waitKey(0)\n",
    "except KeyboardInterrupt:\n",
    "    cv2.destroyAllWindows()"
   ]
  },
  {
   "cell_type": "code",
   "execution_count": 3,
   "metadata": {},
   "outputs": [
    {
     "data": {
      "text/plain": [
       "0"
      ]
     },
     "execution_count": 3,
     "metadata": {},
     "output_type": "execute_result"
    }
   ],
   "source": [
    "# 结束 Finish\n",
    "# 恢复屏幕基础数据显示 Restore basic data display on screen\n",
    "os.system(\"python3 /home/pi/software/oled_yahboom/yahboom_oled.py &\")"
   ]
  },
  {
   "cell_type": "code",
   "execution_count": null,
   "metadata": {},
   "outputs": [],
   "source": []
  }
 ],
 "metadata": {
  "kernelspec": {
   "display_name": "Python 3 (ipykernel)",
   "language": "python",
   "name": "python3"
  },
  "language_info": {
   "codemirror_mode": {
    "name": "ipython",
    "version": 3
   },
   "file_extension": ".py",
   "mimetype": "text/x-python",
   "name": "python",
   "nbconvert_exporter": "python",
   "pygments_lexer": "ipython3",
   "version": "3.11.2"
  }
 },
 "nbformat": 4,
 "nbformat_minor": 4
}
