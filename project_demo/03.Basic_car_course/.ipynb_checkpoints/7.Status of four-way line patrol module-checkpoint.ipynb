{
 "cells": [
  {
   "cell_type": "raw",
   "id": "e39234ef-0d33-4980-8c05-b6149812b115",
   "metadata": {},
   "source": [
    "@Copyright (C): 2015-2024, Shenzhen Yahboom Tech  \n",
    "@Author: clhchan\n",
    "@Date: 2024-07-12 10:10:02  "
   ]
  },
  {
   "cell_type": "code",
   "execution_count": null,
   "id": "5ac6e98b-cc7c-4473-af5c-de50da6d88b8",
   "metadata": {},
   "outputs": [],
   "source": [
    "#导入Raspbot驱动库及其他相关库 Import the Raspbot library And other related libraries\n",
    "import time\n",
    "from Raspbot_Lib import Raspbot\n",
    "from ipywidgets import interact\n",
    "import ipywidgets as widgets\n",
    "import sys\n",
    "sys.path.append('/home/pi/software/oled_yahboom/')\n",
    "from yahboom_oled import *"
   ]
  },
  {
   "cell_type": "code",
   "execution_count": null,
   "id": "a61e4c10-6650-47e0-bd01-9dada327fd21",
   "metadata": {},
   "outputs": [],
   "source": [
    "# 创建Raspbot对象 bot Create the Raspbot object bot\n",
    "bot = Raspbot()\n",
    "# 创建oled对象 Create an oled object\n",
    "oled = Yahboom_OLED(debug=False)"
   ]
  },
  {
   "cell_type": "code",
   "execution_count": null,
   "id": "649029f5-902c-42aa-a226-bb57cbd5d148",
   "metadata": {},
   "outputs": [],
   "source": [
    "def main():\n",
    "    try:\n",
    "        oled.init_oled_process() #初始化oled进程 Initialize oled process\n",
    "        while True: \n",
    "            # 读取巡线传感器的状态 Read the status of the line patrol sensor\n",
    "            track_data = bot.read_data_array(0x0a, 1)\n",
    "            track = int(track_data[0])\n",
    "\n",
    "            # 解析巡线传感器的状态  Analyze the status of the line patrol sensor\n",
    "            x1 = (track >> 3) & 0x01\n",
    "            x2 = (track >> 2) & 0x01\n",
    "            x3 = (track >> 1) & 0x01\n",
    "            x4 = track & 0x01\n",
    "\n",
    "            # 打印巡线传感器的状态 Print the status of the line-following sensor\n",
    "            print(f\"Line Tracker Status: {x2}, {x1}, {x3}, {x4}\")\n",
    "\n",
    "            oled.clear()\n",
    "            lts_str=f'         {x2}  {x1}  {x3}  {x4}'\n",
    "            oled.add_line('Line Tracker Status:', 1)\n",
    "            oled.add_line('        x2 x1 x3 x4', 3)\n",
    "            oled.add_line(lts_str, 4)\n",
    "            oled.refresh()\n",
    "\n",
    "            # 暂停一小段时间，以便再次读取数据 Pause for a short time to read the data again\n",
    "            time.sleep(0.1) \n",
    "\n",
    "    except KeyboardInterrupt:\n",
    "        # 当用户按下 Ctrl+C 时，程序将结束 When the user presses Ctrl+C, the program will end\n",
    "        # 恢复屏幕基础数据显示 Restore basic data display on screen\n",
    "        os.system(\"python3 /home/pi/software/oled_yahboom/yahboom_oled.py &\")\n",
    "        print(\"Line tracking stopped by user.\")\n",
    "\n",
    "if __name__ == \"__main__\":\n",
    "    main()\n"
   ]
  },
  {
   "cell_type": "code",
   "execution_count": null,
   "id": "dca91e00-07fb-409d-a4e5-6774d929ad36",
   "metadata": {},
   "outputs": [],
   "source": [
    "# 程序结束后请删除对象，避免在其他程序中使用Raspbot库造成冲突\n",
    "# After the program is complete, delete the object to avoid conflicts caused by using the library in other programs\n",
    "del bot"
   ]
  }
 ],
 "metadata": {
  "kernelspec": {
   "display_name": "Python 3 (ipykernel)",
   "language": "python",
   "name": "python3"
  },
  "language_info": {
   "codemirror_mode": {
    "name": "ipython",
    "version": 3
   },
   "file_extension": ".py",
   "mimetype": "text/x-python",
   "name": "python",
   "nbconvert_exporter": "python",
   "pygments_lexer": "ipython3",
   "version": "3.11.2"
  }
 },
 "nbformat": 4,
 "nbformat_minor": 5
}
