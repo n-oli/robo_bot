{
 "cells": [
  {
   "cell_type": "raw",
   "id": "a09eadb1-bda1-4b4f-981e-d873e7b371ea",
   "metadata": {},
   "source": [
    "@Copyright (C): 2015-2024, Shenzhen Yahboom Tech  \n",
    "@Author: clhchan\n",
    "@Date: 2024-07-12 10:10:02  "
   ]
  },
  {
   "cell_type": "code",
   "execution_count": null,
   "id": "9b703ba6-91c3-418e-a63c-95bb374748b3",
   "metadata": {},
   "outputs": [],
   "source": [
    "##导入Raspbot驱动库及其他相关库 Import the Raspbot library And other related libraries\n",
    "import time\n",
    "from Raspbot_Lib import Raspbot\n",
    "from ipywidgets import interact\n",
    "import ipywidgets as widgets"
   ]
  },
  {
   "cell_type": "code",
   "execution_count": null,
   "id": "a61e4c10-6650-47e0-bd01-9dada327fd21",
   "metadata": {},
   "outputs": [],
   "source": [
    "# 创建Raspbot对象 bot Create the Raspbot object bot\n",
    "bot = Raspbot()"
   ]
  },
  {
   "cell_type": "code",
   "execution_count": null,
   "id": "649029f5-902c-42aa-a226-bb57cbd5d148",
   "metadata": {},
   "outputs": [],
   "source": [
    "# 控制电机运动 Control motor movement\n",
    "def run_motor(M1,M2,M3,M4):\n",
    "    bot.Ctrl_Muto(0, M1)\n",
    "    bot.Ctrl_Muto(1, M2)\n",
    "    bot.Ctrl_Muto(2, M3)\n",
    "    bot.Ctrl_Muto(3, M4)\n",
    "    return True\n",
    "    \n",
    "\n",
    "# 创建四个滑块来控制电机 Create four sliders to control the motor\n",
    "interact(run_motor, \\\n",
    "         M1=widgets.IntSlider(min=-255,max=255,step=1,value=0), \\\n",
    "         M2=widgets.IntSlider(min=-255,max=255,step=1,value=0), \\\n",
    "         M3=widgets.IntSlider(min=-255,max=255,step=1,value=0), \\\n",
    "         M4=widgets.IntSlider(min=-255,max=255,step=1,value=0));\n"
   ]
  },
  {
   "cell_type": "code",
   "execution_count": null,
   "id": "ce20522b-9a67-46d2-9fe4-b52b9256511e",
   "metadata": {},
   "outputs": [],
   "source": [
    "# 停止运动 stop motion \n",
    "bot.Ctrl_Car(0,1,0) #L1电机 后退 0速度\n",
    "bot.Ctrl_Car(1,1,0) #L2电机 后退 0速度\n",
    "bot.Ctrl_Car(2,1,0) #R1电机 后退 0速度\n",
    "bot.Ctrl_Car(3,1,0) #R2电机 后退 0速度\n"
   ]
  },
  {
   "cell_type": "code",
   "execution_count": null,
   "id": "dca91e00-07fb-409d-a4e5-6774d929ad36",
   "metadata": {},
   "outputs": [],
   "source": [
    "# 程序结束后请删除对象，避免在其他程序中使用Raspbot库造成冲突\n",
    "# After the program is complete, delete the object to avoid conflicts caused by using the library in other programs\n",
    "del bot"
   ]
  },
  {
   "cell_type": "code",
   "execution_count": null,
   "id": "950a5c47-055b-436e-a615-73ccbec33a6d",
   "metadata": {},
   "outputs": [],
   "source": []
  }
 ],
 "metadata": {
  "kernelspec": {
   "display_name": "Python 3 (ipykernel)",
   "language": "python",
   "name": "python3"
  },
  "language_info": {
   "codemirror_mode": {
    "name": "ipython",
    "version": 3
   },
   "file_extension": ".py",
   "mimetype": "text/x-python",
   "name": "python",
   "nbconvert_exporter": "python",
   "pygments_lexer": "ipython3",
   "version": "3.11.2"
  }
 },
 "nbformat": 4,
 "nbformat_minor": 5
}
