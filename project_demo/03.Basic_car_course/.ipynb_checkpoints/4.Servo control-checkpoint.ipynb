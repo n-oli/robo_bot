{
 "cells": [
  {
   "cell_type": "raw",
   "metadata": {},
   "source": [
    "\n",
    "@Copyright (C): 2015-2024, Shenzhen Yahboom Tech  \n",
    "@Author: clhchan\n",
    "@Date: 2024-07-12 10:10:02  "
   ]
  },
  {
   "cell_type": "code",
   "execution_count": null,
   "metadata": {},
   "outputs": [],
   "source": [
    "#导入Raspbot驱动库 Import the Raspbot library\n",
    "import time\n",
    "from Raspbot_Lib import Raspbot\n",
    "from ipywidgets import intpip3eract\n",
    "import ipywidgets as widgets\n"
   ]
  },
  {
   "cell_type": "code",
   "execution_count": null,
   "metadata": {},
   "outputs": [],
   "source": [
    "# 创建Rosmaster对象 bot Create the Rosmaster object bot\n",
    "bot = Raspbot()"
   ]
  },
  {
   "cell_type": "markdown",
   "metadata": {},
   "source": [
    "@舵机单独控制\n",
    "@Ctrl_Servo(id, angle):\n",
    "\n",
    "@index：舵机索引 1~2\n",
    "@angle：舵机范围 0 - 180 "
   ]
  },
  {
   "cell_type": "code",
   "execution_count": null,
   "metadata": {},
   "outputs": [],
   "source": [
    "def pwm_servo(S1, S2):\n",
    "    bot.Ctrl_Servo(1, S1)\n",
    "    bot.Ctrl_Servo(2, S2)\n",
    "\n",
    "    return S1, S2\n",
    "\n",
    "# 创建两个滑块来控制PWM舵机 Create four sliders to control PWM steering gear\n",
    "interact(pwm_servo, \\\n",
    "         S1=widgets.IntSlider(min=0,max=180,step=1,value=90), \\\n",
    "         S2=widgets.IntSlider(min=0,max=110,step=1,value=25));"
   ]
  },
  {
   "cell_type": "code",
   "execution_count": null,
   "metadata": {},
   "outputs": [],
   "source": [
    "#reset\n",
    "bot.Ctrl_Servo(1, 90)\n",
    "bot.Ctrl_Servo(2, 25)\n",
    "#使用完成对象记住释放掉对象，不然下一个程序使用这个对象模块会被占用，导致无法使用\n",
    "#After the program is complete, delete the object to avoid conflicts caused by using the library in other programs\n",
    "del bot"
   ]
  },
  {
   "cell_type": "code",
   "execution_count": null,
   "metadata": {},
   "outputs": [],
   "source": []
  }
 ],
 "metadata": {
  "kernelspec": {
   "display_name": "Python 3 (ipykernel)",
   "language": "python",
   "name": "python3"
  },
  "language_info": {
   "codemirror_mode": {
    "name": "ipython",
    "version": 3
   },
   "file_extension": ".py",
   "mimetype": "text/x-python",
   "name": "python",
   "nbconvert_exporter": "python",
   "pygments_lexer": "ipython3",
   "version": "3.11.2"
  }
 },
 "nbformat": 4,
 "nbformat_minor": 4
}
