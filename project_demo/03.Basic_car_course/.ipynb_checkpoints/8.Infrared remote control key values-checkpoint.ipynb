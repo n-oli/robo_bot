{
 "cells": [
  {
   "cell_type": "raw",
   "id": "bc018eea-10ad-4c7f-bd3f-3a357dbecf92",
   "metadata": {},
   "source": [
    "@Copyright (C): 2015-2024, Shenzhen Yahboom Tech  \n",
    "@Author: clhchan\n",
    "@Date: 2024-07-12 10:10:02  "
   ]
  },
  {
   "cell_type": "code",
   "execution_count": null,
   "id": "5ac6e98b-cc7c-4473-af5c-de50da6d88b8",
   "metadata": {},
   "outputs": [],
   "source": [
    "#导入Raspbot驱动库及其他相关库 Import the Raspbot library And other related libraries\n",
    "import time\n",
    "from Raspbot_Lib import Raspbot\n",
    "from ipywidgets import interact\n",
    "import ipywidgets as widgets\n",
    "import sys\n",
    "sys.path.append('/home/pi/software/oled_yahboom/')\n",
    "from yahboom_oled import *"
   ]
  },
  {
   "cell_type": "code",
   "execution_count": null,
   "id": "a61e4c10-6650-47e0-bd01-9dada327fd21",
   "metadata": {},
   "outputs": [],
   "source": [
    "# 创建Raspbot对象 bot Create the Raspbot object bot\n",
    "bot = Raspbot()\n",
    "# 创建oled对象 Create an oled object\n",
    "oled = Yahboom_OLED(debug=False)"
   ]
  },
  {
   "cell_type": "code",
   "execution_count": null,
   "id": "649029f5-902c-42aa-a226-bb57cbd5d148",
   "metadata": {},
   "outputs": [],
   "source": [
    "# 打开红外遥控接收 Turn on infrared remote control reception\n",
    "bot.Ctrl_IR_Switch(1)\n",
    "oled.init_oled_process() #初始化oled进程 Initialize oled process\n",
    "try:\n",
    "    while True:\n",
    "        # 读取红外遥控的值 Read the value of infrared remote control\n",
    "        data = bot.read_data_array(0x0c, 1)\n",
    "        data2h=hex(data[0])\n",
    "        # 打印接收到的红外数据 Print received infrared data\n",
    "        if(data[0]<30):\n",
    "            print(\"Received IR data:\", data,data2h)\n",
    "        oled.clear()\n",
    "        ir_str=f'      {data} {data2h}'\n",
    "        oled.add_line('Received IR data:', 1)\n",
    "        oled.add_line(ir_str, 3)\n",
    "        oled.refresh()\n",
    "        # 为避免输出过快，可以添加短暂延迟 To avoid outputting too quickly, you can add a short delay\n",
    "        time.sleep(0.2)  # 每0.2秒读取一次数据 Read data every 0.5 seconds\n",
    "\n",
    "except KeyboardInterrupt:\n",
    "    # 当程序结束时，关闭红外遥控接收 When the program ends, turn off the infrared remote control receiver\n",
    "    bot.Ctrl_IR_Switch(0)\n",
    "    # 恢复屏幕基础数据显示 Restore basic data display on screen\n",
    "    os.system(\"python3 /home/pi/software/oled_yahboom/yahboom_oled.py &\")\n",
    "    print(\"IR receiver turned off.\")\n"
   ]
  },
  {
   "cell_type": "code",
   "execution_count": null,
   "id": "dca91e00-07fb-409d-a4e5-6774d929ad36",
   "metadata": {},
   "outputs": [],
   "source": [
    "#关闭红外遥控接收 Turn off infrared remote control reception\n",
    "bot.Ctrl_IR_Switch(0) \n",
    "# 程序结束后请删除对象，避免在其他程序中使用Raspbot库造成冲突\n",
    "# After the program is complete, delete the object to avoid conflicts caused by using the library in other programs\n",
    "del bot"
   ]
  },
  {
   "cell_type": "code",
   "execution_count": null,
   "id": "431f8764-1009-40fa-b20c-3fa2807a4651",
   "metadata": {},
   "outputs": [],
   "source": []
  }
 ],
 "metadata": {
  "kernelspec": {
   "display_name": "Python 3 (ipykernel)",
   "language": "python",
   "name": "python3"
  },
  "language_info": {
   "codemirror_mode": {
    "name": "ipython",
    "version": 3
   },
   "file_extension": ".py",
   "mimetype": "text/x-python",
   "name": "python",
   "nbconvert_exporter": "python",
   "pygments_lexer": "ipython3",
   "version": "3.11.2"
  }
 },
 "nbformat": 4,
 "nbformat_minor": 5
}
