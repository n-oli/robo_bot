{
 "cells": [
  {
   "cell_type": "raw",
   "metadata": {},
   "source": [
    "\n",
    "@Copyright (C): 2015-2024, Shenzhen Yahboom Tech  \n",
    "@Author: clhchan\n",
    "@Date: 2024-07-12 10:10:02  "
   ]
  },
  {
   "cell_type": "code",
   "execution_count": null,
   "metadata": {},
   "outputs": [],
   "source": [
    "#导入Raspbot驱动库 Import Raspbot  library\n",
    "from Raspbot_Lib import Raspbot\n",
    "import time\n",
    "import sys\n",
    "sys.path.append('/home/pi/software/oled_yahboom/')\n",
    "from yahboom_oled import *"
   ]
  },
  {
   "cell_type": "code",
   "execution_count": null,
   "metadata": {},
   "outputs": [],
   "source": [
    "# 创建Raspbot对象 Create the Raspbot object bot\n",
    "bot = Raspbot()\n",
    "# 创建oled对象 Create an oled object\n",
    "oled = Yahboom_OLED(debug=False)"
   ]
  },
  {
   "cell_type": "code",
   "execution_count": null,
   "metadata": {},
   "outputs": [],
   "source": [
    "key_down= False\n",
    "try:\n",
    "    oled.init_oled_process() #初始化oled进程 Initialize oled process\n",
    "    oled.clear()\n",
    "    oled.add_line('key pressed:', 1)\n",
    "    oled.refresh()\n",
    "    while True:\n",
    "            data = bot.read_data_array(0x0d, 1)\n",
    "            state=data[0]\n",
    "            # 只有当按键从未按下变为按下时才打印\n",
    "            # Print only when the key is not pressed and becomes pressed\n",
    "            if state == 1 and not key_down:\n",
    "                print(\"key pressed\", state)\n",
    "                key_down = True  \n",
    "                oled.clear()\n",
    "                key_str=f'{state:>10}'\n",
    "                oled.add_line('key pressed:', 1)\n",
    "                oled.add_line(key_str, 3)\n",
    "                oled.refresh()\n",
    "        \n",
    "            if state == 0 and key_down:\n",
    "                key_down = False\n",
    "                oled.clear()\n",
    "                key_str=f'{state:>10}'\n",
    "                oled.add_line('key pressed:', 1)\n",
    "                oled.add_line(key_str, 3)\n",
    "                oled.refresh()\n",
    "    \n",
    "            # 为避免输出过快，可以添加短暂延迟\n",
    "            # To avoid outputting too quickly, add a short delay\n",
    "            time.sleep(0.05)  # 每0.05秒读取一次数据\n",
    "except KeyboardInterrupt:\n",
    "        # 恢复屏幕基础数据显示 Restore basic data display on screen\n",
    "        os.system(\"python3 /home/pi/software/oled_yahboom/yahboom_oled.py &\")\n",
    "        print(\"turned off.\")"
   ]
  },
  {
   "cell_type": "code",
   "execution_count": null,
   "metadata": {},
   "outputs": [],
   "source": [
    "#使用完成对象记住释放掉对象，不然下一个程序使用这个对象模块会被占用，导致无法使用\n",
    "#Release Object\n",
    "del bot               "
   ]
  }
 ],
 "metadata": {
  "kernelspec": {
   "display_name": "Python 3 (ipykernel)",
   "language": "python",
   "name": "python3"
  },
  "language_info": {
   "codemirror_mode": {
    "name": "ipython",
    "version": 3
   },
   "file_extension": ".py",
   "mimetype": "text/x-python",
   "name": "python",
   "nbconvert_exporter": "python",
   "pygments_lexer": "ipython3",
   "version": "3.11.2"
  }
 },
 "nbformat": 4,
 "nbformat_minor": 4
}
