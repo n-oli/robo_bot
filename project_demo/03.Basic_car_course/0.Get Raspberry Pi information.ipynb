{
 "cells": [
  {
   "cell_type": "raw",
   "metadata": {},
   "source": [
    "@Copyright (C): 2015-2024, Shenzhen Yahboom Tech  \n",
    "@Author: clhchan\n",
    "@Date: 2024-07-12 10:10:02  "
   ]
  },
  {
   "cell_type": "code",
   "execution_count": null,
   "metadata": {},
   "outputs": [],
   "source": [
    "import platform\n",
    "import os\n",
    "import sys\n",
    "import platform\n",
    "\n",
    "\n",
    "def machine():\n",
    "    \"\"\"Return type ofmachine.\"\"\"\n",
    "    if os.name == 'nt' and sys.version_info[:2] < (2,7):\n",
    "       return os.environ.get(\"PROCESSOR_ARCHITEW6432\",\n",
    "            os.environ.get('PROCESSOR_ARCHITECTURE',''))\n",
    "    else:\n",
    "       return platform.machine()\n",
    "\n",
    "\n",
    "def os_bits(machine=machine()):\n",
    "    \"\"\"Return bitness ofoperating system, or None if unknown.\"\"\"\n",
    "    machine2bits = {'AMD64':64, 'x86_64': 64, 'i386': 32, 'x86': 32}\n",
    "    return machine2bits.get(machine, None)\n",
    "\n",
    "if __name__ == '__main__':\n",
    "   print(platform.machine())\n",
    "   print(platform.node())\n",
    "   print(platform.platform(True))\n",
    "   print(platform.system())\n",
    "   print(platform.uname())\n",
    "   print(platform.architecture())\n",
    "   print(platform.platform() + ' ' + platform.architecture()[0])\n",
    "   print (os_bits())\n",
    "   print (os.name)"
   ]
  },
  {
   "cell_type": "code",
   "execution_count": null,
   "metadata": {},
   "outputs": [],
   "source": []
  }
 ],
 "metadata": {
  "kernelspec": {
   "display_name": "Python 3 (ipykernel)",
   "language": "python",
   "name": "python3"
  },
  "language_info": {
   "codemirror_mode": {
    "name": "ipython",
    "version": 3
   },
   "file_extension": ".py",
   "mimetype": "text/x-python",
   "name": "python",
   "nbconvert_exporter": "python",
   "pygments_lexer": "ipython3",
   "version": "3.11.2"
  }
 },
 "nbformat": 4,
 "nbformat_minor": 4
}
