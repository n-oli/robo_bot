{
 "cells": [
  {
   "cell_type": "raw",
   "id": "84a0c38c-f520-45fd-a4f7-8c6df75da62e",
   "metadata": {},
   "source": [
    "@Copyright (C): 2015-2024, Shenzhen Yahboom Tech  \n",
    "@Author: clhchan\n",
    "@Date: 2024-07-12 10:10:02  "
   ]
  },
  {
   "cell_type": "code",
   "execution_count": null,
   "id": "5ac6e98b-cc7c-4473-af5c-de50da6d88b8",
   "metadata": {},
   "outputs": [],
   "source": [
    "#导入Raspbot驱动库及其他相关库 Import the Raspbot library And other related libraries\n",
    "import time\n",
    "from Raspbot_Lib import Raspbot\n",
    "from ipywidgets import interact\n",
    "import ipywidgets as widgets\n",
    "import sys\n",
    "sys.path.append('/home/pi/software/oled_yahboom/')\n",
    "from yahboom_oled import *"
   ]
  },
  {
   "cell_type": "code",
   "execution_count": null,
   "id": "a61e4c10-6650-47e0-bd01-9dada327fd21",
   "metadata": {},
   "outputs": [],
   "source": [
    "# 创建Raspbot对象 bot Create the Raspbot object bot\n",
    "bot = Raspbot()\n",
    "# 创建oled对象 Create an oled object\n",
    "oled = Yahboom_OLED(debug=False)"
   ]
  },
  {
   "cell_type": "code",
   "execution_count": null,
   "id": "649029f5-902c-42aa-a226-bb57cbd5d148",
   "metadata": {
    "scrolled": true
   },
   "outputs": [],
   "source": [
    "def main():\n",
    "    try:\n",
    "        # 打开超声波测距功能 Turn on the ultrasonic ranging function\n",
    "        bot.Ctrl_Ulatist_Switch(1)\n",
    "        time.sleep(0.1)  # 给超声波传感器一点时间来测量 Give the ultrasonic sensor some time to measure\n",
    "        oled.init_oled_process() #初始化oled进程 Initialize oled process\n",
    "        while True:\n",
    "            # 读取超声波传感器的距离 Reading distance from ultrasonic sensor\n",
    "            diss_H =bot.read_data_array(0x1b,1)[0]\n",
    "            diss_L =bot.read_data_array(0x1a,1)[0]\n",
    "            dis = diss_H << 8 | diss_L \n",
    "            # 打印距离 Print distance\n",
    "            print(f\"Ultrasonic Distance: {dis} mm\")\n",
    "\n",
    "            oled.clear()\n",
    "            ult_str=f'{dis:>10} mm'\n",
    "            oled.add_line('Ultrasonic Distance:', 1)\n",
    "            oled.add_line(ult_str, 3)\n",
    "            oled.refresh()\n",
    "            # 关闭超声波测距功能，节省资源 Disable the ultrasonic ranging function to save resources\n",
    "            # bot.Ctrl_Ulatist_Switch(0)\n",
    "            time.sleep(0.05)  # 每隔0.05秒读取一次距离 Read the distance every 1 second\n",
    "\n",
    "    except KeyboardInterrupt:\n",
    "        # 当程序结束时，关闭超声波测距功能 When the program ends, turn off the ultrasonic ranging function\n",
    "        bot.Ctrl_Ulatist_Switch(0)\n",
    "        # 恢复屏幕基础数据显示 Restore basic data display on screen\n",
    "        os.system(\"python3 /home/pi/software/oled_yahboom/yahboom_oled.py &\")\n",
    "        print(\"Ultrasonic sensor turned off.\")\n",
    "\n",
    "if __name__ == \"__main__\":\n",
    "    main()"
   ]
  },
  {
   "cell_type": "code",
   "execution_count": null,
   "id": "dca91e00-07fb-409d-a4e5-6774d929ad36",
   "metadata": {},
   "outputs": [],
   "source": [
    "# 关闭超声波测距功能 Disable ultrasonic ranging function\n",
    "bot.Ctrl_Ulatist_Switch(0)\n",
    "# 程序结束后请删除对象，避免在其他程序中使用Raspbot库造成冲突\n",
    "# After the program is complete, delete the object to avoid conflicts caused by using the library in other programs\n",
    "del bot"
   ]
  }
 ],
 "metadata": {
  "kernelspec": {
   "display_name": "Python 3 (ipykernel)",
   "language": "python",
   "name": "python3"
  },
  "language_info": {
   "codemirror_mode": {
    "name": "ipython",
    "version": 3
   },
   "file_extension": ".py",
   "mimetype": "text/x-python",
   "name": "python",
   "nbconvert_exporter": "python",
   "pygments_lexer": "ipython3",
   "version": "3.11.2"
  }
 },
 "nbformat": 4,
 "nbformat_minor": 5
}
