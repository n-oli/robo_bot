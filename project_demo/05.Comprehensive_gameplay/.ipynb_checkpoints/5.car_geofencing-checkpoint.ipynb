{
 "cells": [
  {
   "cell_type": "raw",
   "metadata": {},
   "source": [
    "@Copyright (C): 2015-2024, Shenzhen Yahboom Tech\n",
    "@Date: 2024/08/08 \n",
    "@Author: clhchan "
   ]
  },
  {
   "cell_type": "code",
   "execution_count": null,
   "metadata": {},
   "outputs": [],
   "source": [
    "import sys\n",
    "import time\n",
    "\n",
    "sys.path.append('/home/pi/project_demo/lib')\n",
    "# 导入麦克纳姆小车驱动库 Import Mecanum Car Driver Library\n",
    "from McLumk_Wheel_Sports import *\n",
    "\n",
    "speed = 20#20\n",
    "\n",
    "try:\n",
    "    while True:\n",
    "        # 从I2C读取巡线传感器数据 Read line sensor data from I2C\n",
    "        track_data = bot.read_data_array(0x0a, 1)\n",
    "        track = int(track_data[0])\n",
    "\n",
    "        # 解析巡线传感器的状态 Analyze the status of the line patrol sensor\n",
    "        x1 = (track >> 3) & 0x01  \n",
    "        x2 = (track >> 2) & 0x01  \n",
    "        x3 = (track >> 1) & 0x01  \n",
    "        x4 = track & 0x01       \n",
    "        \"\"\"\n",
    "        X2 X1 X3 X4\n",
    "        |  |  |  |\n",
    "        L1 L2 R1 R2\n",
    "        \"\"\"\n",
    "        lineL1 = x2\n",
    "        lineL2 = x1\n",
    "        lineR1 = x3\n",
    "        lineR2 = x4\n",
    "\n",
    "        # 0000\n",
    "        if not lineL1 and not lineL2 and not lineR1 and not lineR2:\n",
    "            rotate_right(speed) \n",
    "            time.sleep(1)\n",
    "        # 1X00\n",
    "        elif lineL1 and not lineR1 and not lineR2:\n",
    "            rotate_left(speed-10) \n",
    "            time.sleep(1)\n",
    "        # 00X1\n",
    "        elif not lineL1 and not lineL2 and lineR2:\n",
    "            rotate_right(speed-10)\n",
    "            time.sleep(1)\n",
    "        # 10X1\n",
    "        elif lineL1 and not lineL2 and lineR2:\n",
    "            rotate_right(speed-10)\n",
    "            time.sleep(1)\n",
    "        # 1X01\n",
    "        elif lineL1 and not lineR1 and lineR2:\n",
    "            rotate_right(speed-10)\n",
    "            time.sleep(1)    \n",
    "        # 0110\n",
    "        elif not lineL1 and lineL2 and lineR1 and not lineR2:\n",
    "            rotate_right(speed-10)\n",
    "            time.sleep(1)\n",
    "        # 0111\n",
    "        elif not lineL1 and lineL2 and lineR1 and lineR2:\n",
    "            rotate_right(speed-15)\n",
    "            time.sleep(1)\n",
    "        # 1110\n",
    "        elif lineL1 and lineL2 and lineR1 and not lineR2:\n",
    "            rotate_left(speed-15)\n",
    "            time.sleep(1)\n",
    "        # 1111\n",
    "        elif lineL1 and lineL2 and lineR1 and lineR2:\n",
    "            move_forward(speed) \n",
    "\n",
    "        # 等待一段时间再进行下一次检测 Wait for a while before the next test\n",
    "        time.sleep(0.01)\n",
    "\n",
    "except KeyboardInterrupt:\n",
    "    # 当用户中断程序时，确保所有电机停止 Ensure that all motors stop when the user interrupts the program\n",
    "    stop_robot()\n",
    "    print(\"Ending\")"
   ]
  },
  {
   "cell_type": "code",
   "execution_count": null,
   "metadata": {},
   "outputs": [],
   "source": [
    "stop_robot()\n",
    "# 清理资源 Cleaning up resources\n",
    "del bot"
   ]
  }
 ],
 "metadata": {
  "kernelspec": {
   "display_name": "Python 3 (ipykernel)",
   "language": "python",
   "name": "python3"
  },
  "language_info": {
   "codemirror_mode": {
    "name": "ipython",
    "version": 3
   },
   "file_extension": ".py",
   "mimetype": "text/x-python",
   "name": "python",
   "nbconvert_exporter": "python",
   "pygments_lexer": "ipython3",
   "version": "3.11.2"
  }
 },
 "nbformat": 4,
 "nbformat_minor": 4
}
