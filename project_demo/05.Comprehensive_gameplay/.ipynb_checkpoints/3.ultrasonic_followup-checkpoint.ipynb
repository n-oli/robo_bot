{
 "cells": [
  {
   "cell_type": "raw",
   "metadata": {},
   "source": [
    "@Copyright (C): 2015-2024, Shenzhen Yahboom Tech  \n",
    "@Author: clhchan\n",
    "@Date: 2024-07-23 10:10:02  "
   ]
  },
  {
   "cell_type": "code",
   "execution_count": null,
   "metadata": {
    "scrolled": true
   },
   "outputs": [],
   "source": [
    "#!/usr/bin/python3\n",
    "# -*- coding: UTF-8 -*-\n",
    "import sys\n",
    "sys.path.append('/home/pi/project_demo/lib')\n",
    "#导入麦克纳姆小车驱动库 Import Mecanum Car Driver Library\n",
    "from McLumk_Wheel_Sports import *\n",
    "\n",
    "# Constants related to the ultrasonic sensor\n",
    "NEAR_DISTANCE = 150  # 定义近距离阈值（毫米） Define near distance threshold (millimeters) \n",
    "MID_DISTANCE = 300   # 定义中间距离阈值（毫米） Define mid distance threshold (millimeters)\n",
    "FAR_DISTANCE = 500   # 定义远距离阈值（毫米） Define far distance threshold (millimeters)\n",
    "\n",
    "def car_follow():\n",
    "    # Read the distance from the ultrasonic sensor\n",
    "    diss_H =bot.read_data_array(0x1b,1)[0]\n",
    "    diss_L =bot.read_data_array(0x1a,1)[0]\n",
    "    dis = diss_H << 8 | diss_L \n",
    "\n",
    "    # Print distance\n",
    "    #print(f\"Ultrasonic Distance: {dis} mm\")\n",
    "\n",
    "    if dis < NEAR_DISTANCE:\n",
    "        print(f\"Obstacle is very close, distance: {dis} mm\")\n",
    "        move_backward(speed)\n",
    "        # time.sleep(0.1)\n",
    "    elif NEAR_DISTANCE <= dis <= MID_DISTANCE:\n",
    "        print(f\"Obstacle is at medium distance, distance: {dis} mm\")\n",
    "        stop_robot()\n",
    "    elif MID_DISTANCE < dis < FAR_DISTANCE:\n",
    "        print(f\"Obstacle is at far distance, distance: {dis} mm\")\n",
    "        move_forward(speed)\n",
    "    elif dis >= FAR_DISTANCE:\n",
    "        print(f\"No obstacle, distance: {dis} mm\")\n",
    "        stop_robot()\n",
    "    else:\n",
    "        print(\"Unknown situation, stopping\")\n",
    "        stop_robot()\n",
    "\n",
    "speed = 50  # 设定车速 Set vehicle speed \n",
    "\n",
    "try:\n",
    "    # 开启超声波测距功能 Turn on ultrasonic ranging function \n",
    "    bot.Ctrl_Ulatist_Switch(1)\n",
    "    time.sleep(0.1)  # 给超声波传感器一些时间来测量 Give the ultrasonic sensor some time to measure\n",
    "    while True:\n",
    "        car_follow()\n",
    "        time.sleep(0.1)  # 每秒检查一次 Check once every second\n",
    "\n",
    "except KeyboardInterrupt:\n",
    "    # 当用户中断程序时，确保所有电机停止 When the user interrupts the program, ensure all motors stop\n",
    "    bot.Ctrl_Ulatist_Switch(0)\n",
    "    time.sleep(0.1)\n",
    "    stop_robot()\n",
    "    print(\"Ending\")"
   ]
  },
  {
   "cell_type": "code",
   "execution_count": null,
   "metadata": {},
   "outputs": [],
   "source": [
    "# 清理资源 Cleaning up resources\n",
    "del bot"
   ]
  },
  {
   "cell_type": "code",
   "execution_count": null,
   "metadata": {},
   "outputs": [],
   "source": []
  }
 ],
 "metadata": {
  "kernelspec": {
   "display_name": "Python 3 (ipykernel)",
   "language": "python",
   "name": "python3"
  },
  "language_info": {
   "codemirror_mode": {
    "name": "ipython",
    "version": 3
   },
   "file_extension": ".py",
   "mimetype": "text/x-python",
   "name": "python",
   "nbconvert_exporter": "python",
   "pygments_lexer": "ipython3",
   "version": "3.11.2"
  }
 },
 "nbformat": 4,
 "nbformat_minor": 4
}
