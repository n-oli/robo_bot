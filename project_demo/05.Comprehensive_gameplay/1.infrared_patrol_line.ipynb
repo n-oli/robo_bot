{
 "cells": [
  {
   "cell_type": "raw",
   "metadata": {},
   "source": [
    "@Copyright (C): 2015-2024, Shenzhen Yahboom Tech  \n",
    "@Author: clhchan\n",
    "@Date: 2024-07-23 10:10:02  "
   ]
  },
  {
   "cell_type": "code",
   "execution_count": null,
   "metadata": {
    "scrolled": true
   },
   "outputs": [],
   "source": [
    "import sys\n",
    "sys.path.append('/home/pi/project_demo/lib')\n",
    "#导入麦克纳姆小车驱动库 Import Mecanum Car Driver Library\n",
    "from McLumk_Wheel_Sports import *\n",
    "\n",
    "speed =3o#30\n",
    "try:\n",
    "    while True:\n",
    "        # 从I2C读取巡线传感器数据 Read line sensor data from I2C\n",
    "        track_data = bot.read_data_array(0x0a, 1)\n",
    "        track = int(track_data[0])\n",
    "\n",
    "        # 解析巡线传感器的状态 Analyze the status of the line patrol sensor\n",
    "        x1 = (track >> 3) & 0x01  \n",
    "        x2 = (track >> 2) & 0x01  \n",
    "        x3 = (track >> 1) & 0x01  \n",
    "        x4 = track & 0x01       \n",
    "        \"\"\"\n",
    "        X2 X1 X3 X4\n",
    "        |  |  |  |\n",
    "        L1 L2 R1 R2\n",
    "        \"\"\"\n",
    "        lineL1=x2\n",
    "        lineL2=x1\n",
    "        lineR1=x3\n",
    "        lineR2=x4\n",
    "\n",
    "        if lineL1 == 0 and lineL2 == 0 and lineR1 == 0 and lineR2 == 0:  # 都是黑色, 加速前进 All black, speed up\n",
    "            print(\"1\")\n",
    "            print(lineL1,lineL2,lineR1,lineR2)\n",
    "            move_forward(int(speed))\n",
    "        elif( (lineL2 == 0 or lineL1 == 0) and lineR2 == 0):#右锐角：右大弯,0表示检测到黑线 Right acute angle: right big bend, 0 means black line is detected\n",
    "            print(\"2\")\n",
    "            print(lineL1,lineL2,lineR1,lineR2)\n",
    "            rotate_right(speed)\n",
    "            time.sleep(0.05)\n",
    "        elif lineL1 == 0 and (lineR2 == 0 or lineR1 == 0):  # 左锐角或左大弯 Left sharp angle or left sharp bend\n",
    "            print(\"3\")\n",
    "            print(lineL1,lineL2,lineR1,lineR2) \n",
    "            rotate_left(int(speed*1.5))  # 左急转弯 Sharp left turn\n",
    "            time.sleep(0.15)\n",
    "        elif lineL1 == 0:  # 左最外侧检测 Left outermost detection\n",
    "            print(\"4\")\n",
    "            print(lineL1,lineL2,lineR1,lineR2)\n",
    "            rotate_left(speed)  # 左急转弯 Sharp left turn\n",
    "            time.sleep(0.02)\n",
    "        elif lineR2 == 0:  # 右最外侧检测 Right outermost detection\n",
    "            print(\"5\")\n",
    "            print(lineL1,lineL2,lineR1,lineR2)\n",
    "            rotate_right(speed)\n",
    "            time.sleep(0.01)\n",
    "        elif lineL2 == 0 and lineR1 == 1:  # 中间黑线上的传感器微调车左转 The sensor on the middle black line fine-tunes the car to turn left\n",
    "            print(\"6\")\n",
    "            print(lineL1,lineL2,lineR1,lineR2)\n",
    "            rotate_left(int(speed))  # 左转 Turn left\n",
    "        elif lineL2 == 1 and lineR1 == 0:  # 中间黑线上的传感器微调车右转 The sensor on the middle black line fine-tunes the car to turn right\n",
    "            print(\"7\")\n",
    "            print(lineL1,lineL2,lineR1,lineR2) \n",
    "            rotate_right(int(speed)) #右转 Turn right\n",
    "        elif lineL2 == 0 and lineR1 == 0:  # 都是黑色, 加速前进 All black, speed up\n",
    "            print(\"8\")\n",
    "            print(lineL1,lineL2,lineR1,lineR2)\n",
    "            move_forward(speed)\n",
    "\n",
    "        # 等待一段时间再进行下一次检测 Wait for a while before the next test\n",
    "        time.sleep(0.01)\n",
    "\n",
    "except KeyboardInterrupt:\n",
    "    # 当用户中断程序时，确保所有电机停止 Ensure that all motors stop when the user interrupts the program\n",
    "    stop()\n",
    "    print(\"Ending\")\n"
   ]
  },
  {
   "cell_type": "code",
   "execution_count": null,
   "metadata": {},
   "outputs": [],
   "source": [
    "# 清理资源 Release resources\n",
    "stop()\n",
    "del bot"
   ]
  },
  {
   "cell_type": "code",
   "execution_count": null,
   "metadata": {},
   "outputs": [],
   "source": []
  }
 ],
 "metadata": {
  "kernelspec": {
   "display_name": "Python 3 (ipykernel)",
   "language": "python",
   "name": "python3"
  },
  "language_info": {
   "codemirror_mode": {
    "name": "ipython",
    "version": 3
   },
   "file_extension": ".py",
   "mimetype": "text/x-python",
   "name": "python",
   "nbconvert_exporter": "python",
   "pygments_lexer": "ipython3",
   "version": "3.11.2"
  }
 },
 "nbformat": 4,
 "nbformat_minor": 4
}
