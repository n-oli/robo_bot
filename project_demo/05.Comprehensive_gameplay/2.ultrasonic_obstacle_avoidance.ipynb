{
 "cells": [
  {
   "cell_type": "raw",
   "metadata": {},
   "source": [
    "@Copyright (C): 2015-2024, Shenzhen Yahboom Tech  \n",
    "@Author: clhchan\n",
    "@Date: 2024-07-23 10:10:02  "
   ]
  },
  {
   "cell_type": "code",
   "execution_count": null,
   "metadata": {
    "scrolled": true
   },
   "outputs": [],
   "source": [
    "#!/usr/bin/python3\n",
    "# -*- coding: UTF-8 -*-\n",
    "import sys\n",
    "sys.path.append('/home/pi/project_demo/lib')\n",
    "#导入麦克纳姆小车驱动库 Import Mecanum Car Driver Library\n",
    "from McLumk_Wheel_Sports import *\n",
    "\n",
    "# Constants related to the ultrasonic sensor\n",
    "NEAR_DISTANCE = 200  # Define near distance threshold (millimeters)\n",
    "FAR_DISTANCE = 425   # Define far distance threshold (millimeters)\n",
    "\n",
    "def car_avoid():\n",
    "\n",
    "\n",
    "    # 读取超声波传感器的距离 Reading distance from ultrasonic sensor\n",
    "    diss_H =bot.read_data_array(0x1b,1)[0]\n",
    "    diss_L =bot.read_data_array(0x1a,1)[0]\n",
    "    dis = diss_H << 8 | diss_L \n",
    "\n",
    "    # 打印距离 Printing distance\n",
    "    #print(f\"Ultrasonic Distance: {dis} mm\")\n",
    "    time.sleep(0.05)  # 每隔1秒读取一次距离 Read the distance every 1 second\n",
    "\n",
    "    if dis < NEAR_DISTANCE:\n",
    "        print(f\"Obstacle is very close, distance: {dis} mm\")\n",
    "        move_backward(speed)\n",
    "        time.sleep(0.1)\n",
    "    elif NEAR_DISTANCE <= dis <= FAR_DISTANCE:\n",
    "        print(f\"Obstacle is at medium distance, distance: {dis} mm\")\n",
    "        stop_robot()\n",
    "        time.sleep(0.2)\n",
    "        rotate_left(speed)\n",
    "        time.sleep(0.15)\n",
    "    elif FAR_DISTANCE < dis:\n",
    "        print(f\"No obstacle, distance: {dis} mm\")\n",
    "        move_forward(speed)\n",
    "\n",
    "    else:\n",
    "        print(\"Unknown situation, stopping\")\n",
    "        stop_robot()\n",
    "        time.sleep(0.2)\n",
    "\n",
    "speed = 20  # Set vehicle speed\n",
    "\n",
    "try:\n",
    "    # 打开超声波测距功能 Turn on the ultrasonic ranging function\n",
    "    bot.Ctrl_Ulatist_Switch(1)\n",
    "    time.sleep(0.1)  # 给超声波传感器一点时间来测量 Give the ultrasonic sensor some time to measure\n",
    "    while True:\n",
    "        car_avoid()\n",
    "\n",
    "except KeyboardInterrupt:\n",
    "    # When the user interrupts the program, ensure all motors stop\n",
    "    bot.Ctrl_Ulatist_Switch(0)\n",
    "    time.sleep(0.1)\n",
    "    stop_robot()\n",
    "    print(\"Ending\")\n"
   ]
  },
  {
   "cell_type": "code",
   "execution_count": null,
   "metadata": {},
   "outputs": [],
   "source": [
    "# 清理资源 Cleaning up resources\n",
    "del bot"
   ]
  },
  {
   "cell_type": "code",
   "execution_count": null,
   "metadata": {},
   "outputs": [],
   "source": []
  }
 ],
 "metadata": {
  "kernelspec": {
   "display_name": "Python 3 (ipykernel)",
   "language": "python",
   "name": "python3"
  },
  "language_info": {
   "codemirror_mode": {
    "name": "ipython",
    "version": 3
   },
   "file_extension": ".py",
   "mimetype": "text/x-python",
   "name": "python",
   "nbconvert_exporter": "python",
   "pygments_lexer": "ipython3",
   "version": "3.11.2"
  }
 },
 "nbformat": 4,
 "nbformat_minor": 4
}
